{
 "cells": [
  {
   "cell_type": "code",
   "execution_count": 5,
   "metadata": {
    "tags": []
   },
   "outputs": [
    {
     "name": "stdout",
     "output_type": "stream",
     "text": [
      "NAME  sachin\n",
      "Address  122 Block G, Rohini\n",
      "EMAIL ID  jagdevyadav@gmail.com\n",
      "198 9999\n",
      "sachin\n",
      "s\n",
      "6\n",
      "h\n"
     ]
    }
   ],
   "source": [
    "#STRING: The consecutive sequences of letters, spaces, symbols is known as Strings. String is a data type supported by python. We can store all letters, digits, spaces, and symbols in a string. String character need to be enclosed in quotes '', \"\", for example \"9\", \"A\", 'B', \"99\", \"House No.122 Block G\", \"a+b\"\n",
    "\n",
    "#INDEX: Each string values has an index that helps in accessing all characters of string\n",
    "\n",
    "name=\"sachin\"\n",
    "addr=\"122 Block G, Rohini\"\n",
    "email=\"jagdevyadav@gmail.com\"\n",
    "print(\"NAME \",name)\n",
    "print(\"Address \",addr)\n",
    "print(\"EMAIL ID \",email)\n",
    "\n",
    "#ANYTHING ENCLSOED IN QUOTES IS A STRING CONSTANT, VALUES ASSIGNED IN QUOTIES TO VARIABLES ARE STRING VARIABLES\n",
    "\n",
    "#OTHER WAYS TO SPECIFY STRING TYPE:\n",
    "marks=99\n",
    "mark=str(marks)\n",
    "print(marks*2,mark*2)\n",
    "\n",
    "#incase of integer operations * sign act as product operator \n",
    "#whereas in case of string type * sign act as replication operator\n",
    "\n",
    "#Accessing String characters\n",
    "print(name) #sachin\n",
    "print(name[0]) #s\n",
    "print(len(name))#6\n",
    "print(name[3]) #h\n"
   ]
  },
  {
   "cell_type": "code",
   "execution_count": 17,
   "metadata": {
    "tags": []
   },
   "outputs": [
    {
     "name": "stdout",
     "output_type": "stream",
     "text": [
      "d\n",
      "a\n",
      "v\n",
      " \n",
      "s\n",
      "c\n",
      "h\n",
      "o\n",
      "o\n",
      "l\n",
      "dav school\n",
      "school\n",
      "loohcs vad\n",
      "dav\n",
      "dav\n",
      "dav school\n",
      "aaaaa\n",
      "this    is        a            line\n"
     ]
    }
   ],
   "source": [
    "#processing a string using a loop\n",
    "\n",
    "var=\"dav school\"\n",
    "for i in var:\n",
    "    print(i)\n",
    "\n",
    "#using indexes of a string from left to right\n",
    "print(var[0:])\n",
    "print(var[4:])\n",
    "print(var[::-1])\n",
    "print(var[-10:-7])\n",
    "print(var[0:3])\n",
    "\n",
    "#when we the above techniqe to print print string elements using its indexes then it is called SLICING\n",
    "\n",
    "#CHARACTER DATA TYPE: Python does not support character data type.  Any character enclosed in single or double quotes is known as Character Type\n",
    "\n",
    "#TYPES OF CREATING A STRING\n",
    "\n",
    "name=\"dav school\" #through initialization\n",
    "school=input(\"Enter School Name\") #through keyboard input using input()\n",
    "print(name)\n",
    "print(school)"
   ]
  },
  {
   "cell_type": "code",
   "execution_count": 18,
   "metadata": {
    "tags": []
   },
   "outputs": [
    {
     "name": "stdout",
     "output_type": "stream",
     "text": [
      "this    is        a            line\n"
     ]
    }
   ],
   "source": [
    "#CREATING MULTILINE STRING\n",
    "\n",
    "line=\"\"\"this\\\n",
    "    is\\\n",
    "        a\\\n",
    "            line\"\"\"\n",
    "print(line)"
   ]
  },
  {
   "cell_type": "code",
   "execution_count": 26,
   "metadata": {
    "tags": []
   },
   "outputs": [
    {
     "name": "stdout",
     "output_type": "stream",
     "text": [
      "XI A \n",
      " dav centenary public school 55\n",
      "XI A \n",
      "\t dav centenary public school \t\t\t 55\n"
     ]
    }
   ],
   "source": [
    "#ESCAPE SEQUENCE \\n and \\t\n",
    "#\\n  it is used to display text after \\n in new line\n",
    "#\\t it is used to display text after a tab\n",
    "\n",
    "clas=\"XI\"\n",
    "sec=\"A\"\n",
    "school=\"dav centenary public school\"\n",
    "rno=55\n",
    "print(clas,sec,\"\\n\",school,rno)  #, give single space\n",
    "print(clas,sec,\"\\n\\t\",school,\"\\t\\t\\t\",rno)\n"
   ]
  },
  {
   "cell_type": "code",
   "execution_count": 31,
   "metadata": {
    "tags": []
   },
   "outputs": [
    {
     "name": "stdout",
     "output_type": "stream",
     "text": [
      "d\n"
     ]
    },
    {
     "ename": "TypeError",
     "evalue": "'str' object does not support item assignment",
     "output_type": "error",
     "traceback": [
      "\u001b[0;31m---------------------------------------------------------------------------\u001b[0m",
      "\u001b[0;31mTypeError\u001b[0m                                 Traceback (most recent call last)",
      "\u001b[0;32m<ipython-input-31-7bcd7d2709ed>\u001b[0m in \u001b[0;36m<module>\u001b[0;34m\u001b[0m\n\u001b[1;32m      3\u001b[0m \u001b[0;34m\u001b[0m\u001b[0m\n\u001b[1;32m      4\u001b[0m \u001b[0mprint\u001b[0m\u001b[0;34m(\u001b[0m\u001b[0ms\u001b[0m\u001b[0;34m[\u001b[0m\u001b[0;36m0\u001b[0m\u001b[0;34m]\u001b[0m\u001b[0;34m)\u001b[0m\u001b[0;34m\u001b[0m\u001b[0;34m\u001b[0m\u001b[0m\n\u001b[0;32m----> 5\u001b[0;31m \u001b[0ms\u001b[0m\u001b[0;34m[\u001b[0m\u001b[0;36m0\u001b[0m\u001b[0;34m]\u001b[0m\u001b[0;34m=\u001b[0m\u001b[0;34m'D'\u001b[0m  \u001b[0;31m#it will generate error as strings are immutable sequences\u001b[0m\u001b[0;34m\u001b[0m\u001b[0;34m\u001b[0m\u001b[0m\n\u001b[0m\u001b[1;32m      6\u001b[0m \u001b[0;34m\u001b[0m\u001b[0m\n",
      "\u001b[0;31mTypeError\u001b[0m: 'str' object does not support item assignment"
     ]
    }
   ],
   "source": [
    "#STRING ARE IMMUTABLE: String contents can not be changed\n",
    "s=\"dav school\"\n",
    "\n",
    "print(s[0])\n",
    "s[0]='D'  #it will generate error as strings are immutable sequences"
   ]
  },
  {
   "cell_type": "code",
   "execution_count": 2,
   "metadata": {
    "tags": []
   },
   "outputs": [
    {
     "name": "stdout",
     "output_type": "stream",
     "text": [
      "G\n",
      "r\n",
      "e\n",
      "e\n",
      "n\n",
      " \n",
      "R\n",
      "e\n",
      "v\n",
      "o\n",
      "l\n",
      "u\n",
      "t\n",
      "i\n",
      "o\n",
      "n\n",
      "\n",
      "G\n",
      "r\n",
      "e\n",
      "e\n",
      "n\n",
      " \n",
      "R\n",
      "e\n",
      "v\n",
      "o\n",
      "l\n",
      "u\n",
      "t\n",
      "i\n",
      "o\n",
      "n\n"
     ]
    }
   ],
   "source": [
    "#Oct 21, 2020 Wednesday\n",
    "#TRAVERSING A STRING: It means scanning each element of the string, for example:\n",
    "string=\"Green Revolution\" \n",
    "for i in string:\n",
    "    print(i) #it loop will scan/read each letter of the string and put in i, the print(i) will print the letter on screen\n",
    "\n",
    "#The WHILE Loop can also be used for the same purpose, for example\n",
    "print() #to insert a blank line between outputs of both codes\n",
    "i=0\n",
    "while i<len(string):\n",
    "    print(string[i])\n",
    "    i+=1 #all letters of string will be printed vertically\n",
    "\n",
    "#Note: in order to print all letters in same row end=\"\" can be used inside print(), for example: print(string[i],end=\"\")"
   ]
  },
  {
   "cell_type": "code",
   "execution_count": 8,
   "metadata": {
    "tags": []
   },
   "outputs": [
    {
     "name": "stdout",
     "output_type": "stream",
     "text": [
      "OneTwo\n",
      "TwoTwoTwo\n",
      "True\n",
      "False\n",
      "True\n"
     ]
    }
   ],
   "source": [
    "#STRING OPERATIONS: Variety of operations can be performed with Strings:\n",
    "\n",
    "# + Concatenation: It means join. Two strings can be concatenated together using operator + for example:\n",
    "\n",
    "string1=\"One\"\n",
    "string2=\"Two\"\n",
    "string3=string1+string2\n",
    "print(string3) #there will be no space between string1 and string2\n",
    "\n",
    "# * Replication/Repeatition: When asterisk used with a string than instead of product it will repeat the string number of times equivalent to the number given after *, for example:\n",
    "print(string2*3)\n",
    "\n",
    "# in      It is known as membership operator. It returns True if the specified value is present in the string, for example:\n",
    "\n",
    "result=string2 in string3 #will result in True\n",
    "print(result)\n",
    "result=string1 in string2 #will result in False\n",
    "print(result)\n",
    "\n",
    "# not in   it is opposite of membership operator in.  It returns True if the given value is not present in the String otherwise it returns False.\n",
    "\n",
    "result=string1 not in string2 #will result in True\n",
    "print(result)"
   ]
  },
  {
   "cell_type": "code",
   "execution_count": 10,
   "metadata": {
    "tags": []
   },
   "outputs": [
    {
     "name": "stdout",
     "output_type": "stream",
     "text": [
      "Computer Science\n",
      "Computer Science\n",
      "p\n",
      "puter Science\n",
      "n\n",
      "nce\n",
      "ecneicS retupmoC\n",
      "Cmue cec\n",
      "eniSrtpo\n"
     ]
    }
   ],
   "source": [
    "#October 26, 2020 Monday\n",
    "#SLICING: It means extacting element or elements from a string using its indexes and printing substring from the main string. Strings have indexes from 0 to -1 onwards. zero onward left to right, -1 onwards right to left \n",
    "v=\"Computer Science\"\n",
    "print(v)\n",
    "print(v[:]) #[startingindex:endingindex:jump]\n",
    "print(v[3])\n",
    "print(v[3:])\n",
    "print(v[-3])\n",
    "print(v[-3:])\n",
    "print(v[::-1]) #it will reverse the string\n",
    "print(v[::2]) #it will print every alternate index element of string\n",
    "print(v[::-2]) #from reverse it will print every alternate elemet of string"
   ]
  },
  {
   "cell_type": "code",
   "execution_count": 15,
   "metadata": {
    "tags": []
   },
   "outputs": [
    {
     "name": "stdout",
     "output_type": "stream",
     "text": [
      "10\n",
      "Number of letters in string are  10\n",
      "10\n"
     ]
    }
   ],
   "source": [
    "#len(string): it will return length count of elementes present in string including spaces\n",
    "v=\"dav school\"\n",
    "print(len(v))\n",
    "l=len(v)\n",
    "print(\"Number of letters in string are \",l)\n",
    "c=0\n",
    "for i in v:\n",
    "    c+=1\n",
    "print(\"Length of string is \",c)"
   ]
  },
  {
   "cell_type": "code",
   "execution_count": 18,
   "metadata": {
    "tags": []
   },
   "outputs": [
    {
     "name": "stdout",
     "output_type": "stream",
     "text": [
      "dav school\n",
      "Dav school\n",
      "Dav school\n"
     ]
    }
   ],
   "source": [
    "#string.capitalize(): it will change the first letter of the string to uppercase\n",
    "v=\"dav school\"\n",
    "print(v)\n",
    "print(v.capitalize())\n",
    "x=v.capitalize()\n",
    "print(x)"
   ]
  },
  {
   "cell_type": "code",
   "execution_count": 1,
   "metadata": {
    "tags": []
   },
   "outputs": [
    {
     "name": "stdout",
     "output_type": "stream",
     "text": [
      "2\n",
      "5\n",
      "-1\n"
     ]
    }
   ],
   "source": [
    "#string.find(substring,occurence)\n",
    "#string.find(substring,startingindex,endingindex)\n",
    "string=\"this is a string. a string is a line enclaosed in quotes\"\n",
    "print(string.find('is'))\n",
    "print(string.find('is',3,10))\n",
    "print(string.find('my'))"
   ]
  },
  {
   "cell_type": "code",
   "execution_count": 6,
   "metadata": {
    "tags": []
   },
   "outputs": [
    {
     "name": "stdout",
     "output_type": "stream",
     "text": [
      "False\n",
      "It is containing special character\n"
     ]
    }
   ],
   "source": [
    "#OCT 27, 2020 TUESDAY\n",
    "#string.isalnum() It returns True when a string is containing only Alphabets and Digits, otherwise it returns False in case the string contains characters such as space, @, !, #, $, %, ^, &, *, ()\n",
    "\n",
    "string=input(\"Input String\")\n",
    "print(string.isalnum())\n",
    "\n",
    "if string.isalnum():\n",
    "    print(\"It is alphnumeric\")\n",
    "else:\n",
    "    print(\"It is containing special character\")"
   ]
  },
  {
   "cell_type": "code",
   "execution_count": 9,
   "metadata": {
    "tags": []
   },
   "outputs": [
    {
     "name": "stdout",
     "output_type": "stream",
     "text": [
      "Containing other than letters\n"
     ]
    }
   ],
   "source": [
    "#string.isalpha() it returns True if the string contains only letters otherwise it will return False\n",
    "string=input(\"Provide an Input\")\n",
    "if string.isalpha():\n",
    "    print(\"Containing only letters\")\n",
    "else:\n",
    "    print(\"Containing other than letters\")"
   ]
  },
  {
   "cell_type": "code",
   "execution_count": 16,
   "metadata": {
    "tags": []
   },
   "outputs": [
    {
     "name": "stdout",
     "output_type": "stream",
     "text": [
      "String contains other then digits\n"
     ]
    }
   ],
   "source": [
    "#string.isdigit()  It returns Ture if the string contains only digits from 0-9 otherwise it returns False\n",
    "string=input(\"Input\")\n",
    "if string.isdigit():\n",
    "    print(\"String contains only digits\")\n",
    "else:\n",
    "    print(\"String contains other then digits\")"
   ]
  },
  {
   "cell_type": "code",
   "execution_count": 20,
   "metadata": {
    "tags": []
   },
   "outputs": [
    {
     "name": "stdout",
     "output_type": "stream",
     "text": [
      "line in lower case\n",
      "line in lower CASE\n",
      "line in lower case\n",
      "LINE IN LOWER CASE\n"
     ]
    }
   ],
   "source": [
    "#string.lower() it converts string letters to lowercase, if they are in uppercase otherwise no change\n",
    "#string.upper() it converts string letters to uppercase, if they are in lowercase otherwise no change\n",
    "string=input(\"Enter a string\")\n",
    "print(string.lower())\n",
    "print(string)\n",
    "string=string.lower()\n",
    "print(string)\n",
    "string=string.upper()\n",
    "print(string)"
   ]
  },
  {
   "cell_type": "code",
   "execution_count": 23,
   "metadata": {
    "tags": []
   },
   "outputs": [
    {
     "name": "stdout",
     "output_type": "stream",
     "text": [
      "happy coding\n"
     ]
    }
   ],
   "source": [
    "#string.islower() it returns True if the string is in lowercase otherwise it returns False\n",
    "#string.isupper() it returns True if the string is in uppercase otherwise it returns False\n",
    "string=input()\n",
    "if string.islower():\n",
    "    string=string.upper()\n",
    "    print(string)\n",
    "elif string.isupper():\n",
    "    string=string.lower()\n",
    "    print(string)"
   ]
  },
  {
   "cell_type": "code",
   "execution_count": 8,
   "metadata": {
    "tags": []
   },
   "outputs": [
    {
     "name": "stdout",
     "output_type": "stream",
     "text": [
      "  this is a line\n",
      "this is a line\n",
      "is is a line\n"
     ]
    }
   ],
   "source": [
    "#Oct 28, 2020 Wed\n",
    "#string.lstrip(): It is an overloaded function that is used to trim spaces from left hand side of the string, it can also be used to trim the string passed as argument to lstrip(arg)\n",
    "\n",
    "string=\"  this is a line\"\n",
    "print(string) \n",
    "string=string.lstrip()\n",
    "print(string)\n",
    "string=string.lstrip(\"th\")\n",
    "print(string)"
   ]
  },
  {
   "cell_type": "code",
   "execution_count": 9,
   "metadata": {
    "tags": []
   },
   "outputs": [
    {
     "name": "stdout",
     "output_type": "stream",
     "text": [
      "this is a line      \n",
      "this is a line\n",
      "this is a \n"
     ]
    }
   ],
   "source": [
    "#rstrip(): it is used to remove spaces from right hand side of the string.  The argument passed to rstrip(arg) will be removed from right hand side\n",
    "string=\"this is a line      \"\n",
    "print(string) \n",
    "string=string.rstrip()\n",
    "print(string)\n",
    "string=string.rstrip(\"line\")\n",
    "print(string)"
   ]
  },
  {
   "cell_type": "code",
   "execution_count": 13,
   "metadata": {
    "tags": []
   },
   "outputs": [
    {
     "name": "stdout",
     "output_type": "stream",
     "text": [
      "True\n",
      "False\n"
     ]
    }
   ],
   "source": [
    "#isspace(): it returns True if the string is empty otherwise it returns False\n",
    "string=\"      \"\n",
    "print(string.isspace())\n",
    "string=\" thi is a   \"\n",
    "print(string.isspace())"
   ]
  },
  {
   "cell_type": "code",
   "execution_count": 24,
   "metadata": {
    "tags": []
   },
   "outputs": [
    {
     "name": "stdout",
     "output_type": "stream",
     "text": [
      "This Is Camel Case String True\n",
      "THIS IS CAMEL CASE STRING False\n"
     ]
    }
   ],
   "source": [
    "#istitle(): it returns True is the string's first letter of each word is in upper case otherwise it returns False.  \n",
    "string=\"This Is Camel Case String\"\n",
    "print(string,string.istitle())\n",
    "string=string.upper()\n",
    "print(string,string.istitle())"
   ]
  },
  {
   "cell_type": "code",
   "execution_count": 15,
   "metadata": {
    "tags": []
   },
   "outputs": [
    {
     "name": "stdout",
     "output_type": "stream",
     "text": [
      "this is an old statement\n",
      "this is an new statement\n",
      "newtnewhnewinewsnew newinewsnew newanewnnew newnnewenewwnew newsnewtnewanewtnewenewmnewenewnnewtnew\n"
     ]
    }
   ],
   "source": [
    "#Oct 29,2020 Thursday\n",
    "#string.replace(old,new): this function is used to replace existing elements of the string with new elements\n",
    "string=\"this is an old statement\"\n",
    "string.replace(\"old\",\"new\") #temporary changes available only during execution of statement\n",
    "print(string)\n",
    "string=string.replace(\"old\",\"new\") #changes are saved in string\n",
    "print(string) \n",
    "string=string.replace(\"\",\"new\") #changes are saved in string\n",
    "print(string) "
   ]
  },
  {
   "cell_type": "code",
   "execution_count": 20,
   "metadata": {
    "tags": []
   },
   "outputs": [
    {
     "name": "stdout",
     "output_type": "stream",
     "text": [
      "['this', 'is', 'a', 'list']\n",
      "@\n",
      "this@is@a@list\n"
     ]
    }
   ],
   "source": [
    "#separator.join(string): This function returns a joined separator with strings\n",
    "string=[\"this\",\"is\",\"a\",\"list\"]\n",
    "sep='@'\n",
    "result=sep.join(string)\n",
    "print(string)\n",
    "print(sep)\n",
    "print(result)"
   ]
  },
  {
   "cell_type": "code",
   "execution_count": 21,
   "metadata": {
    "tags": []
   },
   "outputs": [
    {
     "name": "stdout",
     "output_type": "stream",
     "text": [
      "THIS IS A string\n",
      "this is a STRING\n"
     ]
    }
   ],
   "source": [
    "#string.swapcase(): it returns a swapped case string\n",
    "string=\"this is a STRING\"\n",
    "string=string.swapcase()\n",
    "print(string)\n",
    "string=string.swapcase()\n",
    "print(string)"
   ]
  },
  {
   "cell_type": "code",
   "execution_count": 30,
   "metadata": {
    "tags": []
   },
   "outputs": [
    {
     "name": "stdout",
     "output_type": "stream",
     "text": [
      "('the quick brown ', 'fox', ' jumps')\n",
      "('the quick brown fox jumps', '', '')\n",
      "('it was a pleasant ', 'morning', '. it was a sunny morning')\n"
     ]
    }
   ],
   "source": [
    "#string.partition(separator): this function returns a string before separator, the separator, and the string after separator.  if the the value to be separated is not found the string then an error will be displayed\n",
    "\n",
    "string=\"the quick brown fox jumps\"\n",
    "string=string.partition(\"fox\")\n",
    "print(string)\n",
    "string=\"the quick brown fox jumps\"\n",
    "string=string.partition(\"FOX\")\n",
    "print(string)\n",
    "string=\"it was a pleasant morning. it was a sunny morning\"\n",
    "string=string.partition(\"morning\")\n",
    "print(string)   "
   ]
  },
  {
   "cell_type": "code",
   "execution_count": 5,
   "metadata": {
    "tags": []
   },
   "outputs": [
    {
     "name": "stdout",
     "output_type": "stream",
     "text": [
      "['The', 'green', 'earth', 'is', 'a', 'dream']\n",
      "['The', 'green', 'earth is a dream']\n",
      "['The green ', ' is a dream']\n"
     ]
    }
   ],
   "source": [
    "#string.split(separator,n): It will split the string by the separator.  when the argument n is specified the string is splitted into n+1 parts, separated by comama. n is an optoonal argument\n",
    "string=\"The green earth is a dream\"\n",
    "string=string.split(' ')\n",
    "print(string)\n",
    "string=\"The green earth is a dream\"\n",
    "string=string.split(' ',2)\n",
    "print(string)\n",
    "string=\"The green earth is a dream\"\n",
    "string=string.split('earth')\n",
    "print(string)"
   ]
  },
  {
   "cell_type": "code",
   "execution_count": 20,
   "metadata": {
    "tags": []
   },
   "outputs": [
    {
     "name": "stdout",
     "output_type": "stream",
     "text": [
      "ABCDEFGHIJKLMNOPQRSTUVWXYZ\n",
      "abcdefghijklmnopqrstuvwxyz\n",
      "0123456789\n",
      "0123456789abcdefABCDEF\n",
      "01234567\n",
      "!\"#$%&'()*+,-./:;<=>?@[\\]^_`{|}~\n",
      " \t\n",
      "\u000b",
      "\f",
      "\n"
     ]
    }
   ],
   "source": [
    "#some string constants\n",
    "import string\n",
    "print(string.ascii_uppercase)\n",
    "print(string.ascii_lowercase)\n",
    "print(string.digits)\n",
    "print(string.hexdigits)\n",
    "print(string.octdigits)\n",
    "print(string.punctuation)\n",
    "print(string.whitespace)"
   ]
  },
  {
   "cell_type": "code",
   "execution_count": 3,
   "metadata": {
    "tags": []
   },
   "outputs": [
    {
     "name": "stdout",
     "output_type": "stream",
     "text": [
      "0123456789abcdefghijklmnopqrstuvwxyzABCDEFGHIJKLMNOPQRSTUVWXYZ!\"#$%&'()*+,-./:;<=>?@[\\]^_`{|}~ \t\n",
      "\u000b",
      "\f",
      "\n"
     ]
    }
   ],
   "source": [
    "#string.printable: It shows all the printable characters that can be displayed either on screen or on printer.\n",
    "\n",
    "import string\n",
    "print(string.printable)"
   ]
  },
  {
   "cell_type": "code",
   "execution_count": 15,
   "metadata": {},
   "outputs": [],
   "source": [
    "def palin():\n",
    "    strr=input(\"Enter the String\")\n",
    "    l=len(strr)\n",
    "    p=l-1\n",
    "    index=0\n",
    "    while (index<p):\n",
    "        if(strr[index]==strr[p]):\n",
    "            index=index+1\n",
    "            p=p-1\n",
    "        else:\n",
    "            print (\"String is not a palidrome\")\n",
    "            break\n",
    "    else:\n",
    "        print(\"String is a Palidrome\")"
   ]
  },
  {
   "cell_type": "code",
   "execution_count": 20,
   "metadata": {
    "tags": []
   },
   "outputs": [
    {
     "name": "stdout",
     "output_type": "stream",
     "text": [
      "naman\n",
      "naman\n",
      "Palindrome\n"
     ]
    }
   ],
   "source": [
    "#palindrome: if any number or string read forward or backward and gives same meaning then it is a plindrome\n",
    "string=input(\"Enter a string\")\n",
    "print(string[:])\n",
    "print(string[::-1])\n",
    "if string[:]==string[::-1]:\n",
    "    print(\"Palindrome\")\n",
    "else:\n",
    "    print(\"Not Palindrome\")"
   ]
  },
  {
   "cell_type": "code",
   "execution_count": 22,
   "metadata": {
    "tags": []
   },
   "outputs": [
    {
     "name": "stdout",
     "output_type": "stream",
     "text": [
      "Number of counts of  a  is 4\n"
     ]
    }
   ],
   "source": [
    "string=input(\"Enter a string\")\n",
    "ch=input(\"Enter letter to count\")\n",
    "count=0\n",
    "for i in string:\n",
    "    if ch==i:\n",
    "        count+=1\n",
    "print(\"Number of counts of \",ch,\" is\",count)"
   ]
  },
  {
   "cell_type": "code",
   "execution_count": 1,
   "metadata": {
    "tags": []
   },
   "outputs": [
    {
     "name": "stdout",
     "output_type": "stream",
     "text": [
      "3\n"
     ]
    }
   ],
   "source": [
    "word = 'pineapple'\n",
    "count = 0\n",
    "for letter in word:\n",
    "    if letter == 'p':\n",
    "        count = count + 1\n",
    "print(count)"
   ]
  },
  {
   "cell_type": "code",
   "execution_count": 7,
   "metadata": {
    "tags": []
   },
   "outputs": [
    {
     "name": "stdout",
     "output_type": "stream",
     "text": [
      "User input contain Ram\n"
     ]
    }
   ],
   "source": [
    "#Nov 5, 2020\n",
    "#Regular Expressions: They helps us in finding a sub string inside a main string. The sub string can be matched at begining, containing (mid), ending with\n",
    "\n",
    "import re\n",
    "substr=\"Ram$\"\n",
    "mainstr=input(\"Enter a String\")\n",
    "if re.search(substr,mainstr):\n",
    "    print(\"User input contain Ram\")\n",
    "else:\n",
    "    print(\"User Input does not contains Ram\")\n"
   ]
  },
  {
   "cell_type": "code",
   "execution_count": 15,
   "metadata": {
    "tags": []
   },
   "outputs": [
    {
     "name": "stdout",
     "output_type": "stream",
     "text": [
      "Contains letter of  [ram]\n"
     ]
    }
   ],
   "source": [
    "#[string] it will match string characters in the main string, if either of the string characters are present in main string it returns True, if non of the string characters are matching then it returns False\n",
    "import re\n",
    "substr=\"[ram]\"\n",
    "mainstr=input(\"Enter a String\")\n",
    "if re.search(substr,mainstr):\n",
    "    print(\"Contains letter of \",substr)\n",
    "else:\n",
    "    print(\"User Input does not contains \",substr)\n"
   ]
  },
  {
   "cell_type": "code",
   "execution_count": 35,
   "metadata": {
    "tags": []
   },
   "outputs": [
    {
     "name": "stdout",
     "output_type": "stream",
     "text": [
      "the water is source of life\n"
     ]
    }
   ],
   "source": [
    "#[^string]: it will return True if the word is present any where in the main string other wise False.\n",
    "import re\n",
    "substr=\"wate*r\"\n",
    "mainstr=input(\"Enter a String\")\n",
    "if re.search(substr,mainstr):\n",
    "    print(mainstr)\n",
    "else:\n",
    "    print(\"not found\")"
   ]
  },
  {
   "cell_type": "code",
   "execution_count": 41,
   "metadata": {
    "tags": []
   },
   "outputs": [
    {
     "name": "stdout",
     "output_type": "stream",
     "text": [
      "the schooling is a must\n"
     ]
    }
   ],
   "source": [
    "#Nov 06, 2020 \n",
    "#[+] meta character + enables searching of string before and after +\n",
    "import re\n",
    "substr=\"schoo+l\"\n",
    "mainstr=input(\"Enter a string \")\n",
    "if re.search(substr,mainstr):\n",
    "    print(mainstr)\n",
    "else:\n",
    "    print(\"not found\")"
   ]
  },
  {
   "cell_type": "code",
   "execution_count": 44,
   "metadata": {
    "tags": []
   },
   "outputs": [
    {
     "name": "stdout",
     "output_type": "stream",
     "text": [
      "the joy of learning is amazing\n"
     ]
    }
   ],
   "source": [
    "import re\n",
    "substr=\"jo?y\" #it will match for any string containing joy/enjoy/joyous exactly\n",
    "mainstr=input(\"Enter a string \")\n",
    "if re.search(substr,mainstr):\n",
    "    print(mainstr)\n",
    "else:\n",
    "    print(\"not found\")"
   ]
  },
  {
   "cell_type": "code",
   "execution_count": 46,
   "metadata": {
    "tags": []
   },
   "outputs": [
    {
     "name": "stdout",
     "output_type": "stream",
     "text": [
      "the water is source of life\n"
     ]
    }
   ],
   "source": [
    "import re\n",
    "substr=\"water{1,3}\" #it will match 1 to 3 occurrences of water in string\n",
    "mainstr=input(\"Enter a string \")\n",
    "if re.search(substr,mainstr):\n",
    "    print(mainstr)\n",
    "else:\n",
    "    print(\"not found\")"
   ]
  },
  {
   "cell_type": "code",
   "execution_count": 51,
   "metadata": {
    "tags": []
   },
   "outputs": [
    {
     "name": "stdout",
     "output_type": "stream",
     "text": [
      "['helllo']\n",
      "['hello']\n"
     ]
    }
   ],
   "source": [
    "#the compile(string) will compile the string in new object as pattern that can be further used for searching with other functions of regular expression module\n",
    "import re\n",
    "pattern=re.compile('hell*o')\n",
    "result=pattern.findall(\"helllooow world\")\n",
    "print (result)\n",
    "result=pattern.findall('the terrorism has made pakistan a no hello state')\n",
    "print (result)"
   ]
  },
  {
   "cell_type": "code",
   "execution_count": 4,
   "metadata": {
    "tags": []
   },
   "outputs": [
    {
     "name": "stdout",
     "output_type": "stream",
     "text": [
      "None\n",
      "<re.Match object; span=(0, 12), match='The cats are'>\n",
      "The cats are\n"
     ]
    }
   ],
   "source": [
    "import re\n",
    "line=\"The cats are smarter than dogs\"\n",
    "result=re.match(\"are\",line)\n",
    "print(result)\n",
    "result=re.match(\".*are\",line)\n",
    "print(result)\n",
    "print(result.group())"
   ]
  },
  {
   "cell_type": "code",
   "execution_count": 26,
   "metadata": {
    "tags": []
   },
   "outputs": [
    {
     "name": "stdout",
     "output_type": "stream",
     "text": [
      "4\n",
      "cats are smarter than dogs\n"
     ]
    }
   ],
   "source": [
    "import re\n",
    "mainstr=\"the cats are smarter than dogs\"\n",
    "substr=\"cats\"\n",
    "result=re.search(substr,mainstr)\n",
    "print(result.start()) #it returns the start index of matched substring \n",
    "print(mainstr[result.start():])"
   ]
  },
  {
   "cell_type": "code",
   "execution_count": 28,
   "metadata": {
    "tags": []
   },
   "outputs": [
    {
     "name": "stdout",
     "output_type": "stream",
     "text": [
      "8\n",
      " are smarter than dogs\n"
     ]
    }
   ],
   "source": [
    "import re\n",
    "mainstr=\"the cats are smarter than dogs\"\n",
    "substr=\"cats\"\n",
    "result=re.search(substr,mainstr)\n",
    "print(result.end()) #it returns the end index of matched substring \n",
    "print(mainstr[result.end():])"
   ]
  },
  {
   "cell_type": "code",
   "execution_count": 2,
   "metadata": {
    "tags": []
   },
   "outputs": [
    {
     "name": "stdout",
     "output_type": "stream",
     "text": [
      "(4, 8)\n"
     ]
    }
   ],
   "source": [
    "import re\n",
    "mainstr=\"the cats are smarter than dogs\"\n",
    "substr=\"cats\"\n",
    "result=re.search(substr,mainstr)\n",
    "print(result.span()) #it returns the start and end index of matched substring in tuple format. always the last index will be +1 than the actual index  "
   ]
  },
  {
   "cell_type": "code",
   "execution_count": 5,
   "metadata": {
    "tags": []
   },
   "outputs": [
    {
     "name": "stdout",
     "output_type": "stream",
     "text": [
      "['over']\n"
     ]
    }
   ],
   "source": [
    "import re\n",
    "mainstr=\"the quick brown fox jumped over the little lazy dog\"\n",
    "substr=\"over\"\n",
    "result=re.findall(substr,mainstr) #it returns all the matching substrings inside mainstring.\n",
    "print(result)"
   ]
  },
  {
   "cell_type": "code",
   "execution_count": 1,
   "metadata": {
    "tags": []
   },
   "outputs": [
    {
     "name": "stdout",
     "output_type": "stream",
     "text": [
      "(0, 3)\n",
      "(26, 29)\n"
     ]
    }
   ],
   "source": [
    "import re\n",
    "mainstr=\"the cats are smarter than the dogs\"\n",
    "substr=\"the\"\n",
    "result=re.finditer(substr,mainstr)\n",
    "for i in result:\n",
    "    print(i.span())"
   ]
  },
  {
   "cell_type": "code",
   "execution_count": 19,
   "metadata": {},
   "outputs": [
    {
     "name": "stdout",
     "output_type": "stream",
     "text": [
      "[] [1, 2] [3, 4]\n",
      "[1, 2]\n",
      "1\n",
      "[1, 2, [3, 4]]\n",
      "1 2 [3, 4]\n",
      "[3, 4]\n",
      "[]\n",
      "[1, 2]\n",
      "[1, 2, 3, 4]\n",
      "1\n",
      "2\n",
      "3\n",
      "4\n"
     ]
    }
   ],
   "source": [
    "l=[] #empty list\n",
    "l1=[1,2]\n",
    "l2=[3,4]\n",
    "print(l,l1,l2)\n",
    "l.append(l1)\n",
    "print(l1)\n",
    "print(l1[0])\n",
    "l1.append(l2)\n",
    "print(l1)\n",
    "print(l1[0],l1[1],l1[2])\n",
    "print(l1[2])\n",
    "\n",
    "l.extend(l1)\n",
    "l.clear()\n",
    "print(l)\n",
    "l1=[1,2]\n",
    "l2=[3,4]\n",
    "l.extend(l1)\n",
    "print(l)\n",
    "l.extend(l2)\n",
    "print(l)\n",
    "for i in l:\n",
    "    print(i)"
   ]
  },
  {
   "cell_type": "code",
   "execution_count": 22,
   "metadata": {},
   "outputs": [
    {
     "name": "stdout",
     "output_type": "stream",
     "text": [
      "pthon"
     ]
    }
   ],
   "source": [
    "string=\"python\"\n",
    "#print(string.replace('y',''))\n",
    "#print(string)\n",
    "for i in string:\n",
    "    if i=='y':\n",
    "        pass\n",
    "    else:\n",
    "        print(i,end=\"\")"
   ]
  },
  {
   "cell_type": "code",
   "execution_count": 26,
   "metadata": {},
   "outputs": [
    {
     "name": "stdout",
     "output_type": "stream",
     "text": [
      "Glob*l W*rming\n"
     ]
    }
   ],
   "source": [
    "string=\"Global Warming\"\n",
    "for i in string:\n",
    "    if i=='a':\n",
    "        string=string.replace(i,'*')\n",
    "print(string)"
   ]
  },
  {
   "cell_type": "code",
   "execution_count": 27,
   "metadata": {},
   "outputs": [
    {
     "name": "stdout",
     "output_type": "stream",
     "text": [
      "al Warming\n"
     ]
    }
   ],
   "source": [
    "string=\"Global Warming\"\n",
    "print(string.lstrip(\"Glob\"))"
   ]
  }
 ],
 "metadata": {
  "kernelspec": {
   "display_name": "Python 3.8.2 64-bit",
   "language": "python",
   "name": "python38264bit3d2dd1f9d25b473da33662d091d3333a"
  },
  "language_info": {
   "codemirror_mode": {
    "name": "ipython",
    "version": 3
   },
   "file_extension": ".py",
   "mimetype": "text/x-python",
   "name": "python",
   "nbconvert_exporter": "python",
   "pygments_lexer": "ipython3",
   "version": "3.8.5"
  }
 },
 "nbformat": 4,
 "nbformat_minor": 2
}
