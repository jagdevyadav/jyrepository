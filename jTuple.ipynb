{
 "cells": [
  {
   "cell_type": "code",
   "execution_count": 2,
   "metadata": {},
   "outputs": [
    {
     "name": "stdout",
     "output_type": "stream",
     "text": [
      "()\n",
      "(10, 20, 30, 40, 50)\n",
      "('sunday', 'monday', 'tuesday', 'Wednesday', 'thursday', 'friday', 'saturday', 'sunday')\n"
     ]
    }
   ],
   "source": [
    "#Tuple: It refers to an immutale sequence of values that are indexed by integers.\n",
    "#The () parenthesis symbol is used to define a tuple.\n",
    "\n",
    "#Defining/Creating and initializing a tuple\n",
    "t=() #an empty tuple\n",
    "print(t)\n",
    "t=(10,20,30,40,50) #tuple of integers\n",
    "print(t)\n",
    "t=(\"sunday\", \"monday\",\"tuesday\", \"Wednesday\",\"thursday\",\"friday\",\"saturday\",\"sunday\")#tuple of strings\n",
    "print(t) \n",
    "t=('a','b','c','d','e') #tuple of characters\n",
    "print(t) "
   ]
  },
  {
   "cell_type": "code",
   "execution_count": 3,
   "metadata": {},
   "outputs": [
    {
     "name": "stdout",
     "output_type": "stream",
     "text": [
      "(19,)\n"
     ]
    }
   ],
   "source": [
    "#Creating a tuple of of single value\n",
    "t=19,\n",
    "print(t)"
   ]
  },
  {
   "cell_type": "code",
   "execution_count": 6,
   "metadata": {},
   "outputs": [
    {
     "name": "stdout",
     "output_type": "stream",
     "text": [
      "()\n",
      "()\n"
     ]
    }
   ],
   "source": [
    "#Creating a tuple using function tuple()\n",
    "t=tuple() #empty tuple\n",
    "print(t) \n",
    "t=() #empty tuple\n",
    "print(t) "
   ]
  },
  {
   "cell_type": "code",
   "execution_count": 7,
   "metadata": {},
   "outputs": [
    {
     "name": "stdout",
     "output_type": "stream",
     "text": [
      "(10,)\n",
      "Enter a value100\n",
      "(100,)\n"
     ]
    }
   ],
   "source": [
    "#adding a new elements to tuple\n",
    "t=(10,)\n",
    "print(t)\n",
    "n=int(input(\"Enter a value\"))\n",
    "t=(n,)\n",
    "print(t)"
   ]
  },
  {
   "cell_type": "code",
   "execution_count": 9,
   "metadata": {},
   "outputs": [
    {
     "name": "stdout",
     "output_type": "stream",
     "text": [
      "How many values to input 5\n",
      "Input 5 values \n",
      "12\n",
      "43\n",
      "12\n",
      "76\n",
      "55\n",
      "Values in tuple are:\n",
      "12 43 12 76 55 "
     ]
    }
   ],
   "source": [
    "#ADDING MULTIPLE VALUES IN A TUPLE\n",
    "\n",
    "t=()\n",
    "n=int(input(\"How many values to input \"))\n",
    "print(\"Input \"+str(n)+\" values \")\n",
    "for i in range(n):\n",
    "    val=int(input(\"\"))\n",
    "    t=t+(val,) #here we are modifying or concatenating values in tuple\n",
    "print('Values in tuple are:')\n",
    "for i in range(n):\n",
    "    print(t[i],end=\" \")"
   ]
  },
  {
   "cell_type": "code",
   "execution_count": 13,
   "metadata": {},
   "outputs": [
    {
     "name": "stdout",
     "output_type": "stream",
     "text": [
      "()\n",
      "Enter size of list 7\n",
      "Input 7 values\n",
      "12\n",
      "34\n",
      "56\n",
      "78\n",
      "90\n",
      "23\n",
      "45\n",
      "Values in tuple are: 12 34 56 78 90 23 45 "
     ]
    }
   ],
   "source": [
    "#ANOTHER WAY OF ADDING VALUES IN TUPLE\n",
    "t=tuple() #creates t as empty tuple\n",
    "print(t)\n",
    "\n",
    "#now let's convert above tuple t to list\n",
    "l=list(t)\n",
    "n=int(input(\"Enter size of list \"))\n",
    "print(\"Input \"+str(n)+\" values\")\n",
    "for i in range(n):\n",
    "    l.append(int(input())) #storing n values in list l\n",
    "\n",
    "#converting list to tuple\n",
    "t=tuple(l)\n",
    "#printing values of tuple\n",
    "print(\"Values in tuple are: \",end=\"\")\n",
    "for i in range(n):\n",
    "    print(t[i],end=' ')"
   ]
  },
  {
   "cell_type": "code",
   "execution_count": null,
   "metadata": {},
   "outputs": [],
   "source": [
    "#Can you recall why we cannot input values in tuple?"
   ]
  },
  {
   "cell_type": "code",
   "execution_count": 16,
   "metadata": {},
   "outputs": [
    {
     "name": "stdout",
     "output_type": "stream",
     "text": [
      "(100,)\n",
      "(100, 100, 100, 100, 100, 100, 100, 100, 100, 100)\n"
     ]
    }
   ],
   "source": [
    "#another way of initializing tuple\n",
    "#first way\n",
    "t=(100,) #tuple t is initialized with 100\n",
    "print(t)\n",
    "#initializing t with multiple values\n",
    "t=(100,)*10 #t is initialized with 100 on 10 indexes\n",
    "print(t)\n"
   ]
  },
  {
   "cell_type": "code",
   "execution_count": 23,
   "metadata": {},
   "outputs": [
    {
     "name": "stdout",
     "output_type": "stream",
     "text": [
      "Original\n",
      "a= 10 \n",
      "b= 20\n",
      "\n",
      "Swapped\n",
      "a= 20 \n",
      "b= 10\n",
      "\n",
      "Original\n",
      "a= 10 \n",
      "b= 20\n",
      "\n",
      "Swapped\n",
      "a= 20 \n",
      "b= 10\n",
      "t1= (10, 20, 30, 40, 50)\n",
      "t2= (60, 70, 80, 90, 100)\n",
      "t1= (60, 70, 80, 90, 100)\n",
      "t2= (10, 20, 30, 40, 50)\n"
     ]
    }
   ],
   "source": [
    "#tuple Assignments\n",
    "#they are helpful when we want to swap or interchange values \n",
    "#without using another variable\n",
    "#that we very oftenly do in other programming languages\n",
    "\n",
    "#Example of other prog languages to swap values of variables\n",
    "\n",
    "a=10\n",
    "b=20\n",
    "print(\"Original\")\n",
    "print(\"a=\",a,\"\\nb=\",b)\n",
    "#swapping values of a with b using third variable as t\n",
    "t=a\n",
    "a=b\n",
    "b=t\n",
    "print(\"\\nSwapped\")\n",
    "print(\"a=\",a,\"\\nb=\",b)\n",
    "\n",
    "#now the above task can be easily done using tuple\n",
    "a=10\n",
    "b=20\n",
    "print(\"\\nOriginal\")\n",
    "print(\"a=\",a,\"\\nb=\",b)\n",
    "#swapping in python\n",
    "a,b=b,a  #be careful to keep same variable at both side of = assignment operator\n",
    "print(\"\\nSwapped\")\n",
    "print(\"a=\",a,\"\\nb=\",b)\n",
    "\n",
    "#another example to swap tuple values\n",
    "t1=(10,20,30,40,50)\n",
    "t2=(60,70,80,90,100)\n",
    "print(\"t1=\",t1)\n",
    "print(\"t2=\",t2)\n",
    "t1,t2=t2,t1\n",
    "print(\"t1=\",t1)\n",
    "print(\"t2=\",t2)"
   ]
  },
  {
   "cell_type": "code",
   "execution_count": 40,
   "metadata": {},
   "outputs": [
    {
     "name": "stdout",
     "output_type": "stream",
     "text": [
      "(10, 20, 30, 40, 50)\n",
      "()\n",
      "(10,)\n",
      "(50,)\n",
      "(10, 20, 30, 40, 50)\n",
      "(10, 20, 30, 40)\n",
      "(50, 40, 30, 20, 10)\n",
      "(10, 40)\n",
      "()\n",
      "(30, 40)\n"
     ]
    }
   ],
   "source": [
    "#tuple slicing\n",
    "t1=(10,20,30,40,50)\n",
    "print(t1[:]) #print all values of t1\n",
    "print(t1[0:0]) #will print empty tuple\n",
    "print(t1[0:1]) #will print value at index 0\n",
    "print(t1[-1:]) #will print last value of tuple i.e. 50\n",
    "print(t1[-5:]) #will print all values\n",
    "print(t1[-5:-1]) #will print values up to index -2\n",
    "print(t1[::-1]) #will reverse the tuple values\n",
    "print(t1[::3]) #will print every 3rd value from tuple\n",
    "print(t1[2:4:-1]) #empty tuple or no values as you cannot reverse subset\n",
    "print(t1[2:4]) #print values at index 2 and 3\n",
    "\n"
   ]
  },
  {
   "cell_type": "code",
   "execution_count": 41,
   "metadata": {},
   "outputs": [
    {
     "ename": "NameError",
     "evalue": "name 'cmp' is not defined",
     "output_type": "error",
     "traceback": [
      "\u001b[0;31m---------------------------------------------------------------------------\u001b[0m",
      "\u001b[0;31mNameError\u001b[0m                                 Traceback (most recent call last)",
      "\u001b[0;32m<ipython-input-41-dddd47f64410>\u001b[0m in \u001b[0;36m<module>\u001b[0;34m\u001b[0m\n\u001b[1;32m      2\u001b[0m \u001b[0mt1\u001b[0m\u001b[0;34m=\u001b[0m\u001b[0;34m(\u001b[0m\u001b[0;36m10\u001b[0m\u001b[0;34m,\u001b[0m\u001b[0;36m20\u001b[0m\u001b[0;34m)\u001b[0m\u001b[0;34m\u001b[0m\u001b[0;34m\u001b[0m\u001b[0m\n\u001b[1;32m      3\u001b[0m \u001b[0mt2\u001b[0m\u001b[0;34m=\u001b[0m\u001b[0;34m(\u001b[0m\u001b[0;36m10\u001b[0m\u001b[0;34m,\u001b[0m\u001b[0;36m20\u001b[0m\u001b[0;34m)\u001b[0m\u001b[0;34m\u001b[0m\u001b[0;34m\u001b[0m\u001b[0m\n\u001b[0;32m----> 4\u001b[0;31m \u001b[0mcmp\u001b[0m\u001b[0;34m(\u001b[0m\u001b[0mt1\u001b[0m\u001b[0;34m,\u001b[0m\u001b[0mt2\u001b[0m\u001b[0;34m)\u001b[0m\u001b[0;34m\u001b[0m\u001b[0;34m\u001b[0m\u001b[0m\n\u001b[0m",
      "\u001b[0;31mNameError\u001b[0m: name 'cmp' is not defined"
     ]
    }
   ],
   "source": [
    "#tuple functions\n",
    "t1=(10,20)\n",
    "t2=(10,20)\n",
    "cmp(t1,t2) #will generate an error as cmp() not supprted in python 3"
   ]
  },
  {
   "cell_type": "code",
   "execution_count": 48,
   "metadata": {},
   "outputs": [
    {
     "name": "stdout",
     "output_type": "stream",
     "text": [
      "False\n",
      "False\n"
     ]
    }
   ],
   "source": [
    "#be careful\n",
    "t1=(10,20)\n",
    "t2=(10,20)\n",
    "t1 is t2 #return False\n",
    "print(t1 is t2) #False\n",
    "if t1 in t2: #False\n",
    "    print(True)\n",
    "else:\n",
    "    print(False)"
   ]
  },
  {
   "cell_type": "code",
   "execution_count": 49,
   "metadata": {},
   "outputs": [
    {
     "data": {
      "text/plain": [
       "True"
      ]
     },
     "execution_count": 49,
     "metadata": {},
     "output_type": "execute_result"
    }
   ],
   "source": [
    "#be careful\n",
    "t1=(10,20)\n",
    "t2=(10,20)\n",
    "t1 is not t2 #print True as both are considered different objects"
   ]
  },
  {
   "cell_type": "code",
   "execution_count": 59,
   "metadata": {},
   "outputs": [
    {
     "name": "stdout",
     "output_type": "stream",
     "text": [
      "Length of t1= 5\n",
      "Length of t2= 4\n",
      "\n",
      "Length of t1= 5\n",
      "Length of t1= 4\n"
     ]
    }
   ],
   "source": [
    "#len(tuple): will return count of elements in tuple\n",
    "t1=(10,20,30,40,50)\n",
    "t2=(\"dav\",\"centenary\",\"public\",\"school\")\n",
    "print(\"Length of t1=\",len(t1))\n",
    "print(\"Length of t2=\",len(t2))\n",
    "\n",
    "#another way of finding length of tuple/string\n",
    "print()\n",
    "c=0\n",
    "for i in t1:\n",
    "    c+=1\n",
    "\n",
    "print(\"Length of t1=\",c)\n",
    "\n",
    "c=0\n",
    "for i in t2:\n",
    "    c+=1\n",
    "\n",
    "print(\"Length of t1=\",c)\n"
   ]
  },
  {
   "cell_type": "code",
   "execution_count": 60,
   "metadata": {},
   "outputs": [
    {
     "name": "stdout",
     "output_type": "stream",
     "text": [
      "The highest value in t1 =  50\n",
      "The highest value in t2 school\n"
     ]
    }
   ],
   "source": [
    "#max(tuple): it will return the highest value in tuple\n",
    "t1=(10,20,30,40,50)\n",
    "t2=(\"dav\",\"centenary\",\"public\",\"school\")\n",
    "print(\"The highest value in t1 = \",max(t1))\n",
    "print(\"The highest value in t2\",max(t2)) #on the basis of ASCII values of letters"
   ]
  },
  {
   "cell_type": "code",
   "execution_count": 61,
   "metadata": {},
   "outputs": [
    {
     "name": "stdout",
     "output_type": "stream",
     "text": [
      "The highest value in t1 =  10\n",
      "The highest value in t2 centenary\n"
     ]
    }
   ],
   "source": [
    "#min(tuple): it will return the lowest value in tuple\n",
    "t1=(10,20,30,40,50)\n",
    "t2=(\"dav\",\"centenary\",\"public\",\"school\")\n",
    "print(\"The highest value in t1 = \",min(t1))\n",
    "print(\"The highest value in t2\",min(t2)) #on the basis of ASCII values of letters"
   ]
  },
  {
   "cell_type": "code",
   "execution_count": 62,
   "metadata": {},
   "outputs": [
    {
     "name": "stdout",
     "output_type": "stream",
     "text": [
      "()\n"
     ]
    }
   ],
   "source": [
    "#tuple(): will create an empty tuple as we have seen in above examples\n",
    "t=tuple()\n",
    "print(t)"
   ]
  },
  {
   "cell_type": "code",
   "execution_count": 67,
   "metadata": {},
   "outputs": [
    {
     "name": "stdout",
     "output_type": "stream",
     "text": [
      "Both sets are same\n"
     ]
    }
   ],
   "source": [
    "#Exercise Programs\n",
    "\n",
    "#2. Write a program to input two set values and store it in tuples and also do the\n",
    "#comparison.\n",
    "\n",
    "def compare(set1,set2):\n",
    "    if len(set1)==len(set2):\n",
    "        for i in range(len(set1)):\n",
    "            if set1[i]!=set2[i]:\n",
    "                return False\n",
    "    return True\n",
    "\n",
    "s1=(10,20,30,40,50)\n",
    "s2=(10,20,30,40,50)\n",
    "result=compare(s1,s2)\n",
    "if result:\n",
    "    print(\"Both sets are same\")\n",
    "else:\n",
    "    print(\"Both sets are not same\")"
   ]
  },
  {
   "cell_type": "code",
   "execution_count": 73,
   "metadata": {},
   "outputs": [
    {
     "name": "stdout",
     "output_type": "stream",
     "text": [
      "Input Salary100\n",
      "Continue y/n? y\n",
      "Input Salary500\n",
      "Continue y/n? y\n",
      "Input Salary300\n",
      "Continue y/n? y\n",
      "Input Salary5000000\n",
      "Continue y/n? y\n",
      "Input Salary70000\n",
      "Continue y/n? n\n",
      "Salary of All Employees: (100, 500, 300, 5000000, 70000)\n",
      "Highest Salary: 5000000\n",
      "Lowest Salary: 100\n"
     ]
    }
   ],
   "source": [
    "#3. prog to find max and min salary from n employees\n",
    "\n",
    "import sys\n",
    "\n",
    "def maximum(s):\n",
    "    mx=0\n",
    "    for i in range(len(s)):\n",
    "        if s[i]>mx:\n",
    "            mx=s[i]\n",
    "    return mx\n",
    "\n",
    "def minimum(s):\n",
    "    mn=sys.maxsize\n",
    "    for i in range(len(s)):\n",
    "        if s[i]<mn:\n",
    "            mn=s[i]\n",
    "    return mn\n",
    "\n",
    "salary=() #an emtpy tuple\n",
    "ch='y'\n",
    "while ch=='y' or ch=='Y':\n",
    "    sal=int(input(\"Input Salary\"))\n",
    "    salary=salary+(sal,)\n",
    "    ch=input(\"Continue y/n? \")\n",
    "\n",
    "print(\"Salary of All Employees:\",salary)\n",
    "print(\"Highest Salary:\",maximum(salary))\n",
    "print(\"Lowest Salary:\",minimum(salary))"
   ]
  },
  {
   "cell_type": "code",
   "execution_count": 76,
   "metadata": {},
   "outputs": [
    {
     "name": "stdout",
     "output_type": "stream",
     "text": [
      "Input Name: abhishek s chauhan\n",
      "Continue y/n? y\n",
      "Input Name: aditya garg\n",
      "Continue y/n? y\n",
      "Input Name: aditya kushwaha\n",
      "Continue y/n? y\n",
      "Input Name: anjali rai\n",
      "Continue y/n? n\n",
      "Names in tuple are  ('abhishek s chauhan', 'aditya garg', 'aditya kushwaha', 'anjali rai')\n"
     ]
    }
   ],
   "source": [
    "#5. Write a program to input ‘n’ customers’ name and store it in tuple and display all\n",
    "#customers’ names on the output screen.\n",
    "\n",
    "ch='y'\n",
    "t=tuple()\n",
    "while ch=='y' or ch=='Y':\n",
    "    name=input(\"Input Name: \")\n",
    "    t=t+(name,)\n",
    "    ch=input(\"Continue y/n? \")\n",
    "\n",
    "print(\"Names in tuple are \",t)\n"
   ]
  }
 ],
 "metadata": {
  "kernelspec": {
   "display_name": "Python 3",
   "language": "python",
   "name": "python3"
  },
  "language_info": {
   "codemirror_mode": {
    "name": "ipython",
    "version": 3
   },
   "file_extension": ".py",
   "mimetype": "text/x-python",
   "name": "python",
   "nbconvert_exporter": "python",
   "pygments_lexer": "ipython3",
   "version": "3.8.5"
  }
 },
 "nbformat": 4,
 "nbformat_minor": 4
}
