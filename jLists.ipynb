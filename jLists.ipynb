{
 "cells": [
  {
   "cell_type": "code",
   "execution_count": 13,
   "metadata": {},
   "outputs": [
    {
     "name": "stdout",
     "output_type": "stream",
     "text": [
      "Enter size of list5\n",
      "Enter 5 values\n",
      "1\n",
      "2\n",
      "3\n",
      "4\n",
      "5\n",
      "Original List: [1, 2, 3, 4, 5]\n",
      "Cumulative List: [1, 3, 6, 10, 15]\n"
     ]
    }
   ],
   "source": [
    "#define a function that takes a list of numbers as argument and returns the cumulative sum, \n",
    "#that is, a new list where its element is the sum of the first i+1 elements from the original list\n",
    "#for example: the cumulative sum of [1,2,3] is [1,3,6]\n",
    "\n",
    "\n",
    "def cumulative(l): #function cumulative defined\n",
    "    cl=[]\n",
    "    for i in range(n):\n",
    "        s=0\n",
    "        for j in range(i+1):\n",
    "            s+=l[j] #s=s+l[j]\n",
    "        cl.append(s)\n",
    "    return cl    #function returned value\n",
    "\n",
    "#main program    \n",
    "lst=[]\n",
    "n=int(input(\"Enter size of list\"))\n",
    "print(\"Enter \"+str(n)+\" values\")\n",
    "for i in range(n):\n",
    "    lst.append(int(input()))\n",
    "print(\"Original List:\",lst)\n",
    "result=cumulative(lst) #function call\n",
    "print(\"Cumulative List:\",result)\n",
    "\n"
   ]
  },
  {
   "cell_type": "code",
   "execution_count": 15,
   "metadata": {},
   "outputs": [
    {
     "name": "stdout",
     "output_type": "stream",
     "text": [
      "Original list: [1, 2, 3, 4, 5]\n",
      "Chopped list in side chop function is  [2, 3, 4]\n",
      "List elements after chop call [1, 2, 3, 4, 5]\n",
      "List elements return by middle() are [2, 3, 4]\n"
     ]
    }
   ],
   "source": [
    "#Write a function called chop that takes a list and modifies it, removing the first and\n",
    "#last elements, and returns None. Then write a function called middle that takes a list\n",
    "#and returns a new list that contains all but the first and last elements.\n",
    "\n",
    "def chop(lst):\n",
    "    l=len(lst)\n",
    "    lst=lst[1:l-1]\n",
    "    print(\"Chopped list in side chop function is \",lst)\n",
    "\n",
    "def middle(lst):\n",
    "    l=len(lst)\n",
    "    lst=lst[1:l-1]\n",
    "    return lst\n",
    "\n",
    "l=[1,2,3,4,5]\n",
    "print(\"Original list:\",l)\n",
    "chop(l)\n",
    "print(\"List elements after chop call\",l)\n",
    "result=middle(l)\n",
    "print(\"List elements return by middle() are\",result)\n"
   ]
  },
  {
   "cell_type": "code",
   "execution_count": 19,
   "metadata": {},
   "outputs": [
    {
     "name": "stdout",
     "output_type": "stream",
     "text": [
      "Enter size of list5\n",
      "Enter 5 values\n",
      "5\n",
      "4\n",
      "3\n",
      "2\n",
      "1\n",
      "List is not sorted in correct order\n"
     ]
    }
   ],
   "source": [
    "#Write a function called is_sorted that takes a list as a parameter and returns True if\n",
    "#the list is sorted in ascending order and False otherwise. You can assume (as a\n",
    "#precondition) that the elements of the list can be compared with the relational\n",
    "#operators <, >, etc.\n",
    "\n",
    "def issorted(lst):\n",
    "    check=True\n",
    "    for i in range(len(lst)-1): #checking for ascending order inside loop\n",
    "        if lst[i]<lst[i+1]:\n",
    "            pass\n",
    "        else:\n",
    "            check=False\n",
    "    return check #returning value of check to main program\n",
    "\n",
    "#main program\n",
    "l=[]\n",
    "n=int(input(\"Enter size of list\"))\n",
    "print(\"Enter \"+str(n)+\" values\")\n",
    "for i in range(n):\n",
    "    l.append(int(input()))\n",
    "result=issorted(l)\n",
    "if result==True:\n",
    "    print(\"List is sorted in correct order\")\n",
    "else:\n",
    "    print(\"List is not sorted in correct order\")"
   ]
  },
  {
   "cell_type": "code",
   "execution_count": 21,
   "metadata": {},
   "outputs": [
    {
     "name": "stdout",
     "output_type": "stream",
     "text": [
      "Enter size of matrix3\n",
      "Enter 9 values\n",
      "1\n",
      "2\n",
      "3\n",
      "4\n",
      "5\n",
      "6\n",
      "7\n",
      "8\n",
      "9\n",
      "Matrix Elements:\n",
      "1 2 3 \n",
      "4 5 6 \n",
      "7 8 9 \n",
      "Upper Triangle Elements of Matrix:\n",
      "1 2 3 \n",
      "  5 6 \n",
      "    9 \n"
     ]
    }
   ],
   "source": [
    "#Write a program to print lower triangle matrix.\n",
    "matrix=[]\n",
    "n=int(input(\"Enter size of matrix\"))\n",
    "print(\"Enter \"+str(n*n)+\" values\")\n",
    "for i in range(n):\n",
    "    line=[]\n",
    "    for j in range(n):\n",
    "        line.append(int(input()))\n",
    "    matrix.append(line)\n",
    "print(\"Matrix Elements:\")\n",
    "for i in range(n):\n",
    "    for j in range(n):\n",
    "        print(matrix[i][j],end=' ')\n",
    "    print()\n",
    "print(\"Upper Triangle Elements of Matrix:\")\n",
    "for i in range(n):\n",
    "    for j in range(n):\n",
    "        if i<=j:\n",
    "            print(matrix[i][j],end=' ')\n",
    "        else:\n",
    "            print(\" \",end=\" \")\n",
    "    print()\n",
    "\n"
   ]
  },
  {
   "cell_type": "code",
   "execution_count": 29,
   "metadata": {},
   "outputs": [
    {
     "name": "stdout",
     "output_type": "stream",
     "text": [
      "Enter size of matrix3\n",
      "Enter 9 values\n",
      "1\n",
      "2\n",
      "3\n",
      "1\n",
      "2\n",
      "3\n",
      "1\n",
      "2\n",
      "3\n",
      "Matrix Elements:\n",
      "1 2 3 \n",
      "1 2 3 \n",
      "1 2 3 \n",
      "Sum of each row Elements:\n",
      "Row 0=6\n",
      "Row 1=6\n",
      "Row 2=6\n"
     ]
    }
   ],
   "source": [
    "#Write a program to find sum of rows and columns of the matrix.\n",
    "matrix=[]\n",
    "n=int(input(\"Enter size of matrix\"))\n",
    "print(\"Enter \"+str(n*n)+\" values\")\n",
    "for i in range(n):\n",
    "    line=[]\n",
    "    for j in range(n):\n",
    "        line.append(int(input()))\n",
    "    matrix.append(line)\n",
    "\n",
    "print(\"Matrix Elements:\")\n",
    "for i in range(n):\n",
    "    s=0\n",
    "    for j in range(n):\n",
    "        s+=matrix[i][j]\n",
    "        print(matrix[i][j],end=' ')\n",
    "    print()\n",
    "    \n",
    "print(\"Sum of each row Elements:\")\n",
    "for i in range(n):\n",
    "    s=0\n",
    "    for j in range(n):\n",
    "        s+=matrix[i][j]\n",
    "    print(\"Row \"+str(i)+\"=\"+str(s))"
   ]
  },
  {
   "cell_type": "code",
   "execution_count": 1,
   "metadata": {},
   "outputs": [
    {
     "name": "stdout",
     "output_type": "stream",
     "text": [
      "[]\n"
     ]
    }
   ],
   "source": [
    "l=[] #empty list\n",
    "print(l)"
   ]
  },
  {
   "cell_type": "code",
   "execution_count": 7,
   "metadata": {},
   "outputs": [
    {
     "name": "stdout",
     "output_type": "stream",
     "text": [
      "[10, 20, 30, 40, 50]\n",
      "30\n",
      "[10, 20, 30, 40, 50]\n",
      "[50, 40, 30, 20, 10]\n",
      "[50, 30, 10]\n",
      "[10, 30, 50]\n"
     ]
    }
   ],
   "source": [
    "l=[10,20,30,40,50]\n",
    "print(l)\n",
    "print(l[2]) #it will print the third element of the list that exists at index 2\n",
    "print(l[:])\n",
    "print(l[::-1]) #it will reverse the list elements.\n",
    "print(l[::-2]) #it will print every 2nd element/alternate element from reverse\n",
    "print(l[::2]) #it will print every alternate element from begining"
   ]
  },
  {
   "cell_type": "code",
   "execution_count": 11,
   "metadata": {},
   "outputs": [
    {
     "name": "stdout",
     "output_type": "stream",
     "text": [
      "['aditya garg', 'abhishek singh', 'Kashish', 'Himanshu', 'Hemant Saini', 'Pulkit']\n",
      "Kashish\n",
      "['Pulkit', 'Hemant Saini', 'Himanshu', 'Kashish', 'abhishek singh', 'aditya garg']\n",
      "['Pulkit', 'Himanshu', 'abhishek singh']\n"
     ]
    }
   ],
   "source": [
    "#storing strigs in list\n",
    "l=[\"aditya garg\",\"abhishek singh\",\"Kashish\",\"Himanshu\",\"Hemant Saini\",\"Pulkit\"]\n",
    "print(l)\n",
    "print(l[2])\n",
    "print(l[::-1])\n",
    "print(l[::-2])"
   ]
  },
  {
   "cell_type": "code",
   "execution_count": 14,
   "metadata": {},
   "outputs": [
    {
     "name": "stdout",
     "output_type": "stream",
     "text": [
      "Enter a value10\n",
      "Enter a value20\n",
      "Enter a value5\n",
      "Enter a value50\n",
      "Enter a value60\n",
      "['10', '20', '5', '50', '60']\n"
     ]
    }
   ],
   "source": [
    "#append(): it is used to add new elements in list at last index\n",
    "l=[]\n",
    "for i in range(0,5):\n",
    "    l.append(input(\"Enter a value\"))\n",
    "print(l)"
   ]
  },
  {
   "cell_type": "code",
   "execution_count": 20,
   "metadata": {},
   "outputs": [
    {
     "name": "stdout",
     "output_type": "stream",
     "text": [
      "[10, 200]\n",
      "[100, 300]\n",
      "[100, 300, [10, 200]]\n",
      "0 100,1 300,2 [10, 200],"
     ]
    }
   ],
   "source": [
    "list1=[10,200]\n",
    "print(list1)\n",
    "l=[100,300]\n",
    "print(l)\n",
    "l.append(list1)\n",
    "print(l)\n",
    "for i in range(0,len(l)):\n",
    "    print(i,l[i],end=\",\")"
   ]
  },
  {
   "cell_type": "code",
   "execution_count": 24,
   "metadata": {},
   "outputs": [
    {
     "name": "stdout",
     "output_type": "stream",
     "text": [
      "[100, 3000, [10, 200]]\n",
      "[100, 3000]\n"
     ]
    }
   ],
   "source": [
    "#modification of List Elements\n",
    "l[1]=3000 #modification\n",
    "print(l)\n",
    "l2=l[0:2] #creating a sublist using slicing technique\n",
    "print(l2)"
   ]
  },
  {
   "cell_type": "code",
   "execution_count": 6,
   "metadata": {},
   "outputs": [
    {
     "name": "stdout",
     "output_type": "stream",
     "text": [
      "[0, 1, 2, 3, 4]\n"
     ]
    }
   ],
   "source": [
    "#November 27, 2020 Friday\n",
    "#List comprehension:\n",
    "n=5\n",
    "l=[x for x in range(n)]\n",
    "print(l)"
   ]
  },
  {
   "cell_type": "code",
   "execution_count": 7,
   "metadata": {},
   "outputs": [
    {
     "name": "stdout",
     "output_type": "stream",
     "text": [
      "[0, 1, 4, 9, 16]\n"
     ]
    }
   ],
   "source": [
    "n=5\n",
    "l=[x**2 for x in range(n)]\n",
    "print(l)"
   ]
  },
  {
   "cell_type": "code",
   "execution_count": 9,
   "metadata": {},
   "outputs": [
    {
     "name": "stdout",
     "output_type": "stream",
     "text": [
      "[6, 9, 12]\n"
     ]
    }
   ],
   "source": [
    "l=[2,3,4]\n",
    "res=[x*3 for x in l]\n",
    "print(res)"
   ]
  },
  {
   "cell_type": "code",
   "execution_count": 10,
   "metadata": {},
   "outputs": [
    {
     "name": "stdout",
     "output_type": "stream",
     "text": [
      "[3, 4, 5] [9, 12, 15]\n"
     ]
    }
   ],
   "source": [
    "a=[3,4,5]\n",
    "b=[] #empty list\n",
    "for i in a:\n",
    "    b.append(i*3) #the function append(arg) is used to insert the arg(uemnet) in list\n",
    "print(a,b)"
   ]
  },
  {
   "cell_type": "code",
   "execution_count": 14,
   "metadata": {},
   "outputs": [
    {
     "name": "stdout",
     "output_type": "stream",
     "text": [
      "[0, 1, 4, 9, 16, 25, 36, 49, 64, 81]\n",
      "list of even numbers:  [0, 4, 16, 36, 64]\n"
     ]
    }
   ],
   "source": [
    "s=[x**2 for x in range(10)]\n",
    "print(s)\n",
    "\n",
    "e=[i for i in s if i%2==0] #this is also known as ternary operator or ternary statement\n",
    "print(\"list of even numbers: \",e)"
   ]
  },
  {
   "cell_type": "code",
   "execution_count": 16,
   "metadata": {},
   "outputs": [
    {
     "name": "stdout",
     "output_type": "stream",
     "text": [
      "[]\n",
      "()\n"
     ]
    }
   ],
   "source": [
    "b=list() #empty list\n",
    "print(b)\n",
    "c=tuple()\n",
    "print(c)"
   ]
  },
  {
   "cell_type": "code",
   "execution_count": 20,
   "metadata": {},
   "outputs": [
    {
     "name": "stdout",
     "output_type": "stream",
     "text": [
      "1 2\n",
      "centenary public\n"
     ]
    }
   ],
   "source": [
    "l1=[1,2,3]\n",
    "l2=[\"centenary\",\"public\"]\n",
    "print(l1[0],l1[1])\n",
    "print(l2[0],l2[1])"
   ]
  },
  {
   "cell_type": "code",
   "execution_count": 24,
   "metadata": {},
   "outputs": [
    {
     "name": "stdout",
     "output_type": "stream",
     "text": [
      "c e\n",
      "['c', 'e', 'n', 't', 'e', 'n', 'a', 'r', 'y']\n"
     ]
    }
   ],
   "source": [
    "l3=list(\"centenary\") #list(sequence) will convert sequence into a list where each element of \n",
    "#sequence will be sotred at an index in list.\n",
    "print(l3[0],l3[1])\n",
    "print(l3)"
   ]
  },
  {
   "cell_type": "code",
   "execution_count": 2,
   "metadata": {},
   "outputs": [
    {
     "name": "stdout",
     "output_type": "stream",
     "text": [
      "[1, 2, 3, 4, 5]\n"
     ]
    }
   ],
   "source": [
    "#Nov 28, 2020 Saturday\n",
    "#Converting a tuple of numbers (Sequence of numbers) to list.\n",
    "l=list((1,2,3,4,5))\n",
    "print(l)"
   ]
  },
  {
   "cell_type": "code",
   "execution_count": 9,
   "metadata": {},
   "outputs": [
    {
     "name": "stdout",
     "output_type": "stream",
     "text": [
      "[]\n",
      "[10, 20, 30]\n",
      "[10, 20, 30]\n",
      "[10, 20, 30, 100] [10, 20, 30, 100]\n"
     ]
    }
   ],
   "source": [
    "#NOTE: every [] creates a new list as we seen in above many examples.\n",
    "a=[] \n",
    "print(a)\n",
    "#BUT, if we do like this\n",
    "b=[10,20,30]\n",
    "print(b)\n",
    "c=b #then a new list is not created; Rather c is also mapped to b, \n",
    "#means values of list b and c both will be same\n",
    "#c is an alias/alternative name of list b\n",
    "print(c)\n",
    "b.append(100)\n",
    "print(b,c) #observe the ouput only 100 is added in both lists however it was appended \n",
    "#only in list b"
   ]
  },
  {
   "cell_type": "code",
   "execution_count": 10,
   "metadata": {},
   "outputs": [
    {
     "name": "stdout",
     "output_type": "stream",
     "text": [
      "10\n",
      "20\n"
     ]
    }
   ],
   "source": [
    "#Accessing an element of List\n",
    "l=[10,100,20,300]\n",
    "print(l[0]) #element at index 0 will be printed\n",
    "\n",
    "print(l[2]) #element at index 2 will be printed"
   ]
  },
  {
   "cell_type": "code",
   "execution_count": 15,
   "metadata": {},
   "outputs": [
    {
     "name": "stdout",
     "output_type": "stream",
     "text": [
      "[10, 20, [300, 400]]\n",
      "[300, 400]\n",
      "20\n",
      "300\n",
      "400\n",
      "[300, 400]\n"
     ]
    }
   ],
   "source": [
    "l1=[10,20]\n",
    "l2=[300,400]\n",
    "l1.append(l2)\n",
    "print(l1) #shows that values 10,20,[300,400] are stored \n",
    "#at index 0,1, and 2 respectively in list l1\n",
    "print(l2)\n",
    "print(l1[1])\n",
    "\n",
    "#Accessing sub lists in a list\n",
    "print(l1[2][0])\n",
    "print(l1[2][1])\n",
    "print(l1[2][:])"
   ]
  },
  {
   "cell_type": "code",
   "execution_count": null,
   "metadata": {},
   "outputs": [],
   "source": [
    "#list slicing\n",
    "l=[10,20,30,40,50]\n",
    "print(l[:])\n",
    "print(l[:-1])\n",
    "print(l[::-1])\n",
    "print(l[2:])\n",
    "print(l[-1:])\n",
    "print(l[-5:-2])"
   ]
  },
  {
   "cell_type": "code",
   "execution_count": 2,
   "metadata": {},
   "outputs": [
    {
     "name": "stdout",
     "output_type": "stream",
     "text": [
      "10 20 30 40 50 "
     ]
    }
   ],
   "source": [
    "#Dec 1, 2020 Tuesday\n",
    "#Traversing in a list using while loop\n",
    "#NOTE: a list cannot be traversed, if it is empty\n",
    "l=[10,20,30,40,50]\n",
    "count=len(l)\n",
    "i=0\n",
    "while i<count:\n",
    "    print(l[i],end=\" \")\n",
    "    i+=1\n"
   ]
  },
  {
   "cell_type": "code",
   "execution_count": 5,
   "metadata": {},
   "outputs": [
    {
     "name": "stdout",
     "output_type": "stream",
     "text": [
      "10 20 30 40 50 "
     ]
    }
   ],
   "source": [
    "#Traversing in a list using for loop\n",
    "l=[10,20,30,40,50]\n",
    "count=len(l)\n",
    "\n",
    "for i in range(0,count):\n",
    "    print(l[i],end=\" \")"
   ]
  },
  {
   "cell_type": "code",
   "execution_count": 12,
   "metadata": {},
   "outputs": [
    {
     "name": "stdout",
     "output_type": "stream",
     "text": [
      "10 20 30 40 50 "
     ]
    }
   ],
   "source": [
    "l=[10,20,30,40,50]\n",
    "\n",
    "for i in l:\n",
    "    print(i,end=\" \")"
   ]
  },
  {
   "cell_type": "code",
   "execution_count": 2,
   "metadata": {},
   "outputs": [
    {
     "name": "stdout",
     "output_type": "stream",
     "text": [
      "10 20 30 40 50 "
     ]
    },
    {
     "ename": "IndexError",
     "evalue": "list index out of range",
     "output_type": "error",
     "traceback": [
      "\u001b[0;31m---------------------------------------------------------------------------\u001b[0m",
      "\u001b[0;31mIndexError\u001b[0m                                Traceback (most recent call last)",
      "\u001b[0;32m<ipython-input-2-f298a2db20ac>\u001b[0m in \u001b[0;36m<module>\u001b[0;34m\u001b[0m\n\u001b[1;32m      4\u001b[0m \u001b[0mi\u001b[0m\u001b[0;34m=\u001b[0m\u001b[0;36m0\u001b[0m\u001b[0;34m\u001b[0m\u001b[0;34m\u001b[0m\u001b[0m\n\u001b[1;32m      5\u001b[0m \u001b[0;32mwhile\u001b[0m \u001b[0ml\u001b[0m\u001b[0;34m:\u001b[0m\u001b[0;34m\u001b[0m\u001b[0;34m\u001b[0m\u001b[0m\n\u001b[0;32m----> 6\u001b[0;31m     \u001b[0mprint\u001b[0m\u001b[0;34m(\u001b[0m\u001b[0ml\u001b[0m\u001b[0;34m[\u001b[0m\u001b[0mi\u001b[0m\u001b[0;34m]\u001b[0m\u001b[0;34m,\u001b[0m\u001b[0mend\u001b[0m\u001b[0;34m=\u001b[0m\u001b[0;34m\" \"\u001b[0m\u001b[0;34m)\u001b[0m\u001b[0;34m\u001b[0m\u001b[0;34m\u001b[0m\u001b[0m\n\u001b[0m\u001b[1;32m      7\u001b[0m     \u001b[0mi\u001b[0m\u001b[0;34m+=\u001b[0m\u001b[0;36m1\u001b[0m\u001b[0;34m\u001b[0m\u001b[0;34m\u001b[0m\u001b[0m\n",
      "\u001b[0;31mIndexError\u001b[0m: list index out of range"
     ]
    }
   ],
   "source": [
    "#Let's overcome below problem that we may face while traversing a list\n",
    "l=[10,20,30,40,50]\n",
    "count=len(l)\n",
    "i=0\n",
    "while l:\n",
    "    print(l[i],end=\" \")\n",
    "    i+=1\n"
   ]
  },
  {
   "cell_type": "code",
   "execution_count": 3,
   "metadata": {},
   "outputs": [
    {
     "name": "stdout",
     "output_type": "stream",
     "text": [
      "10 20 30 40 50 "
     ]
    }
   ],
   "source": [
    "l=[10,20,30,40,50]\n",
    "i=0\n",
    "while l:\n",
    "    print(l[i],end=\" \")\n",
    "    i+=1\n",
    "    if i==len(l):\n",
    "        break;"
   ]
  },
  {
   "cell_type": "code",
   "execution_count": 1,
   "metadata": {},
   "outputs": [
    {
     "name": "stdout",
     "output_type": "stream",
     "text": [
      "10 20 30 40 50 loop ended\n"
     ]
    }
   ],
   "source": [
    "l=[10,20,30,40,50]\n",
    "i=0\n",
    "try:\n",
    "    while l:\n",
    "        print(l[i],end=\" \")\n",
    "        i+=1\n",
    "except:\n",
    "    print('loop ended')"
   ]
  },
  {
   "cell_type": "code",
   "execution_count": 13,
   "metadata": {},
   "outputs": [
    {
     "name": "stdout",
     "output_type": "stream",
     "text": [
      "[10, 20, [30, 40]]\n"
     ]
    }
   ],
   "source": [
    "#the append(arg) and extend(arg) functions\n",
    "#append(arg): will add value/list passed as argument to append will be appended at end of the existing list\n",
    "#at an index as sublist\n",
    "l1=[10,20]\n",
    "l2=[30,40]\n",
    "l1.append(l2)\n",
    "print(l1)\n"
   ]
  },
  {
   "cell_type": "code",
   "execution_count": 14,
   "metadata": {},
   "outputs": [
    {
     "name": "stdout",
     "output_type": "stream",
     "text": [
      "[10, 20, 30, 40]\n"
     ]
    }
   ],
   "source": [
    "#the extend(arg): it appends each element of argument list at single index\n",
    "#means all elements of arg list will be appended one by one at consecutive indexes\n",
    "l1=[10,20]\n",
    "l2=[30,40]\n",
    "l1.extend(l2)\n",
    "print(l1)\n",
    "#NOTE: THE DIFFERENCE OF OUTPUT USING APPEND() AND EXTEND()"
   ]
  },
  {
   "cell_type": "code",
   "execution_count": 6,
   "metadata": {},
   "outputs": [
    {
     "name": "stdout",
     "output_type": "stream",
     "text": [
      "[10, 20, 30, 500, 50]\n",
      "[100, 200, 300, 500, 50]\n",
      "[1000, 50]\n"
     ]
    }
   ],
   "source": [
    "#Dec 02, 2020 Wednesday\n",
    "#updating list elements\n",
    "l=[10,20,30,40,50]\n",
    "l[3]=500  #it will update the vlaue at index 3 to 500\n",
    "print(l)\n",
    "l[0:3]=[100,200,300] # it will update values at index 0,1,2 to 100,200,300 respectively.\n",
    "print(l)\n",
    "l[0:4]=[1000] #NOTE: it will update the value at index 0 only rather updating all indexes.\n",
    "print(l)"
   ]
  },
  {
   "cell_type": "code",
   "execution_count": 12,
   "metadata": {},
   "outputs": [
    {
     "name": "stdout",
     "output_type": "stream",
     "text": [
      "[1, 2, 3] ['xi', 'xii'] [1, 2, 3, 'xi', 'xii']\n",
      "[1, 2, 3, 1, 2, 3, 1, 2, 3]\n"
     ]
    }
   ],
   "source": [
    "#operators +, *\n",
    "l1=[1,2,3]\n",
    "l2=[\"xi\",'xii']\n",
    "l3=l1+l2\n",
    "print(l1,l2,l3)\n",
    "print(l1*3)"
   ]
  },
  {
   "cell_type": "code",
   "execution_count": 2,
   "metadata": {},
   "outputs": [
    {
     "name": "stdout",
     "output_type": "stream",
     "text": [
      "[100, 200, 20, 60, 70]\n",
      "deleted value is  50\n"
     ]
    }
   ],
   "source": [
    "#deleting elements from list\n",
    "#pop(index): it will delete an element from index given as argument.\n",
    "l=[100,200,10,20,50,60,70]\n",
    "l.pop(2) #it will delete/pop 10 (one element at a time) that is stored at index 2\n",
    "x=l.pop(3)\n",
    "print(l)\n",
    "print(\"deleted value is \",x)\n"
   ]
  },
  {
   "cell_type": "code",
   "execution_count": 1,
   "metadata": {},
   "outputs": [
    {
     "name": "stdout",
     "output_type": "stream",
     "text": [
      "[100, 10, 20, 50, 60, 70]\n"
     ]
    }
   ],
   "source": [
    "#del list[index]: it is used to delete element from list from specified index\n",
    "#it does not return any value\n",
    "l=[100,200,10,20,50,60,70]\n",
    "del l[1]\n",
    "print(l)"
   ]
  },
  {
   "cell_type": "code",
   "execution_count": 6,
   "metadata": {},
   "outputs": [
    {
     "name": "stdout",
     "output_type": "stream",
     "text": [
      "Enter a value to be deleted60\n",
      "Now the values in list are  [100, 200, 10, 20, 50, 70]\n"
     ]
    }
   ],
   "source": [
    "#remove(value): this function is efficient than above pop() and del as it does not require index number\n",
    "#directly we can pass value to be deleted as argument to remove(arg) function.\n",
    "l=[100,200,10,20,50,60,70]\n",
    "d=int(input(\"Enter a value to be deleted\"))\n",
    "if d in l:\n",
    "    l.remove(d)\n",
    "else:\n",
    "    print(\" value does not exist in list\")\n",
    "    \n",
    "print(\"Now the values in list are \",l)"
   ]
  },
  {
   "cell_type": "code",
   "execution_count": 9,
   "metadata": {},
   "outputs": [
    {
     "name": "stdout",
     "output_type": "stream",
     "text": [
      "remaining elements in list are  [100, 20, 50, 60, 70]\n"
     ]
    }
   ],
   "source": [
    "#deleting elements form list using slicing \n",
    "l=[100,200,10,20,50,60,70]\n",
    "del l[1:3]\n",
    "print(\"remaining elements in list are \",l)"
   ]
  },
  {
   "cell_type": "code",
   "execution_count": 10,
   "metadata": {},
   "outputs": [
    {
     "name": "stdout",
     "output_type": "stream",
     "text": [
      "remaining elements of the list  [20, 50, 60, 70]\n"
     ]
    }
   ],
   "source": [
    "#deleting values from a range of indexes using slicing \n",
    "l=[100,200,10,20,50,60,70]\n",
    "l[0:3]=[]\n",
    "print(\"remaining elements of the list \",l)"
   ]
  },
  {
   "cell_type": "code",
   "execution_count": 12,
   "metadata": {},
   "outputs": [
    {
     "name": "stdout",
     "output_type": "stream",
     "text": [
      "[100, 200, 10, 5000, 20, 50, 60, 70]\n",
      "[100, 200, 10, 5000, 20, 50, 600, 60, 70]\n"
     ]
    }
   ],
   "source": [
    "#insert(index,value): the give will be inserted at the give index.  both index and value are to be passed as \n",
    "#argument to function insert\n",
    "l=[100,200,10,20,50,60,70]\n",
    "l.insert(3,5000)\n",
    "print(l)\n",
    "l.insert(-2,600)\n",
    "print(l)"
   ]
  },
  {
   "cell_type": "code",
   "execution_count": 13,
   "metadata": {},
   "outputs": [
    {
     "name": "stdout",
     "output_type": "stream",
     "text": [
      "[70, 60, 50, 20, 10, 200, 100]\n"
     ]
    }
   ],
   "source": [
    "#reverse(): it will reverse the list elements with returning an value\n",
    "\n",
    "l=[100,200,10,20,50,60,70]\n",
    "l.reverse()\n",
    "print(l)\n"
   ]
  },
  {
   "cell_type": "code",
   "execution_count": 20,
   "metadata": {},
   "outputs": [
    {
     "name": "stdout",
     "output_type": "stream",
     "text": [
      "[10, 20, 50, 60, 70, 100, 200]\n",
      "[200, 100, 70, 60, 50, 20, 10]\n"
     ]
    }
   ],
   "source": [
    "#sort(): this function will arrange the values in ascending order. It does not return any value\n",
    "l=[100,200,10,20,50,60,70]\n",
    "l.sort()\n",
    "print(l)\n",
    "#sorting in descending order\n",
    "l.sort(reverse=True)\n",
    "print(l)\n"
   ]
  },
  {
   "cell_type": "code",
   "execution_count": 19,
   "metadata": {},
   "outputs": [
    {
     "name": "stdout",
     "output_type": "stream",
     "text": [
      "[10, 20, 50, 60, 70, 100, 200]\n"
     ]
    }
   ],
   "source": [
    "#sorted(list as argument): it will arrange the values in ascending order and return a new list\n",
    "l=[100,200,10,20,50,60,70]\n",
    "nl=sorted(l)\n",
    "print(nl)\n"
   ]
  },
  {
   "cell_type": "code",
   "execution_count": 3,
   "metadata": {},
   "outputs": [
    {
     "name": "stdout",
     "output_type": "stream",
     "text": [
      "['Himanshu', 'Kashish', 'Pulkit', 'aditya', 'karan', 'samridhi']\n"
     ]
    }
   ],
   "source": [
    "#Dec 05, 2020 Saturday\n",
    "names=[\"karan\",\"Pulkit\",\"samridhi\",\"Kashish\",\"Himanshu\",\"aditya\"]\n",
    "snames=sorted(names)\n",
    "print(snames)"
   ]
  },
  {
   "cell_type": "code",
   "execution_count": 4,
   "metadata": {},
   "outputs": [
    {
     "name": "stdout",
     "output_type": "stream",
     "text": [
      "['samridhi', 'karan', 'aditya', 'Pulkit', 'Kashish', 'Himanshu']\n"
     ]
    }
   ],
   "source": [
    "names=[\"karan\",\"Pulkit\",\"samridhi\",\"Kashish\",\"Himanshu\",\"aditya\"]\n",
    "names.sort(reverse=True)\n",
    "print(names)"
   ]
  },
  {
   "cell_type": "code",
   "execution_count": 6,
   "metadata": {},
   "outputs": [
    {
     "name": "stdout",
     "output_type": "stream",
     "text": [
      "original list [10, 12, 14, 16, 18]\n",
      "list after modification  [12, 14, 16, 18, 20]\n"
     ]
    }
   ],
   "source": [
    "#List as Function Argument\n",
    "#The by reference technique is used when list is passed as argument\n",
    "#means any changes made in side fuction in passed argument the changes will be \n",
    "#reflected back in original list elements\n",
    "\n",
    "def abc(l):\n",
    "    for i in range(len(l)):\n",
    "        l[i]=l[i]+2\n",
    "\n",
    "lst=[10,12,14,16,18]\n",
    "print(\"original list\",lst)\n",
    "abc(lst)#calling abc() and passing list lst elements to abc()\n",
    "print(\"list after modification \",lst)"
   ]
  },
  {
   "cell_type": "code",
   "execution_count": 16,
   "metadata": {},
   "outputs": [
    {
     "name": "stdout",
     "output_type": "stream",
     "text": [
      "Enter total number of rows2\n",
      "Enter total number of columns2\n"
     ]
    },
    {
     "ename": "TypeError",
     "evalue": "can't multiply sequence by non-int of type 'str'",
     "output_type": "error",
     "traceback": [
      "\u001b[0;31m---------------------------------------------------------------------------\u001b[0m",
      "\u001b[0;31mTypeError\u001b[0m                                 Traceback (most recent call last)",
      "\u001b[0;32m<ipython-input-16-bb0cd791ad90>\u001b[0m in \u001b[0;36m<module>\u001b[0;34m\u001b[0m\n\u001b[1;32m      1\u001b[0m \u001b[0mm\u001b[0m\u001b[0;34m=\u001b[0m\u001b[0minput\u001b[0m \u001b[0;34m(\u001b[0m\u001b[0;34m\"Enter total number of rows\"\u001b[0m\u001b[0;34m)\u001b[0m\u001b[0;34m\u001b[0m\u001b[0;34m\u001b[0m\u001b[0m\n\u001b[1;32m      2\u001b[0m \u001b[0mn\u001b[0m\u001b[0;34m=\u001b[0m\u001b[0minput\u001b[0m \u001b[0;34m(\u001b[0m\u001b[0;34m\"Enter total number of columns\"\u001b[0m\u001b[0;34m)\u001b[0m\u001b[0;34m\u001b[0m\u001b[0;34m\u001b[0m\u001b[0m\n\u001b[0;32m----> 3\u001b[0;31m \u001b[0ml\u001b[0m\u001b[0;34m=\u001b[0m\u001b[0mrange\u001b[0m \u001b[0;34m(\u001b[0m\u001b[0mm\u001b[0m\u001b[0;34m*\u001b[0m\u001b[0mn\u001b[0m\u001b[0;34m)\u001b[0m\u001b[0;34m\u001b[0m\u001b[0;34m\u001b[0m\u001b[0m\n\u001b[0m\u001b[1;32m      4\u001b[0m \u001b[0mk\u001b[0m\u001b[0;34m=\u001b[0m\u001b[0;36m0\u001b[0m\u001b[0;34m\u001b[0m\u001b[0;34m\u001b[0m\u001b[0m\n\u001b[1;32m      5\u001b[0m \u001b[0mprint\u001b[0m \u001b[0;34m(\u001b[0m\u001b[0;34m\"Input all matrix elements one after other\"\u001b[0m\u001b[0;34m)\u001b[0m\u001b[0;34m\u001b[0m\u001b[0;34m\u001b[0m\u001b[0m\n",
      "\u001b[0;31mTypeError\u001b[0m: can't multiply sequence by non-int of type 'str'"
     ]
    }
   ],
   "source": [
    "m=input (\"Enter total number of rows\")\n",
    "n=input (\"Enter total number of columns\")\n",
    "l=range (m*n)\n",
    "k=0\n",
    "print (\"Input all matrix elements one after other\")\n",
    "for i in range(m):\n",
    "    for j in range(n):\n",
    "        l[k]=input(\"Enter new element\")\n",
    "        k=k+1\n",
    "print (\"output is\")\n",
    "k=0\n",
    "for i in range(m):\n",
    "    for j in range(n):\n",
    "        print (l[k],'\\t',)\n",
    "        k=k+1\n",
    "print()"
   ]
  },
  {
   "cell_type": "code",
   "execution_count": 15,
   "metadata": {},
   "outputs": [
    {
     "name": "stdout",
     "output_type": "stream",
     "text": [
      "Enter a number10\n",
      "Enter a number20\n",
      "Original  10 20\n",
      "Now values are  10 20\n"
     ]
    }
   ],
   "source": [
    "#function swap()\n",
    "#when number are passed to a function as an argument then call by value method is used\n",
    "def swap(x,y):\n",
    "    x,y=y,x\n",
    "\n",
    "#main program\n",
    "a=int(input(\"Enter a number\"))\n",
    "b=int(input(\"Enter a number\"))\n",
    "print(\"Original \",a,b)\n",
    "swap(a,b)\n",
    "print(\"Now values are \",a,b)\n",
    "\n",
    "\n",
    "    "
   ]
  },
  {
   "cell_type": "code",
   "execution_count": 1,
   "metadata": {},
   "outputs": [
    {
     "name": "stdout",
     "output_type": "stream",
     "text": [
      "Enter size of array4\n",
      "Enter  4  values\n",
      "10\n",
      "20\n",
      "30\n",
      "40\n",
      "[10, 20, 30, 40]\n"
     ]
    }
   ],
   "source": [
    "#Dec 7, 2020 Monday\n",
    "#Array: An array is a named finite list of homogeneous values.\n",
    "#Types of Arrays: \n",
    "#1D or One Dimensional Array: It refers to named finite homogeneous list of values stored in a linear format.\n",
    "#2D or Two Dimensional or Multidimensional Array: It refers to named finite homogeneous list of values stored in rows and columns format\n",
    "\n",
    "#creating 1D array using lists\n",
    "\n",
    "size=int(input(\"Enter size of array\"))\n",
    "arr=[0]*size\n",
    "print(\"Enter \",size,\" values\")\n",
    "for i in range(size):\n",
    "    arr[i]=int(input())\n",
    "print(arr)"
   ]
  },
  {
   "cell_type": "code",
   "execution_count": 2,
   "metadata": {},
   "outputs": [
    {
     "name": "stdout",
     "output_type": "stream",
     "text": [
      "[14, 4, 24, 12, 27, 18, 11, 23, 3, 28]\n",
      "Odd numebrs are \n",
      "27,11,23,3,"
     ]
    }
   ],
   "source": [
    "#create a 1D array to store 10 random numbers and print all odd numbers from it\n",
    "import random\n",
    "arr=[0]*10 #all elements of array filled with 0 value\n",
    "arr=random.sample(range(1,30),10)\n",
    "print(arr)\n",
    "print(\"Odd numebrs are \")\n",
    "for i in range(len(arr)):\n",
    "    if arr[i]%2!=0:\n",
    "        print(arr[i],end=\",\")"
   ]
  },
  {
   "cell_type": "code",
   "execution_count": null,
   "metadata": {},
   "outputs": [],
   "source": [
    "#addition of matrices\n",
    "\n",
    "row=int(input(\"Enter Number of rows\"))\n",
    "col=int(input(\"Enter Number of columns\"))\n",
    "\n",
    "#storing values in matrix a\n",
    "a=[] #empty list\n",
    "print(\"Enter \"+str(row*col)+\" values in Matrix A\")\n",
    "for i in range(row):\n",
    "    line=[]  #empty list named line\n",
    "    for j in range(col):\n",
    "        line.append(int(input())) #reading values from keyboard in list named as line\n",
    "    a.append(line) #adding values in list line to create a row of values in each iteration\n",
    "    \n",
    "#displaying values of matrix a\n",
    "print(\"Values in Matrix A\")\n",
    "for i in range(row):\n",
    "    for j in range(col):\n",
    "        print(a[i][j],end=\" \")\n",
    "    print()\n",
    "\n",
    "#storing values in matrix b\n",
    "b=[]\n",
    "print(\"Enter \"+str(row*col)+\" values in Matrix B\")\n",
    "for i in range(row):\n",
    "    line=[]\n",
    "    for j in range(col):\n",
    "        line.append(int(input()))\n",
    "    b.append(line)\n",
    "    \n",
    "#displaying values of matrix b\n",
    "print(\"Values in Matrix B\")\n",
    "for i in range(row):\n",
    "    for j in range(col):\n",
    "        print(b[i][j],end=\" \")\n",
    "    print()\n",
    "\n",
    "#adding elements of matrix a and b in Matrix c\n",
    "c=[]\n",
    "for i in range(row):\n",
    "    line=[]\n",
    "    for j in range(col):\n",
    "        line.append(a[i][j]+b[i][j]) #find sum of matrix a and b values at same index in list named as line\n",
    "    c.append(line) #adding the line in Matrix C\n",
    "\n",
    "print(\"Addition of Matrices A and B\") \n",
    "for i in range(row):\n",
    "    for j in range(col):\n",
    "        print(c[i][j],end=\" \")\n",
    "    print()\n"
   ]
  },
  {
   "cell_type": "code",
   "execution_count": 3,
   "metadata": {},
   "outputs": [
    {
     "name": "stdout",
     "output_type": "stream",
     "text": [
      "Enter number of rows of matrix A2\n",
      "Enter number of columns of matrix A3\n",
      "\n",
      "Enter number of rows of Matrix B3\n",
      "Enter number of columns of Matrix B4\n",
      "Enter 6 values\n",
      "1\n",
      "2\n",
      "3\n",
      "4\n",
      "5\n",
      "6\n",
      "Enter 12 values\n",
      "1\n",
      "2\n",
      "3\n",
      "4\n",
      "5\n",
      "6\n",
      "7\n",
      "8\n",
      "9\n",
      "1\n",
      "2\n",
      "3\n",
      "Matrix A\n",
      "1 2 3 \n",
      "4 5 6 \n",
      "Matrix B\n",
      "1 2 3 4 \n",
      "5 6 7 8 \n",
      "9 1 2 3 \n",
      "Product of Matices AxB\n",
      "38 17 23 29 \n",
      "83 44 59 74 \n"
     ]
    }
   ],
   "source": [
    "#product of matrices\n",
    "m=int(input(\"Enter number of rows of matrix A\"))\n",
    "n=int(input(\"Enter number of columns of matrix A\"))\n",
    "print()\n",
    "p=int(input(\"Enter number of rows of Matrix B\"))\n",
    "q=int(input(\"Enter number of columns of Matrix B\"))\n",
    "\n",
    "#check whether product of matrices possible or not\n",
    "if n!=p:\n",
    "    print(\"Product of Matrices not possible\")\n",
    "else:\n",
    "    a=[]\n",
    "    print(\"Enter \"+str(m*n)+\" values\")\n",
    "    for i in range(m):\n",
    "        line=[]\n",
    "        for j in range(n):\n",
    "            line.append(int(input()))\n",
    "        a.append(line)\n",
    "    b=[]\n",
    "    print(\"Enter \"+str(p*q)+\" values\")\n",
    "    for i in range(p):\n",
    "        line=[]\n",
    "        for j in range(q):\n",
    "            line.append(int(input()))\n",
    "        b.append(line)\n",
    "    print(\"Matrix A\")\n",
    "    for i in range(m):\n",
    "        for j in range(n):\n",
    "            print(a[i][j],end=\" \")\n",
    "        print()\n",
    "    print(\"Matrix B\")\n",
    "    for i in range(p):\n",
    "        for j in range(q):\n",
    "            print(b[i][j],end=\" \")\n",
    "        print()\n",
    "    \n",
    "    #creating empty matrix c to store product\n",
    "    c=[]\n",
    "    for i in range(m):\n",
    "        line=[]\n",
    "        for j in range(q):\n",
    "            line.append(0)\n",
    "        c.append(line)\n",
    "        \n",
    "    #calculating product of matrices a and b\n",
    "    for i in range(len(a)):         #to process/read rows of matrix a\n",
    "        for j in range(len(b[0])):  #to process/read column values\n",
    "            for k in range(len(b)): #to calculate and store product in Matrix c\n",
    "                c[i][j]+=a[i][k]*b[k][j]\n",
    "                \n",
    "    print(\"Product of Matices AxB\")        \n",
    "    for i in range(m):\n",
    "        for j in range(q):\n",
    "            print(c[i][j],end=\" \")\n",
    "        print()\n",
    "            \n"
   ]
  },
  {
   "cell_type": "code",
   "execution_count": 11,
   "metadata": {},
   "outputs": [
    {
     "name": "stdout",
     "output_type": "stream",
     "text": [
      "Input 16 values\n",
      "1\n",
      "2\n",
      "3\n",
      "4\n",
      "5\n",
      "6\n",
      "7\n",
      "8\n",
      "9\n",
      "0\n",
      "1\n",
      "2\n",
      "3\n",
      "4\n",
      "5\n",
      "6\n",
      "Matrix A elements are\n",
      "1 2 3 4 \n",
      "5 6 7 8 \n",
      "9 0 1 2 \n",
      "3 4 5 6 \n",
      "Matrix A indexes\n",
      "0 0 0 1 0 2 0 3 \n",
      "1 0 1 1 1 2 1 3 \n",
      "2 0 2 1 2 2 2 3 \n",
      "3 0 3 1 3 2 3 3 \n",
      "Diagonal elements are\n",
      "1 \n",
      "6 \n",
      "1 \n",
      "6 \n"
     ]
    }
   ],
   "source": [
    "##printing matrix elements present on matrix 1st diagonal\n",
    "a=[]\n",
    "row=4\n",
    "col=4\n",
    "print(\"Input \"+str(row*col)+\" values\")\n",
    "for i in range(row):\n",
    "    line=[]\n",
    "    for j in range(col):\n",
    "        line.append(int(input()))\n",
    "    a.append(line)\n",
    "print(\"Matrix A elements are\")\n",
    "for i in range(row):\n",
    "    for j in range(col):\n",
    "        print(a[i][j],end=\" \")\n",
    "    print()\n",
    "\n",
    "print(\"Matrix A indexes\")\n",
    "for i in range(row):\n",
    "    for j in range(col):\n",
    "        print(i,j,end=\" \")\n",
    "    print()\n",
    "\n",
    "print(\"Diagonal elements are\")\n",
    "for i in range(row):\n",
    "    for j in range(col):\n",
    "        if i==j:\n",
    "            print(a[i][j],end=\" \")\n",
    "    print()\n",
    "\n",
    "\n",
    "\n",
    "\n",
    "    "
   ]
  },
  {
   "cell_type": "code",
   "execution_count": null,
   "metadata": {},
   "outputs": [],
   "source": []
  },
  {
   "cell_type": "code",
   "execution_count": null,
   "metadata": {},
   "outputs": [],
   "source": []
  }
 ],
 "metadata": {
  "kernelspec": {
   "display_name": "Python 3",
   "language": "python",
   "name": "python3"
  }
 },
 "nbformat": 4,
 "nbformat_minor": 4
}
