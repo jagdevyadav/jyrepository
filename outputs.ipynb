{
 "cells": [
  {
   "cell_type": "code",
   "execution_count": 6,
   "metadata": {},
   "outputs": [
    {
     "output_type": "execute_result",
     "data": {
      "text/plain": "   first  second\na     10       6\nb     20      32",
      "text/html": "<div>\n<style scoped>\n    .dataframe tbody tr th:only-of-type {\n        vertical-align: middle;\n    }\n\n    .dataframe tbody tr th {\n        vertical-align: top;\n    }\n\n    .dataframe thead th {\n        text-align: right;\n    }\n</style>\n<table border=\"1\" class=\"dataframe\">\n  <thead>\n    <tr style=\"text-align: right;\">\n      <th></th>\n      <th>first</th>\n      <th>second</th>\n    </tr>\n  </thead>\n  <tbody>\n    <tr>\n      <th>a</th>\n      <td>10</td>\n      <td>6</td>\n    </tr>\n    <tr>\n      <th>b</th>\n      <td>20</td>\n      <td>32</td>\n    </tr>\n  </tbody>\n</table>\n</div>"
     },
     "metadata": {},
     "execution_count": 6
    }
   ],
   "source": [
    "import pandas as pd\n",
    "data=[{'a':10, 'b':20},{'a':6,'b':32, 'c':22}]\n",
    "df1=pd.DataFrame(data, index=[\"first\",\"second\"], columns=[\"a\",\"b\"])\n",
    "df1.T"
   ]
  },
  {
   "cell_type": "code",
   "execution_count": 12,
   "metadata": {},
   "outputs": [
    {
     "output_type": "execute_result",
     "data": {
      "text/plain": "    A   B   C\n0  15  17  19\n1  16  18  20\n2  20  21  22",
      "text/html": "<div>\n<style scoped>\n    .dataframe tbody tr th:only-of-type {\n        vertical-align: middle;\n    }\n\n    .dataframe tbody tr th {\n        vertical-align: top;\n    }\n\n    .dataframe thead th {\n        text-align: right;\n    }\n</style>\n<table border=\"1\" class=\"dataframe\">\n  <thead>\n    <tr style=\"text-align: right;\">\n      <th></th>\n      <th>A</th>\n      <th>B</th>\n      <th>C</th>\n    </tr>\n  </thead>\n  <tbody>\n    <tr>\n      <th>0</th>\n      <td>15</td>\n      <td>17</td>\n      <td>19</td>\n    </tr>\n    <tr>\n      <th>1</th>\n      <td>16</td>\n      <td>18</td>\n      <td>20</td>\n    </tr>\n    <tr>\n      <th>2</th>\n      <td>20</td>\n      <td>21</td>\n      <td>22</td>\n    </tr>\n  </tbody>\n</table>\n</div>"
     },
     "metadata": {},
     "execution_count": 12
    }
   ],
   "source": [
    "import pandas as jpd\n",
    "a=[15,16,20]\n",
    "b=[17,18,21]\n",
    "d=[19,20,22]\n",
    "myd={'A':a,'B':b,'C':d}\n",
    "df=jpd.DataFrame(myd)\n",
    "df"
   ]
  },
  {
   "cell_type": "code",
   "execution_count": 11,
   "metadata": {},
   "outputs": [
    {
     "output_type": "execute_result",
     "data": {
      "text/plain": "    A   B   D   C\n0  15  17  19 NaN\n1  16  18  20 NaN\n2  20  21  22 NaN",
      "text/html": "<div>\n<style scoped>\n    .dataframe tbody tr th:only-of-type {\n        vertical-align: middle;\n    }\n\n    .dataframe tbody tr th {\n        vertical-align: top;\n    }\n\n    .dataframe thead th {\n        text-align: right;\n    }\n</style>\n<table border=\"1\" class=\"dataframe\">\n  <thead>\n    <tr style=\"text-align: right;\">\n      <th></th>\n      <th>A</th>\n      <th>B</th>\n      <th>D</th>\n      <th>C</th>\n    </tr>\n  </thead>\n  <tbody>\n    <tr>\n      <th>0</th>\n      <td>15</td>\n      <td>17</td>\n      <td>19</td>\n      <td>NaN</td>\n    </tr>\n    <tr>\n      <th>1</th>\n      <td>16</td>\n      <td>18</td>\n      <td>20</td>\n      <td>NaN</td>\n    </tr>\n    <tr>\n      <th>2</th>\n      <td>20</td>\n      <td>21</td>\n      <td>22</td>\n      <td>NaN</td>\n    </tr>\n  </tbody>\n</table>\n</div>"
     },
     "metadata": {},
     "execution_count": 11
    }
   ],
   "source": [
    "import numpy as knp\n",
    "import pandas as jpd\n",
    "a=[15,16,20]\n",
    "b=[17,18,21]\n",
    "d=[19,20,22]\n",
    "myd={'A':a,'B':b,'D':d}\n",
    "df=jpd.DataFrame(myd)\n",
    "df['C']=knp.NaN\n",
    "df"
   ]
  },
  {
   "cell_type": "code",
   "execution_count": 21,
   "metadata": {
    "tags": []
   },
   "outputs": [
    {
     "output_type": "execute_result",
     "data": {
      "text/plain": "    A   B   B\n0  15  17  17\n1  16  18  18\n2  20  21  21",
      "text/html": "<div>\n<style scoped>\n    .dataframe tbody tr th:only-of-type {\n        vertical-align: middle;\n    }\n\n    .dataframe tbody tr th {\n        vertical-align: top;\n    }\n\n    .dataframe thead th {\n        text-align: right;\n    }\n</style>\n<table border=\"1\" class=\"dataframe\">\n  <thead>\n    <tr style=\"text-align: right;\">\n      <th></th>\n      <th>A</th>\n      <th>B</th>\n      <th>B</th>\n    </tr>\n  </thead>\n  <tbody>\n    <tr>\n      <th>0</th>\n      <td>15</td>\n      <td>17</td>\n      <td>17</td>\n    </tr>\n    <tr>\n      <th>1</th>\n      <td>16</td>\n      <td>18</td>\n      <td>18</td>\n    </tr>\n    <tr>\n      <th>2</th>\n      <td>20</td>\n      <td>21</td>\n      <td>21</td>\n    </tr>\n  </tbody>\n</table>\n</div>"
     },
     "metadata": {},
     "execution_count": 21
    }
   ],
   "source": [
    "import pandas as jpd\n",
    "import numpy as knp\n",
    "\n",
    "a=[15,16,20]\n",
    "b=[17,18,21]\n",
    "d=[19,20,22]\n",
    "myd={'A':a,'B':b,'D':d}\n",
    "df=jpd.DataFrame(myd)\n",
    "df['C']=[15,15,27]\n",
    "df\n",
    "df[['A','B','B']]"
   ]
  },
  {
   "cell_type": "code",
   "execution_count": 23,
   "metadata": {
    "tags": []
   },
   "outputs": [
    {
     "output_type": "stream",
     "name": "stdout",
     "text": "17\n"
    }
   ],
   "source": [
    "#pandas code to display minimum value from column 'A'\n",
    "m=df['B'].min()\n",
    "print(m)"
   ]
  },
  {
   "cell_type": "code",
   "execution_count": 2,
   "metadata": {
    "tags": []
   },
   "outputs": [
    {
     "output_type": "stream",
     "name": "stdout",
     "text": "[40 50 60 70]\n"
    }
   ],
   "source": [
    "import numpy as np                          \n",
    "d=np.array([10,20,30,40,50,60,70])             \n",
    "print(d[-4:])"
   ]
  },
  {
   "cell_type": "code",
   "execution_count": 1,
   "metadata": {
    "tags": []
   },
   "outputs": [
    {
     "output_type": "stream",
     "name": "stdout",
     "text": "75000\n60000.0\n"
    }
   ],
   "source": [
    "import pandas as pd\n",
    "sale=[5000, 60000,75000,25700, 65654]\n",
    "person=['salman', 'ramesh', 'kannujia', 'dharmesh', 'pratap']\n",
    "d={'salesmade':sale, 'salesman':person}\n",
    "df=pd.DataFrame(d)\n",
    "maxsales=df['salesmade'].max()\n",
    "print(maxsales)\n",
    "med=df['salesmade'].median()\n",
    "print(med)\n"
   ]
  },
  {
   "cell_type": "code",
   "execution_count": 19,
   "metadata": {
    "tags": []
   },
   "outputs": [
    {
     "output_type": "stream",
     "name": "stdout",
     "text": "20\n"
    }
   ],
   "source": [
    "marks=[65,25,20,75,65,95,20]\n",
    "m=100\n",
    "for i in marks:\n",
    "    if i<m:\n",
    "        m=i\n",
    "print(m) \n"
   ]
  },
  {
   "cell_type": "code",
   "execution_count": 1,
   "metadata": {
    "tags": []
   },
   "outputs": [
    {
     "output_type": "stream",
     "name": "stdout",
     "text": "[100 110 120 130 140 150 160 170 180 190]\n\n[[100 110 120 130 140]\n [150 160 170 180 190]]\n\n[140 190]\n(2, 5)\n"
    }
   ],
   "source": [
    "import numpy as np \n",
    "ar=np.arange(100,200,10)\n",
    "print(ar)\n",
    "print()\n",
    "ar=ar.reshape(2,5)\n",
    "print(ar)\n",
    "print()\n",
    "print(ar[:,4])\n",
    "print(ar.shape)"
   ]
  },
  {
   "cell_type": "code",
   "execution_count": 1,
   "metadata": {
    "tags": []
   },
   "outputs": [
    {
     "output_type": "stream",
     "name": "stdout",
     "text": "[[1 2 3]\n [4 5 6]\n [7 8 9]]\n\n[1 2 3]\n\n[3 6 9]\n"
    },
    {
     "output_type": "execute_result",
     "data": {
      "text/plain": "(3, 3)"
     },
     "metadata": {},
     "execution_count": 1
    }
   ],
   "source": [
    "import numpy as np \n",
    "arr=np.array([[1,2,3,],[4,5,6,],[7,8,9]])\n",
    "print(arr)\n",
    "print()\n",
    "print(np.amin(arr,0))\n",
    "print()\n",
    "print(np.amax(arr,1))\n",
    "arr.shape"
   ]
  },
  {
   "cell_type": "code",
   "execution_count": 19,
   "metadata": {},
   "outputs": [
    {
     "output_type": "execute_result",
     "data": {
      "text/plain": "   0  1  2  3\n0  1  2  3  0\n1  4  5  6  0\n2  7  8  9  0",
      "text/html": "<div>\n<style scoped>\n    .dataframe tbody tr th:only-of-type {\n        vertical-align: middle;\n    }\n\n    .dataframe tbody tr th {\n        vertical-align: top;\n    }\n\n    .dataframe thead th {\n        text-align: right;\n    }\n</style>\n<table border=\"1\" class=\"dataframe\">\n  <thead>\n    <tr style=\"text-align: right;\">\n      <th></th>\n      <th>0</th>\n      <th>1</th>\n      <th>2</th>\n      <th>3</th>\n    </tr>\n  </thead>\n  <tbody>\n    <tr>\n      <th>0</th>\n      <td>1</td>\n      <td>2</td>\n      <td>3</td>\n      <td>0</td>\n    </tr>\n    <tr>\n      <th>1</th>\n      <td>4</td>\n      <td>5</td>\n      <td>6</td>\n      <td>0</td>\n    </tr>\n    <tr>\n      <th>2</th>\n      <td>7</td>\n      <td>8</td>\n      <td>9</td>\n      <td>0</td>\n    </tr>\n  </tbody>\n</table>\n</div>"
     },
     "metadata": {},
     "execution_count": 19
    }
   ],
   "source": [
    "import pandas as pd \n",
    "arr=np.array([[1,2,3,0],[4,5,6,0],[7,8,9,0]])\n",
    "df=pd.DataFrame(arr)\n",
    "df"
   ]
  },
  {
   "cell_type": "code",
   "execution_count": 18,
   "metadata": {
    "tags": []
   },
   "outputs": [
    {
     "output_type": "execute_result",
     "data": {
      "text/plain": "    0   1   2\n0   1   2   3\n1   5   7   9\n2  12  15  18",
      "text/html": "<div>\n<style scoped>\n    .dataframe tbody tr th:only-of-type {\n        vertical-align: middle;\n    }\n\n    .dataframe tbody tr th {\n        vertical-align: top;\n    }\n\n    .dataframe thead th {\n        text-align: right;\n    }\n</style>\n<table border=\"1\" class=\"dataframe\">\n  <thead>\n    <tr style=\"text-align: right;\">\n      <th></th>\n      <th>0</th>\n      <th>1</th>\n      <th>2</th>\n    </tr>\n  </thead>\n  <tbody>\n    <tr>\n      <th>0</th>\n      <td>1</td>\n      <td>2</td>\n      <td>3</td>\n    </tr>\n    <tr>\n      <th>1</th>\n      <td>5</td>\n      <td>7</td>\n      <td>9</td>\n    </tr>\n    <tr>\n      <th>2</th>\n      <td>12</td>\n      <td>15</td>\n      <td>18</td>\n    </tr>\n  </tbody>\n</table>\n</div>"
     },
     "metadata": {},
     "execution_count": 18
    }
   ],
   "source": [
    "import pandas as pd \n",
    "arr=np.array([[1,2,3,],[4,5,6,],[7,8,9]])\n",
    "df=pd.DataFrame(arr)\n",
    "df.cumsum()\n",
    "#cumsum() is a function used to find sum of column values in a dataframe."
   ]
  },
  {
   "cell_type": "code",
   "execution_count": 9,
   "metadata": {},
   "outputs": [
    {
     "output_type": "execute_result",
     "data": {
      "text/plain": "   0  1  2\n0  1  2  3\n1  4  5  6\n2  7  8  9",
      "text/html": "<div>\n<style scoped>\n    .dataframe tbody tr th:only-of-type {\n        vertical-align: middle;\n    }\n\n    .dataframe tbody tr th {\n        vertical-align: top;\n    }\n\n    .dataframe thead th {\n        text-align: right;\n    }\n</style>\n<table border=\"1\" class=\"dataframe\">\n  <thead>\n    <tr style=\"text-align: right;\">\n      <th></th>\n      <th>0</th>\n      <th>1</th>\n      <th>2</th>\n    </tr>\n  </thead>\n  <tbody>\n    <tr>\n      <th>0</th>\n      <td>1</td>\n      <td>2</td>\n      <td>3</td>\n    </tr>\n    <tr>\n      <th>1</th>\n      <td>4</td>\n      <td>5</td>\n      <td>6</td>\n    </tr>\n    <tr>\n      <th>2</th>\n      <td>7</td>\n      <td>8</td>\n      <td>9</td>\n    </tr>\n  </tbody>\n</table>\n</div>"
     },
     "metadata": {},
     "execution_count": 9
    }
   ],
   "source": [
    "import pandas as pd \n",
    "arr=np.array([[1,2,3,],[4,5,6,],[7,8,9]])\n",
    "df=pd.DataFrame(arr)\n",
    "df.cummax()"
   ]
  },
  {
   "cell_type": "code",
   "execution_count": 11,
   "metadata": {},
   "outputs": [
    {
     "output_type": "execute_result",
     "data": {
      "text/plain": "   0  1  2\n0  1  2  3\n1  1  2  3\n2  1  2  3",
      "text/html": "<div>\n<style scoped>\n    .dataframe tbody tr th:only-of-type {\n        vertical-align: middle;\n    }\n\n    .dataframe tbody tr th {\n        vertical-align: top;\n    }\n\n    .dataframe thead th {\n        text-align: right;\n    }\n</style>\n<table border=\"1\" class=\"dataframe\">\n  <thead>\n    <tr style=\"text-align: right;\">\n      <th></th>\n      <th>0</th>\n      <th>1</th>\n      <th>2</th>\n    </tr>\n  </thead>\n  <tbody>\n    <tr>\n      <th>0</th>\n      <td>1</td>\n      <td>2</td>\n      <td>3</td>\n    </tr>\n    <tr>\n      <th>1</th>\n      <td>1</td>\n      <td>2</td>\n      <td>3</td>\n    </tr>\n    <tr>\n      <th>2</th>\n      <td>1</td>\n      <td>2</td>\n      <td>3</td>\n    </tr>\n  </tbody>\n</table>\n</div>"
     },
     "metadata": {},
     "execution_count": 11
    }
   ],
   "source": [
    "import pandas as pd \n",
    "arr=np.array([[1,2,3,],[4,5,6,],[7,8,9]])\n",
    "df=pd.DataFrame(arr)\n",
    "df.cummin()"
   ]
  },
  {
   "cell_type": "code",
   "execution_count": 12,
   "metadata": {},
   "outputs": [
    {
     "output_type": "execute_result",
     "data": {
      "text/plain": "    0   1    2\n0   1   2    3\n1   4  10   18\n2  28  80  162",
      "text/html": "<div>\n<style scoped>\n    .dataframe tbody tr th:only-of-type {\n        vertical-align: middle;\n    }\n\n    .dataframe tbody tr th {\n        vertical-align: top;\n    }\n\n    .dataframe thead th {\n        text-align: right;\n    }\n</style>\n<table border=\"1\" class=\"dataframe\">\n  <thead>\n    <tr style=\"text-align: right;\">\n      <th></th>\n      <th>0</th>\n      <th>1</th>\n      <th>2</th>\n    </tr>\n  </thead>\n  <tbody>\n    <tr>\n      <th>0</th>\n      <td>1</td>\n      <td>2</td>\n      <td>3</td>\n    </tr>\n    <tr>\n      <th>1</th>\n      <td>4</td>\n      <td>10</td>\n      <td>18</td>\n    </tr>\n    <tr>\n      <th>2</th>\n      <td>28</td>\n      <td>80</td>\n      <td>162</td>\n    </tr>\n  </tbody>\n</table>\n</div>"
     },
     "metadata": {},
     "execution_count": 12
    }
   ],
   "source": [
    "import pandas as pd \n",
    "arr=np.array([[1,2,3,],[4,5,6,],[7,8,9]])\n",
    "df=pd.DataFrame(arr)\n",
    "df.cumprod()"
   ]
  },
  {
   "cell_type": "code",
   "execution_count": 13,
   "metadata": {},
   "outputs": [
    {
     "output_type": "execute_result",
     "data": {
      "text/plain": "0    2\n1    2\n2    2\ndtype: int64"
     },
     "metadata": {},
     "execution_count": 13
    }
   ],
   "source": [
    "import pandas as pd \n",
    "arr=np.array([[1,2,3,],[4,5,6,],[7,8,9]])\n",
    "df=pd.DataFrame(arr)\n",
    "df.idxmax()"
   ]
  },
  {
   "cell_type": "code",
   "execution_count": 14,
   "metadata": {},
   "outputs": [
    {
     "output_type": "execute_result",
     "data": {
      "text/plain": "0    0\n1    0\n2    0\ndtype: int64"
     },
     "metadata": {},
     "execution_count": 14
    }
   ],
   "source": [
    "import pandas as pd \n",
    "arr=np.array([[1,2,3,],[4,5,6,],[7,8,9]])\n",
    "df=pd.DataFrame(arr)\n",
    "df.idxmin()"
   ]
  },
  {
   "cell_type": "code",
   "execution_count": 15,
   "metadata": {},
   "outputs": [
    {
     "output_type": "execute_result",
     "data": {
      "text/plain": "   0  1  2\n0  1  2  3\n1  4  5  6\n2  7  8  9",
      "text/html": "<div>\n<style scoped>\n    .dataframe tbody tr th:only-of-type {\n        vertical-align: middle;\n    }\n\n    .dataframe tbody tr th {\n        vertical-align: top;\n    }\n\n    .dataframe thead th {\n        text-align: right;\n    }\n</style>\n<table border=\"1\" class=\"dataframe\">\n  <thead>\n    <tr style=\"text-align: right;\">\n      <th></th>\n      <th>0</th>\n      <th>1</th>\n      <th>2</th>\n    </tr>\n  </thead>\n  <tbody>\n    <tr>\n      <th>0</th>\n      <td>1</td>\n      <td>2</td>\n      <td>3</td>\n    </tr>\n    <tr>\n      <th>1</th>\n      <td>4</td>\n      <td>5</td>\n      <td>6</td>\n    </tr>\n    <tr>\n      <th>2</th>\n      <td>7</td>\n      <td>8</td>\n      <td>9</td>\n    </tr>\n  </tbody>\n</table>\n</div>"
     },
     "metadata": {},
     "execution_count": 15
    }
   ],
   "source": [
    "import pandas as pd \n",
    "arr=np.array([[1,2,3,],[4,5,6,],[7,8,9]])\n",
    "df1=pd.DataFrame(arr)\n",
    "df2=pd.DataFrame(arr)\n",
    "df1"
   ]
  },
  {
   "cell_type": "code",
   "execution_count": 16,
   "metadata": {},
   "outputs": [
    {
     "output_type": "execute_result",
     "data": {
      "text/plain": "   0  1  2\n0  1  2  3\n1  4  5  6\n2  7  8  9",
      "text/html": "<div>\n<style scoped>\n    .dataframe tbody tr th:only-of-type {\n        vertical-align: middle;\n    }\n\n    .dataframe tbody tr th {\n        vertical-align: top;\n    }\n\n    .dataframe thead th {\n        text-align: right;\n    }\n</style>\n<table border=\"1\" class=\"dataframe\">\n  <thead>\n    <tr style=\"text-align: right;\">\n      <th></th>\n      <th>0</th>\n      <th>1</th>\n      <th>2</th>\n    </tr>\n  </thead>\n  <tbody>\n    <tr>\n      <th>0</th>\n      <td>1</td>\n      <td>2</td>\n      <td>3</td>\n    </tr>\n    <tr>\n      <th>1</th>\n      <td>4</td>\n      <td>5</td>\n      <td>6</td>\n    </tr>\n    <tr>\n      <th>2</th>\n      <td>7</td>\n      <td>8</td>\n      <td>9</td>\n    </tr>\n  </tbody>\n</table>\n</div>"
     },
     "metadata": {},
     "execution_count": 16
    }
   ],
   "source": [
    "df2"
   ]
  },
  {
   "cell_type": "code",
   "execution_count": 17,
   "metadata": {},
   "outputs": [
    {
     "output_type": "execute_result",
     "data": {
      "text/plain": "    0   1   2\n0   2   4   6\n1   8  10  12\n2  14  16  18",
      "text/html": "<div>\n<style scoped>\n    .dataframe tbody tr th:only-of-type {\n        vertical-align: middle;\n    }\n\n    .dataframe tbody tr th {\n        vertical-align: top;\n    }\n\n    .dataframe thead th {\n        text-align: right;\n    }\n</style>\n<table border=\"1\" class=\"dataframe\">\n  <thead>\n    <tr style=\"text-align: right;\">\n      <th></th>\n      <th>0</th>\n      <th>1</th>\n      <th>2</th>\n    </tr>\n  </thead>\n  <tbody>\n    <tr>\n      <th>0</th>\n      <td>2</td>\n      <td>4</td>\n      <td>6</td>\n    </tr>\n    <tr>\n      <th>1</th>\n      <td>8</td>\n      <td>10</td>\n      <td>12</td>\n    </tr>\n    <tr>\n      <th>2</th>\n      <td>14</td>\n      <td>16</td>\n      <td>18</td>\n    </tr>\n  </tbody>\n</table>\n</div>"
     },
     "metadata": {},
     "execution_count": 17
    }
   ],
   "source": [
    "df1+df2"
   ]
  },
  {
   "cell_type": "code",
   "execution_count": null,
   "metadata": {},
   "outputs": [],
   "source": [
    "#MATCHING: It refers to default behaviour of data alignment on the basis of matching indexes is called MATCHING\n",
    "#"
   ]
  },
  {
   "cell_type": "code",
   "execution_count": 19,
   "metadata": {},
   "outputs": [
    {
     "output_type": "execute_result",
     "data": {
      "text/plain": "25"
     },
     "metadata": {},
     "execution_count": 19
    }
   ],
   "source": [
    "import pandas as pd\n",
    "import numpy as np \n",
    "ar=np.arange(50,100,2)   \n",
    "v=pd.Series(ar)\n",
    "v.count()   #count return number of values in array"
   ]
  },
  {
   "cell_type": "code",
   "execution_count": 2,
   "metadata": {},
   "outputs": [
    {
     "output_type": "execute_result",
     "data": {
      "text/plain": "False"
     },
     "metadata": {},
     "execution_count": 2
    }
   ],
   "source": [
    "import pandas as pd\n",
    "import numpy as np \n",
    "ar=np.arange(50,100,2)   \n",
    "v=pd.Series(ar)\n",
    "v.hasnans   #hasnans return True either of element in array are Nan"
   ]
  },
  {
   "cell_type": "code",
   "execution_count": 3,
   "metadata": {},
   "outputs": [
    {
     "output_type": "execute_result",
     "data": {
      "text/plain": "array([False, False, False, False, False, False, False, False, False,\n       False, False, False, False,  True,  True,  True,  True,  True,\n        True,  True,  True,  True,  True,  True,  True])"
     },
     "metadata": {},
     "execution_count": 3
    }
   ],
   "source": [
    "ar>75"
   ]
  },
  {
   "cell_type": "code",
   "execution_count": 20,
   "metadata": {},
   "outputs": [
    {
     "output_type": "execute_result",
     "data": {
      "text/plain": "array([ True,  True,  True,  True,  True,  True,  True,  True,  True,\n        True,  True,  True,  True, False, False, False, False, False,\n       False, False, False, False, False, False, False])"
     },
     "metadata": {},
     "execution_count": 20
    }
   ],
   "source": [
    "ar<75"
   ]
  },
  {
   "cell_type": "code",
   "execution_count": 4,
   "metadata": {},
   "outputs": [
    {
     "output_type": "execute_result",
     "data": {
      "text/plain": "array([100, 104, 108, 112, 116, 120, 124, 128, 132, 136, 140, 144, 148,\n       152, 156, 160, 164, 168, 172, 176, 180, 184, 188, 192, 196])"
     },
     "metadata": {},
     "execution_count": 4
    }
   ],
   "source": [
    "ar*2"
   ]
  },
  {
   "cell_type": "code",
   "execution_count": 7,
   "metadata": {},
   "outputs": [
    {
     "output_type": "execute_result",
     "data": {
      "text/plain": "array([2500, 2704, 2916, 3136, 3364, 3600, 3844, 4096, 4356, 4624, 4900,\n       5184, 5476, 5776, 6084, 6400, 6724, 7056, 7396, 7744, 8100, 8464,\n       8836, 9216, 9604])"
     },
     "metadata": {},
     "execution_count": 7
    }
   ],
   "source": [
    "ar**2"
   ]
  },
  {
   "cell_type": "code",
   "execution_count": 11,
   "metadata": {
    "tags": []
   },
   "outputs": [
    {
     "output_type": "stream",
     "name": "stdout",
     "text": "[50 52 54 56 58 60 62 64 66 68 70 72 74 76 78 80 82 84 86 88 90 92 94 96\n 98]\n\n[50 52 54 56 58 60 62 64 66 68 70 72 74 76 78 80 82 84 86 88 90 92 94 96\n 98]\n[100 104 108 112 116 120 124 128 132 136 140 144 148 152 156 160 164 168\n 172 176 180 184 188 192 196]\n"
    }
   ],
   "source": [
    "ar2=ar\n",
    "print(ar2)\n",
    "print()\n",
    "print(ar)\n",
    "print(ar+ar2)"
   ]
  },
  {
   "cell_type": "code",
   "execution_count": 29,
   "metadata": {},
   "outputs": [
    {
     "output_type": "execute_result",
     "data": {
      "text/plain": "     0\n60  10\n59  11\n58  12\n57  13\n56  14\n55  15\n54  16\n53  17\n52  18\n51  19\n50  20\n49  21\n48  22\n47  23\n46  24\n45  25\n44  26\n43  27\n42  28\n41  29\n40  30\n39  31\n38  32\n37  33\n36  34\n35  35\n34  36\n33  37\n32  38\n31  39\n30  40\n29  41\n28  42\n27  43\n26  44\n25  45\n24  46\n23  47\n22  48\n21  49\n20  50\n19  51\n18  52\n17  53\n16  54\n15  55\n14  56\n13  57\n12  58\n11  59",
      "text/html": "<div>\n<style scoped>\n    .dataframe tbody tr th:only-of-type {\n        vertical-align: middle;\n    }\n\n    .dataframe tbody tr th {\n        vertical-align: top;\n    }\n\n    .dataframe thead th {\n        text-align: right;\n    }\n</style>\n<table border=\"1\" class=\"dataframe\">\n  <thead>\n    <tr style=\"text-align: right;\">\n      <th></th>\n      <th>0</th>\n    </tr>\n  </thead>\n  <tbody>\n    <tr>\n      <th>60</th>\n      <td>10</td>\n    </tr>\n    <tr>\n      <th>59</th>\n      <td>11</td>\n    </tr>\n    <tr>\n      <th>58</th>\n      <td>12</td>\n    </tr>\n    <tr>\n      <th>57</th>\n      <td>13</td>\n    </tr>\n    <tr>\n      <th>56</th>\n      <td>14</td>\n    </tr>\n    <tr>\n      <th>55</th>\n      <td>15</td>\n    </tr>\n    <tr>\n      <th>54</th>\n      <td>16</td>\n    </tr>\n    <tr>\n      <th>53</th>\n      <td>17</td>\n    </tr>\n    <tr>\n      <th>52</th>\n      <td>18</td>\n    </tr>\n    <tr>\n      <th>51</th>\n      <td>19</td>\n    </tr>\n    <tr>\n      <th>50</th>\n      <td>20</td>\n    </tr>\n    <tr>\n      <th>49</th>\n      <td>21</td>\n    </tr>\n    <tr>\n      <th>48</th>\n      <td>22</td>\n    </tr>\n    <tr>\n      <th>47</th>\n      <td>23</td>\n    </tr>\n    <tr>\n      <th>46</th>\n      <td>24</td>\n    </tr>\n    <tr>\n      <th>45</th>\n      <td>25</td>\n    </tr>\n    <tr>\n      <th>44</th>\n      <td>26</td>\n    </tr>\n    <tr>\n      <th>43</th>\n      <td>27</td>\n    </tr>\n    <tr>\n      <th>42</th>\n      <td>28</td>\n    </tr>\n    <tr>\n      <th>41</th>\n      <td>29</td>\n    </tr>\n    <tr>\n      <th>40</th>\n      <td>30</td>\n    </tr>\n    <tr>\n      <th>39</th>\n      <td>31</td>\n    </tr>\n    <tr>\n      <th>38</th>\n      <td>32</td>\n    </tr>\n    <tr>\n      <th>37</th>\n      <td>33</td>\n    </tr>\n    <tr>\n      <th>36</th>\n      <td>34</td>\n    </tr>\n    <tr>\n      <th>35</th>\n      <td>35</td>\n    </tr>\n    <tr>\n      <th>34</th>\n      <td>36</td>\n    </tr>\n    <tr>\n      <th>33</th>\n      <td>37</td>\n    </tr>\n    <tr>\n      <th>32</th>\n      <td>38</td>\n    </tr>\n    <tr>\n      <th>31</th>\n      <td>39</td>\n    </tr>\n    <tr>\n      <th>30</th>\n      <td>40</td>\n    </tr>\n    <tr>\n      <th>29</th>\n      <td>41</td>\n    </tr>\n    <tr>\n      <th>28</th>\n      <td>42</td>\n    </tr>\n    <tr>\n      <th>27</th>\n      <td>43</td>\n    </tr>\n    <tr>\n      <th>26</th>\n      <td>44</td>\n    </tr>\n    <tr>\n      <th>25</th>\n      <td>45</td>\n    </tr>\n    <tr>\n      <th>24</th>\n      <td>46</td>\n    </tr>\n    <tr>\n      <th>23</th>\n      <td>47</td>\n    </tr>\n    <tr>\n      <th>22</th>\n      <td>48</td>\n    </tr>\n    <tr>\n      <th>21</th>\n      <td>49</td>\n    </tr>\n    <tr>\n      <th>20</th>\n      <td>50</td>\n    </tr>\n    <tr>\n      <th>19</th>\n      <td>51</td>\n    </tr>\n    <tr>\n      <th>18</th>\n      <td>52</td>\n    </tr>\n    <tr>\n      <th>17</th>\n      <td>53</td>\n    </tr>\n    <tr>\n      <th>16</th>\n      <td>54</td>\n    </tr>\n    <tr>\n      <th>15</th>\n      <td>55</td>\n    </tr>\n    <tr>\n      <th>14</th>\n      <td>56</td>\n    </tr>\n    <tr>\n      <th>13</th>\n      <td>57</td>\n    </tr>\n    <tr>\n      <th>12</th>\n      <td>58</td>\n    </tr>\n    <tr>\n      <th>11</th>\n      <td>59</td>\n    </tr>\n  </tbody>\n</table>\n</div>"
     },
     "metadata": {},
     "execution_count": 29
    }
   ],
   "source": [
    "import numpy as np \n",
    "import pandas as pd \n",
    "ar=np.arange(10,60)\n",
    "#df=pd.DataFrame(ar)\n",
    "df=pd.DataFrame(ar,index=[x for x in range(60,10,-1)])\n",
    "df\n"
   ]
  },
  {
   "cell_type": "code",
   "execution_count": 31,
   "metadata": {},
   "outputs": [
    {
     "output_type": "execute_result",
     "data": {
      "text/plain": "<bound method DataFrame.reindex of     0\ni   1\nn   2\nf   3\no   4\nr   5\nm   6\na   7\nt   8\ni   9\nc  10\ns  11>"
     },
     "metadata": {},
     "execution_count": 31
    }
   ],
   "source": [
    "import numpy as np \n",
    "import pandas as pd \n",
    "ar=np.arange(1,12)\n",
    "df=pd.DataFrame(ar,index=[x for x in \"informatics\"])\n",
    "df\n",
    "df2=df.reindex\n",
    "df2"
   ]
  },
  {
   "cell_type": "code",
   "execution_count": 30,
   "metadata": {},
   "outputs": [
    {
     "output_type": "execute_result",
     "data": {
      "text/plain": "<bound method DataFrame.reindex of      0\n60  10\n59  11\n58  12\n57  13\n56  14\n55  15\n54  16\n53  17\n52  18\n51  19\n50  20\n49  21\n48  22\n47  23\n46  24\n45  25\n44  26\n43  27\n42  28\n41  29\n40  30\n39  31\n38  32\n37  33\n36  34\n35  35\n34  36\n33  37\n32  38\n31  39\n30  40\n29  41\n28  42\n27  43\n26  44\n25  45\n24  46\n23  47\n22  48\n21  49\n20  50\n19  51\n18  52\n17  53\n16  54\n15  55\n14  56\n13  57\n12  58\n11  59>"
     },
     "metadata": {},
     "execution_count": 30
    }
   ],
   "source": [
    "df2=df.reindex\n",
    "df2"
   ]
  },
  {
   "cell_type": "code",
   "execution_count": 44,
   "metadata": {},
   "outputs": [
    {
     "output_type": "execute_result",
     "data": {
      "text/plain": "     0   0\n0  1.0  10\n1  2.0  11\n2  3.0  12\n3  4.0  13\n4  5.0  14\n5  6.0  15\n6  7.0  16\n7  NaN  17\n8  NaN  18\n9  NaN  19",
      "text/html": "<div>\n<style scoped>\n    .dataframe tbody tr th:only-of-type {\n        vertical-align: middle;\n    }\n\n    .dataframe tbody tr th {\n        vertical-align: top;\n    }\n\n    .dataframe thead th {\n        text-align: right;\n    }\n</style>\n<table border=\"1\" class=\"dataframe\">\n  <thead>\n    <tr style=\"text-align: right;\">\n      <th></th>\n      <th>0</th>\n      <th>0</th>\n    </tr>\n  </thead>\n  <tbody>\n    <tr>\n      <th>0</th>\n      <td>1.0</td>\n      <td>10</td>\n    </tr>\n    <tr>\n      <th>1</th>\n      <td>2.0</td>\n      <td>11</td>\n    </tr>\n    <tr>\n      <th>2</th>\n      <td>3.0</td>\n      <td>12</td>\n    </tr>\n    <tr>\n      <th>3</th>\n      <td>4.0</td>\n      <td>13</td>\n    </tr>\n    <tr>\n      <th>4</th>\n      <td>5.0</td>\n      <td>14</td>\n    </tr>\n    <tr>\n      <th>5</th>\n      <td>6.0</td>\n      <td>15</td>\n    </tr>\n    <tr>\n      <th>6</th>\n      <td>7.0</td>\n      <td>16</td>\n    </tr>\n    <tr>\n      <th>7</th>\n      <td>NaN</td>\n      <td>17</td>\n    </tr>\n    <tr>\n      <th>8</th>\n      <td>NaN</td>\n      <td>18</td>\n    </tr>\n    <tr>\n      <th>9</th>\n      <td>NaN</td>\n      <td>19</td>\n    </tr>\n  </tbody>\n</table>\n</div>"
     },
     "metadata": {},
     "execution_count": 44
    }
   ],
   "source": [
    "\n",
    "import numpy as np \n",
    "import pandas as pd \n",
    "ar1=np.arange(1,8)\n",
    "df1=pd.DataFrame(ar1)\n",
    "df1\n",
    "ar2=np.arange(10,20)\n",
    "df2=pd.DataFrame(ar2)\n",
    "df2\n",
    "df3=pd.concat([df1,df2],axis=1)\n",
    "df3"
   ]
  },
  {
   "cell_type": "code",
   "execution_count": 7,
   "metadata": {},
   "outputs": [
    {
     "output_type": "execute_result",
     "data": {
      "text/plain": "     2019     2020   2019   2020\n0  1000.0   2000.0   3000   6000\n1  2000.0      NaN   6000   9000\n2     NaN   8000.0   9000   8000\n3  4000.0  10000.0   4000   2000\n4  5000.0   9000.0  55000  66000",
      "text/html": "<div>\n<style scoped>\n    .dataframe tbody tr th:only-of-type {\n        vertical-align: middle;\n    }\n\n    .dataframe tbody tr th {\n        vertical-align: top;\n    }\n\n    .dataframe thead th {\n        text-align: right;\n    }\n</style>\n<table border=\"1\" class=\"dataframe\">\n  <thead>\n    <tr style=\"text-align: right;\">\n      <th></th>\n      <th>2019</th>\n      <th>2020</th>\n      <th>2019</th>\n      <th>2020</th>\n    </tr>\n  </thead>\n  <tbody>\n    <tr>\n      <th>0</th>\n      <td>1000.0</td>\n      <td>2000.0</td>\n      <td>3000</td>\n      <td>6000</td>\n    </tr>\n    <tr>\n      <th>1</th>\n      <td>2000.0</td>\n      <td>NaN</td>\n      <td>6000</td>\n      <td>9000</td>\n    </tr>\n    <tr>\n      <th>2</th>\n      <td>NaN</td>\n      <td>8000.0</td>\n      <td>9000</td>\n      <td>8000</td>\n    </tr>\n    <tr>\n      <th>3</th>\n      <td>4000.0</td>\n      <td>10000.0</td>\n      <td>4000</td>\n      <td>2000</td>\n    </tr>\n    <tr>\n      <th>4</th>\n      <td>5000.0</td>\n      <td>9000.0</td>\n      <td>55000</td>\n      <td>66000</td>\n    </tr>\n  </tbody>\n</table>\n</div>"
     },
     "metadata": {},
     "execution_count": 7
    }
   ],
   "source": [
    "import numpy as np \n",
    "import pandas as pd \n",
    "y1=[1000,2000,np.NaN,4000,5000]\n",
    "y2=[2000,np.NaN,8000,10000,9000]\n",
    "y3=[3000,6000,9000,4000,55000]\n",
    "y4=[6000,9000,8000,2000,66000]\n",
    "d1={'2019':y1, '2020':y2}\n",
    "d2={'2019':y3,'2020':y4}\n",
    "df1=pd.DataFrame(d1)\n",
    "df2=pd.DataFrame(d2)\n",
    "pd.concat([df1,df2],axis=1)"
   ]
  },
  {
   "cell_type": "code",
   "execution_count": 8,
   "metadata": {},
   "outputs": [
    {
     "output_type": "execute_result",
     "data": {
      "text/plain": "     2019     2020\n0  1000.0   2000.0\n1  2000.0   9000.0\n2  9000.0   8000.0\n3  4000.0  10000.0\n4  5000.0   9000.0",
      "text/html": "<div>\n<style scoped>\n    .dataframe tbody tr th:only-of-type {\n        vertical-align: middle;\n    }\n\n    .dataframe tbody tr th {\n        vertical-align: top;\n    }\n\n    .dataframe thead th {\n        text-align: right;\n    }\n</style>\n<table border=\"1\" class=\"dataframe\">\n  <thead>\n    <tr style=\"text-align: right;\">\n      <th></th>\n      <th>2019</th>\n      <th>2020</th>\n    </tr>\n  </thead>\n  <tbody>\n    <tr>\n      <th>0</th>\n      <td>1000.0</td>\n      <td>2000.0</td>\n    </tr>\n    <tr>\n      <th>1</th>\n      <td>2000.0</td>\n      <td>9000.0</td>\n    </tr>\n    <tr>\n      <th>2</th>\n      <td>9000.0</td>\n      <td>8000.0</td>\n    </tr>\n    <tr>\n      <th>3</th>\n      <td>4000.0</td>\n      <td>10000.0</td>\n    </tr>\n    <tr>\n      <th>4</th>\n      <td>5000.0</td>\n      <td>9000.0</td>\n    </tr>\n  </tbody>\n</table>\n</div>"
     },
     "metadata": {},
     "execution_count": 8
    }
   ],
   "source": [
    "df1.combine_first(df2)"
   ]
  },
  {
   "cell_type": "code",
   "execution_count": 9,
   "metadata": {},
   "outputs": [
    {
     "output_type": "execute_result",
     "data": {
      "text/plain": "    2019   2020\n0   3000   6000\n1   6000   9000\n2   9000   8000\n3   4000   2000\n4  55000  66000",
      "text/html": "<div>\n<style scoped>\n    .dataframe tbody tr th:only-of-type {\n        vertical-align: middle;\n    }\n\n    .dataframe tbody tr th {\n        vertical-align: top;\n    }\n\n    .dataframe thead th {\n        text-align: right;\n    }\n</style>\n<table border=\"1\" class=\"dataframe\">\n  <thead>\n    <tr style=\"text-align: right;\">\n      <th></th>\n      <th>2019</th>\n      <th>2020</th>\n    </tr>\n  </thead>\n  <tbody>\n    <tr>\n      <th>0</th>\n      <td>3000</td>\n      <td>6000</td>\n    </tr>\n    <tr>\n      <th>1</th>\n      <td>6000</td>\n      <td>9000</td>\n    </tr>\n    <tr>\n      <th>2</th>\n      <td>9000</td>\n      <td>8000</td>\n    </tr>\n    <tr>\n      <th>3</th>\n      <td>4000</td>\n      <td>2000</td>\n    </tr>\n    <tr>\n      <th>4</th>\n      <td>55000</td>\n      <td>66000</td>\n    </tr>\n  </tbody>\n</table>\n</div>"
     },
     "metadata": {},
     "execution_count": 9
    }
   ],
   "source": [
    "df2.combine_first(df1)"
   ]
  },
  {
   "cell_type": "code",
   "execution_count": 18,
   "metadata": {},
   "outputs": [
    {
     "output_type": "execute_result",
     "data": {
      "text/plain": "   rno    fname       lname  marks\n0    1    ayush  Maheshwari     15\n1    2     ajay       kumar     18\n2    3    kanha      narang     11\n3    4  pranshi      singla     14\n4    5  sanchit     singhal     17",
      "text/html": "<div>\n<style scoped>\n    .dataframe tbody tr th:only-of-type {\n        vertical-align: middle;\n    }\n\n    .dataframe tbody tr th {\n        vertical-align: top;\n    }\n\n    .dataframe thead th {\n        text-align: right;\n    }\n</style>\n<table border=\"1\" class=\"dataframe\">\n  <thead>\n    <tr style=\"text-align: right;\">\n      <th></th>\n      <th>rno</th>\n      <th>fname</th>\n      <th>lname</th>\n      <th>marks</th>\n    </tr>\n  </thead>\n  <tbody>\n    <tr>\n      <th>0</th>\n      <td>1</td>\n      <td>ayush</td>\n      <td>Maheshwari</td>\n      <td>15</td>\n    </tr>\n    <tr>\n      <th>1</th>\n      <td>2</td>\n      <td>ajay</td>\n      <td>kumar</td>\n      <td>18</td>\n    </tr>\n    <tr>\n      <th>2</th>\n      <td>3</td>\n      <td>kanha</td>\n      <td>narang</td>\n      <td>11</td>\n    </tr>\n    <tr>\n      <th>3</th>\n      <td>4</td>\n      <td>pranshi</td>\n      <td>singla</td>\n      <td>14</td>\n    </tr>\n    <tr>\n      <th>4</th>\n      <td>5</td>\n      <td>sanchit</td>\n      <td>singhal</td>\n      <td>17</td>\n    </tr>\n  </tbody>\n</table>\n</div>"
     },
     "metadata": {},
     "execution_count": 18
    }
   ],
   "source": [
    "import numpy as np \n",
    "import pandas as pd \n",
    "r=[1,2,3,4,5]\n",
    "fn=['ayush','ajay','kanha','pranshi','sanchit']\n",
    "ln=['Maheshwari','kumar','narang','singla','singhal']\n",
    "d1={'rno':r, 'fname':fn,'lname':ln}\n",
    "#df1=pd.DataFrame([r,fn,ln])\n",
    "df1=pd.DataFrame(d1)\n",
    "df1\n",
    "\n",
    "m=[15,18,11,14,17]\n",
    "d2={'rno':r,'marks':m}\n",
    "df2=pd.DataFrame(d2)\n",
    "df2\n",
    "\n",
    "pd.concat([df1,df2],axis=1)\n",
    "\n",
    "#merge function to combine dataframes on common column.abs\n",
    "pd.merge(df1,df2,on='rno')"
   ]
  },
  {
   "cell_type": "code",
   "execution_count": 22,
   "metadata": {
    "tags": []
   },
   "outputs": [
    {
     "output_type": "stream",
     "name": "stdout",
     "text": "Data Values in Dataframe\nNow Data in DataFrame\n"
    },
    {
     "output_type": "execute_result",
     "data": {
      "text/plain": "      name  ip  eng  eco  total    average grade\n0  rishita  95   80   78    253  84.333333     A\n1  sanchit  75   75   70    220  73.333333    B+\n2  vaibhav  79   70   70    219  73.000000    B+\n3    vansh  70   65   65    200  66.666667     B\n4    tisha  80   80   80    240  80.000000    B+",
      "text/html": "<div>\n<style scoped>\n    .dataframe tbody tr th:only-of-type {\n        vertical-align: middle;\n    }\n\n    .dataframe tbody tr th {\n        vertical-align: top;\n    }\n\n    .dataframe thead th {\n        text-align: right;\n    }\n</style>\n<table border=\"1\" class=\"dataframe\">\n  <thead>\n    <tr style=\"text-align: right;\">\n      <th></th>\n      <th>name</th>\n      <th>ip</th>\n      <th>eng</th>\n      <th>eco</th>\n      <th>total</th>\n      <th>average</th>\n      <th>grade</th>\n    </tr>\n  </thead>\n  <tbody>\n    <tr>\n      <th>0</th>\n      <td>rishita</td>\n      <td>95</td>\n      <td>80</td>\n      <td>78</td>\n      <td>253</td>\n      <td>84.333333</td>\n      <td>A</td>\n    </tr>\n    <tr>\n      <th>1</th>\n      <td>sanchit</td>\n      <td>75</td>\n      <td>75</td>\n      <td>70</td>\n      <td>220</td>\n      <td>73.333333</td>\n      <td>B+</td>\n    </tr>\n    <tr>\n      <th>2</th>\n      <td>vaibhav</td>\n      <td>79</td>\n      <td>70</td>\n      <td>70</td>\n      <td>219</td>\n      <td>73.000000</td>\n      <td>B+</td>\n    </tr>\n    <tr>\n      <th>3</th>\n      <td>vansh</td>\n      <td>70</td>\n      <td>65</td>\n      <td>65</td>\n      <td>200</td>\n      <td>66.666667</td>\n      <td>B</td>\n    </tr>\n    <tr>\n      <th>4</th>\n      <td>tisha</td>\n      <td>80</td>\n      <td>80</td>\n      <td>80</td>\n      <td>240</td>\n      <td>80.000000</td>\n      <td>B+</td>\n    </tr>\n  </tbody>\n</table>\n</div>"
     },
     "metadata": {},
     "execution_count": 22
    }
   ],
   "source": [
    "#wap to store name and marks in eng,ip,eco\n",
    "#display name, eng, ip, eco, total marks, avg marks and grade\n",
    "import pandas as pd \n",
    "nam=pd.Series(['rishita','sanchit','vaibhav','vansh','tisha'])\n",
    "ip=pd.Series([95,75,79,70,80])\n",
    "eg=pd.Series([80,75,70,65,80])\n",
    "ec=pd.Series([78,70,70,65,80])\n",
    "d={'name':nam, 'ip':ip,'eng':eg,'eco':ec}\n",
    "df=pd.DataFrame(d)\n",
    "print('Data Values in Dataframe')\n",
    "df \n",
    "#now let's find tota marks,average marks and grade of each student\n",
    "total=[]\n",
    "grade=[]\n",
    "avg=[]\n",
    "for(row,rowSeries) in df.iterrows():\n",
    "    tm=rowSeries['ip']+rowSeries['eng']+rowSeries['eco']\n",
    "    total.append(tm)\n",
    "    av=tm/3\n",
    "    avg.append(av)\n",
    "    if av>=91:\n",
    "        grade.append('A+')\n",
    "    elif av>=81 and av<=90:\n",
    "        grade.append('A')\n",
    "    elif av>=71 and av<=80:\n",
    "        grade.append('B+')\n",
    "    elif av>=61 and av<=70:\n",
    "        grade.append('B')\n",
    "    elif av>=51 and av<=60:\n",
    "        grade.append('C')\n",
    "    elif av>=41 and av<=50:\n",
    "        grade.append('D')\n",
    "    else:\n",
    "        grade.append('E')\n",
    "\n",
    "df['total']=total\n",
    "df['average']=avg\n",
    "df['grade']=grade\n",
    "\n",
    "print('Now Data in DataFrame')\n",
    "df"
   ]
  }
 ],
 "metadata": {
  "language_info": {
   "codemirror_mode": {
    "name": "ipython",
    "version": 3
   },
   "file_extension": ".py",
   "mimetype": "text/x-python",
   "name": "python",
   "nbconvert_exporter": "python",
   "pygments_lexer": "ipython3",
   "version": 3
  },
  "orig_nbformat": 2,
  "kernelspec": {
   "name": "python_defaultSpec_1595765653602",
   "display_name": "Python 3.8.2 64-bit"
  }
 },
 "nbformat": 4,
 "nbformat_minor": 2
}