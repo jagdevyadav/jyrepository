{
 "cells": [
  {
   "cell_type": "code",
   "execution_count": null,
   "metadata": {},
   "outputs": [],
   "source": []
  },
  {
   "cell_type": "code",
   "execution_count": 1,
   "metadata": {
    "tags": []
   },
   "outputs": [
    {
     "name": "stdout",
     "output_type": "stream",
     "text": [
      "0\n",
      "0  10\n",
      "1  11\n",
      "2  12\n",
      "3  13\n"
     ]
    }
   ],
   "source": [
    "import pandas as pd\n",
    "import numpy as np\n",
    "ar=np.array([10,11,12,13])\n",
    "df=pd.DataFrame(ar)\n",
    "print(df)"
   ]
  },
  {
   "cell_type": "code",
   "execution_count": 1,
   "metadata": {
    "tags": []
   },
   "outputs": [
    {
     "name": "stdout",
     "output_type": "stream",
     "text": [
      "   rno     name  marks\n",
      "0    1    ayush     50\n",
      "1    2  vaibhav     46\n",
      "2    3  pranshi     75\n",
      "3    4  rishita     51\n",
      "4    5  sanchit     85\n",
      "0      ayush\n",
      "1    vaibhav\n",
      "2    pranshi\n",
      "3    rishita\n",
      "4    sanchit\n",
      "Name: name, dtype: object\n",
      "0    50\n",
      "1    46\n",
      "2    75\n",
      "3    51\n",
      "4    85\n",
      "Name: marks, dtype: int64\n"
     ]
    }
   ],
   "source": [
    "import pandas as pd\n",
    "r=[1,2,3,4,5]\n",
    "n=[\"ayush\",'vaibhav','pranshi','rishita','sanchit']\n",
    "m=[50,46,75,51,85]\n",
    "d={'rno':r,'name':n,'marks':m}\n",
    "df=pd.DataFrame(d)\n",
    "print(df)\n",
    "print(df['name'])\n",
    "marks=df['marks']\n",
    "print(marks)"
   ]
  },
  {
   "cell_type": "code",
   "execution_count": 2,
   "metadata": {},
   "outputs": [
    {
     "data": {
      "text/plain": [
       "0    False\n",
       "1    False\n",
       "2    False\n",
       "3     True\n",
       "4    False\n",
       "Name: name, dtype: bool"
      ]
     },
     "execution_count": 2,
     "metadata": {},
     "output_type": "execute_result"
    }
   ],
   "source": [
    "df['name']=='rishita'"
   ]
  },
  {
   "cell_type": "code",
   "execution_count": 2,
   "metadata": {},
   "outputs": [
    {
     "data": {
      "text/plain": [
       "(5, 3)"
      ]
     },
     "execution_count": 2,
     "metadata": {},
     "output_type": "execute_result"
    }
   ],
   "source": [
    "df.shape"
   ]
  },
  {
   "cell_type": "code",
   "execution_count": 22,
   "metadata": {
    "tags": []
   },
   "outputs": [
    {
     "data": {
      "text/plain": [
       "RangeIndex(start=0, stop=5, step=1)"
      ]
     },
     "execution_count": 22,
     "metadata": {},
     "output_type": "execute_result"
    }
   ],
   "source": [
    "#DATAFRAME ATTRIBUTES such as index, values, columns, axes, dtpes, size, shape, empty, T\n",
    "df.index"
   ]
  },
  {
   "cell_type": "code",
   "execution_count": 24,
   "metadata": {},
   "outputs": [
    {
     "data": {
      "text/plain": [
       "Index(['rno', 'name', 'marks'], dtype='object')"
      ]
     },
     "execution_count": 24,
     "metadata": {},
     "output_type": "execute_result"
    }
   ],
   "source": [
    "df.columns"
   ]
  },
  {
   "cell_type": "code",
   "execution_count": 3,
   "metadata": {},
   "outputs": [
    {
     "data": {
      "text/plain": [
       "array([[1, 'ayush', 50],\n",
       "       [2, 'vaibhav', 46],\n",
       "       [3, 'pranshi', 75],\n",
       "       [4, 'rishita', 51],\n",
       "       [5, 'sanchit', 85]], dtype=object)"
      ]
     },
     "execution_count": 3,
     "metadata": {},
     "output_type": "execute_result"
    }
   ],
   "source": [
    "df.values"
   ]
  },
  {
   "cell_type": "code",
   "execution_count": 26,
   "metadata": {},
   "outputs": [
    {
     "data": {
      "text/plain": [
       "[RangeIndex(start=0, stop=5, step=1),\n",
       " Index(['rno', 'name', 'marks'], dtype='object')]"
      ]
     },
     "execution_count": 26,
     "metadata": {},
     "output_type": "execute_result"
    }
   ],
   "source": [
    "df.axes"
   ]
  },
  {
   "cell_type": "code",
   "execution_count": 27,
   "metadata": {},
   "outputs": [
    {
     "data": {
      "text/plain": [
       "rno       int64\n",
       "name     object\n",
       "marks     int64\n",
       "dtype: object"
      ]
     },
     "execution_count": 27,
     "metadata": {},
     "output_type": "execute_result"
    }
   ],
   "source": [
    "df.dtypes"
   ]
  },
  {
   "cell_type": "code",
   "execution_count": 29,
   "metadata": {},
   "outputs": [
    {
     "data": {
      "text/plain": [
       "15"
      ]
     },
     "execution_count": 29,
     "metadata": {},
     "output_type": "execute_result"
    }
   ],
   "source": [
    "df.size"
   ]
  },
  {
   "cell_type": "code",
   "execution_count": 30,
   "metadata": {},
   "outputs": [
    {
     "data": {
      "text/plain": [
       "False"
      ]
     },
     "execution_count": 30,
     "metadata": {},
     "output_type": "execute_result"
    }
   ],
   "source": [
    "df.empty"
   ]
  },
  {
   "cell_type": "code",
   "execution_count": 33,
   "metadata": {},
   "outputs": [
    {
     "data": {
      "text/plain": [
       "5"
      ]
     },
     "execution_count": 33,
     "metadata": {},
     "output_type": "execute_result"
    }
   ],
   "source": [
    "len(df)"
   ]
  },
  {
   "cell_type": "code",
   "execution_count": 34,
   "metadata": {},
   "outputs": [
    {
     "data": {
      "text/plain": [
       "rno      5\n",
       "name     5\n",
       "marks    5\n",
       "dtype: int64"
      ]
     },
     "execution_count": 34,
     "metadata": {},
     "output_type": "execute_result"
    }
   ],
   "source": [
    "df.count()"
   ]
  },
  {
   "cell_type": "code",
   "execution_count": 35,
   "metadata": {},
   "outputs": [
    {
     "data": {
      "text/plain": [
       "0    3\n",
       "1    3\n",
       "2    3\n",
       "3    3\n",
       "4    3\n",
       "dtype: int64"
      ]
     },
     "execution_count": 35,
     "metadata": {},
     "output_type": "execute_result"
    }
   ],
   "source": [
    "df.count(axis='columns')"
   ]
  },
  {
   "cell_type": "code",
   "execution_count": 36,
   "metadata": {},
   "outputs": [
    {
     "data": {
      "text/plain": [
       "rno      5\n",
       "name     5\n",
       "marks    5\n",
       "dtype: int64"
      ]
     },
     "execution_count": 36,
     "metadata": {},
     "output_type": "execute_result"
    }
   ],
   "source": [
    "df.count(axis='rows')"
   ]
  },
  {
   "cell_type": "code",
   "execution_count": 37,
   "metadata": {},
   "outputs": [
    {
     "data": {
      "text/html": [
       "<div>\n",
       "<style scoped>\n",
       "    .dataframe tbody tr th:only-of-type {\n",
       "        vertical-align: middle;\n",
       "    }\n",
       "\n",
       "    .dataframe tbody tr th {\n",
       "        vertical-align: top;\n",
       "    }\n",
       "\n",
       "    .dataframe thead th {\n",
       "        text-align: right;\n",
       "    }\n",
       "</style>\n",
       "<table border=\"1\" class=\"dataframe\">\n",
       "  <thead>\n",
       "    <tr style=\"text-align: right;\">\n",
       "      <th></th>\n",
       "      <th>0</th>\n",
       "      <th>1</th>\n",
       "      <th>2</th>\n",
       "      <th>3</th>\n",
       "      <th>4</th>\n",
       "    </tr>\n",
       "  </thead>\n",
       "  <tbody>\n",
       "    <tr>\n",
       "      <th>rno</th>\n",
       "      <td>1</td>\n",
       "      <td>2</td>\n",
       "      <td>3</td>\n",
       "      <td>4</td>\n",
       "      <td>5</td>\n",
       "    </tr>\n",
       "    <tr>\n",
       "      <th>name</th>\n",
       "      <td>ayush</td>\n",
       "      <td>vaibhav</td>\n",
       "      <td>pranshi</td>\n",
       "      <td>rishita</td>\n",
       "      <td>sanchit</td>\n",
       "    </tr>\n",
       "    <tr>\n",
       "      <th>marks</th>\n",
       "      <td>50</td>\n",
       "      <td>46</td>\n",
       "      <td>75</td>\n",
       "      <td>51</td>\n",
       "      <td>85</td>\n",
       "    </tr>\n",
       "  </tbody>\n",
       "</table>\n",
       "</div>"
      ],
      "text/plain": [
       "           0        1        2        3        4\n",
       "rno        1        2        3        4        5\n",
       "name   ayush  vaibhav  pranshi  rishita  sanchit\n",
       "marks     50       46       75       51       85"
      ]
     },
     "execution_count": 37,
     "metadata": {},
     "output_type": "execute_result"
    }
   ],
   "source": [
    "df.T #T means transpose means convert columns into rows"
   ]
  },
  {
   "cell_type": "code",
   "execution_count": 39,
   "metadata": {},
   "outputs": [
    {
     "data": {
      "text/plain": [
       "array([[1, 'ayush', 50],\n",
       "       [2, 'vaibhav', 46],\n",
       "       [3, 'pranshi', 75],\n",
       "       [4, 'rishita', 51],\n",
       "       [5, 'sanchit', 85]], dtype=object)"
      ]
     },
     "execution_count": 39,
     "metadata": {},
     "output_type": "execute_result"
    }
   ],
   "source": [
    "df.values\n"
   ]
  },
  {
   "cell_type": "code",
   "execution_count": 50,
   "metadata": {},
   "outputs": [
    {
     "data": {
      "text/plain": [
       "0      ayush\n",
       "1    vaibhav\n",
       "2    pranshi\n",
       "3    rishita\n",
       "4    sanchit\n",
       "Name: name, dtype: object"
      ]
     },
     "execution_count": 50,
     "metadata": {},
     "output_type": "execute_result"
    }
   ],
   "source": [
    "#ACCESSING COLUMN VALUES\n",
    "df['name']"
   ]
  },
  {
   "cell_type": "code",
   "execution_count": 11,
   "metadata": {},
   "outputs": [
    {
     "data": {
      "text/plain": [
       "0    50\n",
       "1    46\n",
       "2    75\n",
       "3    51\n",
       "4    85\n",
       "Name: marks, dtype: int64"
      ]
     },
     "execution_count": 11,
     "metadata": {},
     "output_type": "execute_result"
    }
   ],
   "source": [
    "df['marks']"
   ]
  },
  {
   "cell_type": "code",
   "execution_count": 4,
   "metadata": {},
   "outputs": [
    {
     "data": {
      "text/html": [
       "<div>\n",
       "<style scoped>\n",
       "    .dataframe tbody tr th:only-of-type {\n",
       "        vertical-align: middle;\n",
       "    }\n",
       "\n",
       "    .dataframe tbody tr th {\n",
       "        vertical-align: top;\n",
       "    }\n",
       "\n",
       "    .dataframe thead th {\n",
       "        text-align: right;\n",
       "    }\n",
       "</style>\n",
       "<table border=\"1\" class=\"dataframe\">\n",
       "  <thead>\n",
       "    <tr style=\"text-align: right;\">\n",
       "      <th></th>\n",
       "      <th>rno</th>\n",
       "      <th>name</th>\n",
       "    </tr>\n",
       "  </thead>\n",
       "  <tbody>\n",
       "    <tr>\n",
       "      <th>0</th>\n",
       "      <td>1</td>\n",
       "      <td>ayush</td>\n",
       "    </tr>\n",
       "    <tr>\n",
       "      <th>1</th>\n",
       "      <td>2</td>\n",
       "      <td>vaibhav</td>\n",
       "    </tr>\n",
       "    <tr>\n",
       "      <th>2</th>\n",
       "      <td>3</td>\n",
       "      <td>pranshi</td>\n",
       "    </tr>\n",
       "    <tr>\n",
       "      <th>3</th>\n",
       "      <td>4</td>\n",
       "      <td>rishita</td>\n",
       "    </tr>\n",
       "    <tr>\n",
       "      <th>4</th>\n",
       "      <td>5</td>\n",
       "      <td>sanchit</td>\n",
       "    </tr>\n",
       "  </tbody>\n",
       "</table>\n",
       "</div>"
      ],
      "text/plain": [
       "   rno     name\n",
       "0    1    ayush\n",
       "1    2  vaibhav\n",
       "2    3  pranshi\n",
       "3    4  rishita\n",
       "4    5  sanchit"
      ]
     },
     "execution_count": 4,
     "metadata": {},
     "output_type": "execute_result"
    }
   ],
   "source": [
    "df[['rno','name']] #take care of syntax here"
   ]
  },
  {
   "cell_type": "code",
   "execution_count": 57,
   "metadata": {},
   "outputs": [
    {
     "data": {
      "text/html": [
       "<div>\n",
       "<style scoped>\n",
       "    .dataframe tbody tr th:only-of-type {\n",
       "        vertical-align: middle;\n",
       "    }\n",
       "\n",
       "    .dataframe tbody tr th {\n",
       "        vertical-align: top;\n",
       "    }\n",
       "\n",
       "    .dataframe thead th {\n",
       "        text-align: right;\n",
       "    }\n",
       "</style>\n",
       "<table border=\"1\" class=\"dataframe\">\n",
       "  <thead>\n",
       "    <tr style=\"text-align: right;\">\n",
       "      <th></th>\n",
       "      <th>name</th>\n",
       "      <th>rno</th>\n",
       "      <th>marks</th>\n",
       "    </tr>\n",
       "  </thead>\n",
       "  <tbody>\n",
       "    <tr>\n",
       "      <th>0</th>\n",
       "      <td>ayush</td>\n",
       "      <td>1</td>\n",
       "      <td>50</td>\n",
       "    </tr>\n",
       "    <tr>\n",
       "      <th>1</th>\n",
       "      <td>vaibhav</td>\n",
       "      <td>2</td>\n",
       "      <td>46</td>\n",
       "    </tr>\n",
       "    <tr>\n",
       "      <th>2</th>\n",
       "      <td>pranshi</td>\n",
       "      <td>3</td>\n",
       "      <td>75</td>\n",
       "    </tr>\n",
       "    <tr>\n",
       "      <th>3</th>\n",
       "      <td>rishita</td>\n",
       "      <td>4</td>\n",
       "      <td>51</td>\n",
       "    </tr>\n",
       "    <tr>\n",
       "      <th>4</th>\n",
       "      <td>sanchit</td>\n",
       "      <td>5</td>\n",
       "      <td>85</td>\n",
       "    </tr>\n",
       "  </tbody>\n",
       "</table>\n",
       "</div>"
      ],
      "text/plain": [
       "      name  rno  marks\n",
       "0    ayush    1     50\n",
       "1  vaibhav    2     46\n",
       "2  pranshi    3     75\n",
       "3  rishita    4     51\n",
       "4  sanchit    5     85"
      ]
     },
     "execution_count": 57,
     "metadata": {},
     "output_type": "execute_result"
    }
   ],
   "source": [
    "df[['name','rno','marks']]"
   ]
  },
  {
   "cell_type": "code",
   "execution_count": 4,
   "metadata": {},
   "outputs": [
    {
     "data": {
      "text/plain": [
       "'atics pra'"
      ]
     },
     "execution_count": 4,
     "metadata": {},
     "output_type": "execute_result"
    }
   ],
   "source": [
    "string=\"informatics practices\"\n",
    "string[:]\n",
    "string[6:15]"
   ]
  },
  {
   "cell_type": "code",
   "execution_count": 3,
   "metadata": {},
   "outputs": [
    {
     "data": {
      "text/plain": [
       "Series([], Name: 1, dtype: object)"
      ]
     },
     "execution_count": 3,
     "metadata": {},
     "output_type": "execute_result"
    }
   ],
   "source": [
    "df.iloc[1,3:]"
   ]
  },
  {
   "cell_type": "code",
   "execution_count": 4,
   "metadata": {},
   "outputs": [
    {
     "data": {
      "text/html": [
       "<div>\n",
       "<style scoped>\n",
       "    .dataframe tbody tr th:only-of-type {\n",
       "        vertical-align: middle;\n",
       "    }\n",
       "\n",
       "    .dataframe tbody tr th {\n",
       "        vertical-align: top;\n",
       "    }\n",
       "\n",
       "    .dataframe thead th {\n",
       "        text-align: right;\n",
       "    }\n",
       "</style>\n",
       "<table border=\"1\" class=\"dataframe\">\n",
       "  <thead>\n",
       "    <tr style=\"text-align: right;\">\n",
       "      <th></th>\n",
       "      <th>rno</th>\n",
       "      <th>name</th>\n",
       "      <th>marks</th>\n",
       "    </tr>\n",
       "  </thead>\n",
       "  <tbody>\n",
       "    <tr>\n",
       "      <th>1</th>\n",
       "      <td>2</td>\n",
       "      <td>vaibhav</td>\n",
       "      <td>46</td>\n",
       "    </tr>\n",
       "    <tr>\n",
       "      <th>2</th>\n",
       "      <td>3</td>\n",
       "      <td>pranshi</td>\n",
       "      <td>75</td>\n",
       "    </tr>\n",
       "  </tbody>\n",
       "</table>\n",
       "</div>"
      ],
      "text/plain": [
       "   rno     name  marks\n",
       "1    2  vaibhav     46\n",
       "2    3  pranshi     75"
      ]
     },
     "execution_count": 4,
     "metadata": {},
     "output_type": "execute_result"
    }
   ],
   "source": [
    "df.iloc[1:3,:]"
   ]
  },
  {
   "cell_type": "code",
   "execution_count": 63,
   "metadata": {},
   "outputs": [
    {
     "data": {
      "text/html": [
       "<div>\n",
       "<style scoped>\n",
       "    .dataframe tbody tr th:only-of-type {\n",
       "        vertical-align: middle;\n",
       "    }\n",
       "\n",
       "    .dataframe tbody tr th {\n",
       "        vertical-align: top;\n",
       "    }\n",
       "\n",
       "    .dataframe thead th {\n",
       "        text-align: right;\n",
       "    }\n",
       "</style>\n",
       "<table border=\"1\" class=\"dataframe\">\n",
       "  <thead>\n",
       "    <tr style=\"text-align: right;\">\n",
       "      <th></th>\n",
       "      <th>rno</th>\n",
       "      <th>name</th>\n",
       "      <th>marks</th>\n",
       "    </tr>\n",
       "  </thead>\n",
       "  <tbody>\n",
       "    <tr>\n",
       "      <th>1</th>\n",
       "      <td>2</td>\n",
       "      <td>vaibhav</td>\n",
       "      <td>46</td>\n",
       "    </tr>\n",
       "    <tr>\n",
       "      <th>2</th>\n",
       "      <td>3</td>\n",
       "      <td>pranshi</td>\n",
       "      <td>75</td>\n",
       "    </tr>\n",
       "  </tbody>\n",
       "</table>\n",
       "</div>"
      ],
      "text/plain": [
       "   rno     name  marks\n",
       "1    2  vaibhav     46\n",
       "2    3  pranshi     75"
      ]
     },
     "execution_count": 63,
     "metadata": {},
     "output_type": "execute_result"
    }
   ],
   "source": [
    "df[1:3]"
   ]
  },
  {
   "cell_type": "code",
   "execution_count": 66,
   "metadata": {},
   "outputs": [
    {
     "data": {
      "text/html": [
       "<div>\n",
       "<style scoped>\n",
       "    .dataframe tbody tr th:only-of-type {\n",
       "        vertical-align: middle;\n",
       "    }\n",
       "\n",
       "    .dataframe tbody tr th {\n",
       "        vertical-align: top;\n",
       "    }\n",
       "\n",
       "    .dataframe thead th {\n",
       "        text-align: right;\n",
       "    }\n",
       "</style>\n",
       "<table border=\"1\" class=\"dataframe\">\n",
       "  <thead>\n",
       "    <tr style=\"text-align: right;\">\n",
       "      <th></th>\n",
       "      <th>rno</th>\n",
       "      <th>name</th>\n",
       "      <th>marks</th>\n",
       "    </tr>\n",
       "  </thead>\n",
       "  <tbody>\n",
       "    <tr>\n",
       "      <th>1</th>\n",
       "      <td>2</td>\n",
       "      <td>vaibhav</td>\n",
       "      <td>46</td>\n",
       "    </tr>\n",
       "    <tr>\n",
       "      <th>2</th>\n",
       "      <td>3</td>\n",
       "      <td>pranshi</td>\n",
       "      <td>75</td>\n",
       "    </tr>\n",
       "    <tr>\n",
       "      <th>3</th>\n",
       "      <td>4</td>\n",
       "      <td>rishita</td>\n",
       "      <td>51</td>\n",
       "    </tr>\n",
       "  </tbody>\n",
       "</table>\n",
       "</div>"
      ],
      "text/plain": [
       "   rno     name  marks\n",
       "1    2  vaibhav     46\n",
       "2    3  pranshi     75\n",
       "3    4  rishita     51"
      ]
     },
     "execution_count": 66,
     "metadata": {},
     "output_type": "execute_result"
    }
   ],
   "source": [
    "df[1:4]"
   ]
  },
  {
   "cell_type": "code",
   "execution_count": 69,
   "metadata": {},
   "outputs": [
    {
     "data": {
      "text/html": [
       "<div>\n",
       "<style scoped>\n",
       "    .dataframe tbody tr th:only-of-type {\n",
       "        vertical-align: middle;\n",
       "    }\n",
       "\n",
       "    .dataframe tbody tr th {\n",
       "        vertical-align: top;\n",
       "    }\n",
       "\n",
       "    .dataframe thead th {\n",
       "        text-align: right;\n",
       "    }\n",
       "</style>\n",
       "<table border=\"1\" class=\"dataframe\">\n",
       "  <thead>\n",
       "    <tr style=\"text-align: right;\">\n",
       "      <th></th>\n",
       "      <th>rno</th>\n",
       "      <th>name</th>\n",
       "      <th>marks</th>\n",
       "      <th>vaibhav</th>\n",
       "      <th>mobile</th>\n",
       "    </tr>\n",
       "  </thead>\n",
       "  <tbody>\n",
       "    <tr>\n",
       "      <th>0</th>\n",
       "      <td>1</td>\n",
       "      <td>ayush</td>\n",
       "      <td>50</td>\n",
       "      <td>460</td>\n",
       "      <td>9873145385</td>\n",
       "    </tr>\n",
       "    <tr>\n",
       "      <th>1</th>\n",
       "      <td>2</td>\n",
       "      <td>vaibhav</td>\n",
       "      <td>46</td>\n",
       "      <td>460</td>\n",
       "      <td>9873145385</td>\n",
       "    </tr>\n",
       "    <tr>\n",
       "      <th>2</th>\n",
       "      <td>3</td>\n",
       "      <td>pranshi</td>\n",
       "      <td>75</td>\n",
       "      <td>460</td>\n",
       "      <td>9873145385</td>\n",
       "    </tr>\n",
       "    <tr>\n",
       "      <th>3</th>\n",
       "      <td>4</td>\n",
       "      <td>rishita</td>\n",
       "      <td>51</td>\n",
       "      <td>460</td>\n",
       "      <td>9873145385</td>\n",
       "    </tr>\n",
       "    <tr>\n",
       "      <th>4</th>\n",
       "      <td>5</td>\n",
       "      <td>sanchit</td>\n",
       "      <td>85</td>\n",
       "      <td>460</td>\n",
       "      <td>9873145385</td>\n",
       "    </tr>\n",
       "  </tbody>\n",
       "</table>\n",
       "</div>"
      ],
      "text/plain": [
       "   rno     name  marks  vaibhav      mobile\n",
       "0    1    ayush     50      460  9873145385\n",
       "1    2  vaibhav     46      460  9873145385\n",
       "2    3  pranshi     75      460  9873145385\n",
       "3    4  rishita     51      460  9873145385\n",
       "4    5  sanchit     85      460  9873145385"
      ]
     },
     "execution_count": 69,
     "metadata": {},
     "output_type": "execute_result"
    }
   ],
   "source": [
    "#ADDING NEW COLUMNS IN DATAFRAME\n",
    "df['mobile']='9873145385'\n",
    "df"
   ]
  },
  {
   "cell_type": "code",
   "execution_count": 3,
   "metadata": {
    "tags": []
   },
   "outputs": [
    {
     "name": "stdout",
     "output_type": "stream",
     "text": [
      "rno     name  marks\n",
      "0    1    ayush     50\n",
      "1    2  vaibhav     46\n",
      "2    3  pranshi     75\n",
      "3    4  rishita     51\n",
      "4    5  sanchit     85\n"
     ]
    }
   ],
   "source": [
    "import pandas as pd\n",
    "r=[1,2,3,4,5]\n",
    "n=[\"ayush\",'vaibhav','pranshi','rishita','sanchit']\n",
    "m=[50,46,75,51,85]\n",
    "d={'rno':r,'name':n,'marks':m}\n",
    "df=pd.DataFrame(d,index=[x for x in range(5)])\n",
    "print(df)\n",
    "df.at['ayush',:]=1200\n",
    "df\n",
    "df.at[4,:]=50,'sanchit singhal',95\n",
    "df\n",
    "df.at['sanchit',:]=60,'ss',100\n",
    "\n"
   ]
  },
  {
   "cell_type": "code",
   "execution_count": 6,
   "metadata": {},
   "outputs": [
    {
     "data": {
      "text/html": [
       "<div>\n",
       "<style scoped>\n",
       "    .dataframe tbody tr th:only-of-type {\n",
       "        vertical-align: middle;\n",
       "    }\n",
       "\n",
       "    .dataframe tbody tr th {\n",
       "        vertical-align: top;\n",
       "    }\n",
       "\n",
       "    .dataframe thead th {\n",
       "        text-align: right;\n",
       "    }\n",
       "</style>\n",
       "<table border=\"1\" class=\"dataframe\">\n",
       "  <thead>\n",
       "    <tr style=\"text-align: right;\">\n",
       "      <th></th>\n",
       "      <th>rno</th>\n",
       "      <th>name</th>\n",
       "      <th>marks</th>\n",
       "    </tr>\n",
       "  </thead>\n",
       "  <tbody>\n",
       "  </tbody>\n",
       "</table>\n",
       "</div>"
      ],
      "text/plain": [
       "Empty DataFrame\n",
       "Columns: [rno, name, marks]\n",
       "Index: []"
      ]
     },
     "execution_count": 6,
     "metadata": {},
     "output_type": "execute_result"
    }
   ],
   "source": [
    "df\n",
    "nam=input(\"Enter a name to search\")\n",
    "df.loc[df['name']==nam]"
   ]
  },
  {
   "cell_type": "code",
   "execution_count": 6,
   "metadata": {},
   "outputs": [
    {
     "data": {
      "text/html": [
       "<div>\n",
       "<style scoped>\n",
       "    .dataframe tbody tr th:only-of-type {\n",
       "        vertical-align: middle;\n",
       "    }\n",
       "\n",
       "    .dataframe tbody tr th {\n",
       "        vertical-align: top;\n",
       "    }\n",
       "\n",
       "    .dataframe thead th {\n",
       "        text-align: right;\n",
       "    }\n",
       "</style>\n",
       "<table border=\"1\" class=\"dataframe\">\n",
       "  <thead>\n",
       "    <tr style=\"text-align: right;\">\n",
       "      <th></th>\n",
       "      <th>rno</th>\n",
       "      <th>name</th>\n",
       "    </tr>\n",
       "  </thead>\n",
       "  <tbody>\n",
       "    <tr>\n",
       "      <th>0</th>\n",
       "      <td>1</td>\n",
       "      <td>ayush</td>\n",
       "    </tr>\n",
       "    <tr>\n",
       "      <th>1</th>\n",
       "      <td>2</td>\n",
       "      <td>vaibhav</td>\n",
       "    </tr>\n",
       "    <tr>\n",
       "      <th>2</th>\n",
       "      <td>3</td>\n",
       "      <td>pranshi</td>\n",
       "    </tr>\n",
       "    <tr>\n",
       "      <th>3</th>\n",
       "      <td>4</td>\n",
       "      <td>rishita</td>\n",
       "    </tr>\n",
       "    <tr>\n",
       "      <th>4</th>\n",
       "      <td>5</td>\n",
       "      <td>sanchit</td>\n",
       "    </tr>\n",
       "  </tbody>\n",
       "</table>\n",
       "</div>"
      ],
      "text/plain": [
       "   rno     name\n",
       "0    1    ayush\n",
       "1    2  vaibhav\n",
       "2    3  pranshi\n",
       "3    4  rishita\n",
       "4    5  sanchit"
      ]
     },
     "execution_count": 6,
     "metadata": {},
     "output_type": "execute_result"
    }
   ],
   "source": [
    "#DELETING A COLUMN\n",
    "df\n",
    "#del df['mobile']\n",
    "del df['name']"
   ]
  },
  {
   "cell_type": "code",
   "execution_count": 8,
   "metadata": {},
   "outputs": [
    {
     "data": {
      "text/html": [
       "<div>\n",
       "<style scoped>\n",
       "    .dataframe tbody tr th:only-of-type {\n",
       "        vertical-align: middle;\n",
       "    }\n",
       "\n",
       "    .dataframe tbody tr th {\n",
       "        vertical-align: top;\n",
       "    }\n",
       "\n",
       "    .dataframe thead th {\n",
       "        text-align: right;\n",
       "    }\n",
       "</style>\n",
       "<table border=\"1\" class=\"dataframe\">\n",
       "  <thead>\n",
       "    <tr style=\"text-align: right;\">\n",
       "      <th></th>\n",
       "      <th>rno</th>\n",
       "      <th>name</th>\n",
       "    </tr>\n",
       "  </thead>\n",
       "  <tbody>\n",
       "    <tr>\n",
       "      <th>0</th>\n",
       "      <td>1</td>\n",
       "      <td>ayush</td>\n",
       "    </tr>\n",
       "    <tr>\n",
       "      <th>1</th>\n",
       "      <td>2</td>\n",
       "      <td>vaibhav</td>\n",
       "    </tr>\n",
       "    <tr>\n",
       "      <th>4</th>\n",
       "      <td>5</td>\n",
       "      <td>sanchit</td>\n",
       "    </tr>\n",
       "  </tbody>\n",
       "</table>\n",
       "</div>"
      ],
      "text/plain": [
       "   rno     name\n",
       "0    1    ayush\n",
       "1    2  vaibhav\n",
       "4    5  sanchit"
      ]
     },
     "execution_count": 8,
     "metadata": {},
     "output_type": "execute_result"
    }
   ],
   "source": [
    "#DELETING A ROW\n",
    "df.drop(range(2,4))"
   ]
  },
  {
   "cell_type": "code",
   "execution_count": 91,
   "metadata": {},
   "outputs": [
    {
     "data": {
      "text/html": [
       "<div>\n",
       "<style scoped>\n",
       "    .dataframe tbody tr th:only-of-type {\n",
       "        vertical-align: middle;\n",
       "    }\n",
       "\n",
       "    .dataframe tbody tr th {\n",
       "        vertical-align: top;\n",
       "    }\n",
       "\n",
       "    .dataframe thead th {\n",
       "        text-align: right;\n",
       "    }\n",
       "</style>\n",
       "<table border=\"1\" class=\"dataframe\">\n",
       "  <thead>\n",
       "    <tr style=\"text-align: right;\">\n",
       "      <th></th>\n",
       "      <th>rno</th>\n",
       "      <th>name</th>\n",
       "      <th>marks</th>\n",
       "      <th>mobile</th>\n",
       "    </tr>\n",
       "  </thead>\n",
       "  <tbody>\n",
       "    <tr>\n",
       "      <th>0</th>\n",
       "      <td>1.0</td>\n",
       "      <td>ayush</td>\n",
       "      <td>50.0</td>\n",
       "      <td>9873145385</td>\n",
       "    </tr>\n",
       "    <tr>\n",
       "      <th>1</th>\n",
       "      <td>2.0</td>\n",
       "      <td>vaibhav</td>\n",
       "      <td>46.0</td>\n",
       "      <td>9873145385</td>\n",
       "    </tr>\n",
       "    <tr>\n",
       "      <th>2</th>\n",
       "      <td>3.0</td>\n",
       "      <td>pranshi</td>\n",
       "      <td>75.0</td>\n",
       "      <td>9873145385</td>\n",
       "    </tr>\n",
       "    <tr>\n",
       "      <th>3</th>\n",
       "      <td>4.0</td>\n",
       "      <td>rishita</td>\n",
       "      <td>51.0</td>\n",
       "      <td>9873145385</td>\n",
       "    </tr>\n",
       "    <tr>\n",
       "      <th>4</th>\n",
       "      <td>5.0</td>\n",
       "      <td>sanchit</td>\n",
       "      <td>85.0</td>\n",
       "      <td>9873145385</td>\n",
       "    </tr>\n",
       "    <tr>\n",
       "      <th>kanha</th>\n",
       "      <td>1200.0</td>\n",
       "      <td>1200</td>\n",
       "      <td>1200.0</td>\n",
       "      <td>1200</td>\n",
       "    </tr>\n",
       "    <tr>\n",
       "      <th>5</th>\n",
       "      <td>6.0</td>\n",
       "      <td>rama</td>\n",
       "      <td>99.0</td>\n",
       "      <td>99999999</td>\n",
       "    </tr>\n",
       "  </tbody>\n",
       "</table>\n",
       "</div>"
      ],
      "text/plain": [
       "          rno     name   marks      mobile\n",
       "0         1.0    ayush    50.0  9873145385\n",
       "1         2.0  vaibhav    46.0  9873145385\n",
       "2         3.0  pranshi    75.0  9873145385\n",
       "3         4.0  rishita    51.0  9873145385\n",
       "4         5.0  sanchit    85.0  9873145385\n",
       "kanha  1200.0     1200  1200.0        1200\n",
       "5         6.0     rama    99.0    99999999"
      ]
     },
     "execution_count": 91,
     "metadata": {},
     "output_type": "execute_result"
    }
   ],
   "source": []
  },
  {
   "cell_type": "code",
   "execution_count": 93,
   "metadata": {
    "tags": []
   },
   "outputs": [
    {
     "name": "stdout",
     "output_type": "stream",
     "text": [
      "0\n",
      "1\n",
      "2\n",
      "3\n",
      "4\n",
      "kanha\n",
      "5\n"
     ]
    }
   ],
   "source": [
    "#iterating means looping/reading rows and columns\n",
    "for(row,rowSeries) in df.iterrows():\n",
    "    print(row)"
   ]
  },
  {
   "cell_type": "code",
   "execution_count": 2,
   "metadata": {
    "tags": []
   },
   "outputs": [
    {
     "name": "stdout",
     "output_type": "stream",
     "text": [
      "qtr1\n",
      "At 0 position 34500\n",
      "At 1 position 24500\n",
      "At 2 position 14500\n",
      "qtr2\n",
      "At 0 position 56000\n",
      "At 1 position 46000\n",
      "At 2 position 36000\n",
      "qtr3\n",
      "At 0 position 47000\n",
      "At 1 position 37000\n",
      "At 2 position 27000\n",
      "qtr4\n",
      "At 0 position 49000\n",
      "At 1 position 39000\n",
      "At 2 position 39000\n"
     ]
    }
   ],
   "source": [
    "import pandas as pd\n",
    "disales={2015:{'qtr1':34500,'qtr2':56000,'qtr3':47000,'qtr4':49000},\\\n",
    "2016:{'qtr1':24500,'qtr2':46000,'qtr3':37000,'qtr4':39000},\\\n",
    "2017:{'qtr1':14500,'qtr2':36000,'qtr3':27000,'qtr4':39000}}\n",
    "\n",
    "df=pd.DataFrame(disales)\n",
    "\n",
    "for(row,rowSeries) in df.iterrows():\n",
    "    print(row)\n",
    "    i=0\n",
    "    for val in rowSeries:\n",
    "        print('At',i,'position',val)\n",
    "        i=i+1\n",
    "\n"
   ]
  },
  {
   "cell_type": "code",
   "execution_count": 10,
   "metadata": {
    "tags": []
   },
   "outputs": [
    {
     "name": "stdout",
     "output_type": "stream",
     "text": [
      "qtr1\n",
      "34500 24500 14500 \n",
      "qtr2\n",
      "56000 46000 36000 \n",
      "qtr3\n",
      "47000 37000 27000 \n",
      "qtr4\n",
      "49000 39000 39000 \n"
     ]
    }
   ],
   "source": [
    "import pandas as pd\n",
    "disales={2015:{'qtr1':34500,'qtr2':56000,'qtr3':47000,'qtr4':49000},\\\n",
    "2016:{'qtr1':24500,'qtr2':46000,'qtr3':37000,'qtr4':39000},\\\n",
    "2017:{'qtr1':14500,'qtr2':36000,'qtr3':27000,'qtr4':39000}}\n",
    "\n",
    "df=pd.DataFrame(disales)\n",
    "df\n",
    "for(row,rowSeries) in df.iterrows():\n",
    "    print(row)\n",
    "    i=0\n",
    "    for val in rowSeries:\n",
    "        print(val,end=\" \")\n",
    "        i=i+1 \n",
    "    print()"
   ]
  },
  {
   "cell_type": "code",
   "execution_count": 12,
   "metadata": {
    "tags": []
   },
   "outputs": [
    {
     "name": "stdout",
     "output_type": "stream",
     "text": [
      "2015\n",
      "At 0 position 34500\n",
      "At 1 position 56000\n",
      "At 2 position 47000\n",
      "At 3 position 49000\n",
      "2016\n",
      "At 0 position 24500\n",
      "At 1 position 46000\n",
      "At 2 position 37000\n",
      "At 3 position 39000\n",
      "2017\n",
      "At 0 position 14500\n",
      "At 1 position 36000\n",
      "At 2 position 27000\n",
      "At 3 position 39000\n"
     ]
    }
   ],
   "source": [
    "import pandas as pd\n",
    "disales={2015:{'qtr1':34500,'qtr2':56000,'qtr3':47000,'qtr4':49000},\\\n",
    "2016:{'qtr1':24500,'qtr2':46000,'qtr3':37000,'qtr4':39000},\\\n",
    "2017:{'qtr1':14500,'qtr2':36000,'qtr3':27000,'qtr4':39000}}\n",
    "\n",
    "df=pd.DataFrame(disales)\n",
    "\n",
    "for(col,colSeries) in df.iteritems():\n",
    "    print(col)\n",
    "    i=0\n",
    "    for val in colSeries:\n",
    "        print('At',i,'position',val)\n",
    "        i=i+1"
   ]
  },
  {
   "cell_type": "code",
   "execution_count": 117,
   "metadata": {
    "tags": []
   },
   "outputs": [
    {
     "name": "stdout",
     "output_type": "stream",
     "text": [
      "2015   2016   2017\n",
      "qtr1  34500  24500  14500\n",
      "qtr2  56000  46000  36000\n",
      "qtr3  47000  37000  27000\n",
      "qtr4  49000  39000  39000\n"
     ]
    }
   ],
   "source": [
    "df1=df\n",
    "print(df1)\n"
   ]
  },
  {
   "cell_type": "code",
   "execution_count": 118,
   "metadata": {
    "tags": []
   },
   "outputs": [
    {
     "name": "stdout",
     "output_type": "stream",
     "text": [
      "2015   2016   2017\n",
      "qtr1  34500  24500  14500\n",
      "qtr2  56000  46000  36000\n",
      "qtr3  47000  37000  27000\n",
      "qtr4  49000  39000  39000\n"
     ]
    }
   ],
   "source": [
    "print(df)"
   ]
  },
  {
   "cell_type": "code",
   "execution_count": 119,
   "metadata": {
    "tags": []
   },
   "outputs": [
    {
     "name": "stdout",
     "output_type": "stream",
     "text": [
      "2015   2016   2017\n",
      "qtr1   69000  49000  29000\n",
      "qtr2  112000  92000  72000\n",
      "qtr3   94000  74000  54000\n",
      "qtr4   98000  78000  78000\n"
     ]
    }
   ],
   "source": [
    "df3=df+df1\n",
    "print(df3)"
   ]
  },
  {
   "cell_type": "code",
   "execution_count": 120,
   "metadata": {
    "tags": []
   },
   "outputs": [
    {
     "name": "stdout",
     "output_type": "stream",
     "text": [
      "2015   2016   2017\n",
      "qtr1  34500  24500  14500\n",
      "qtr2  56000  46000  36000\n",
      "qtr3  47000  37000  27000\n",
      "qtr4  49000  39000  39000\n"
     ]
    }
   ],
   "source": [
    "print(df3-df)"
   ]
  },
  {
   "cell_type": "code",
   "execution_count": 45,
   "metadata": {},
   "outputs": [
    {
     "data": {
      "text/html": [
       "<div>\n",
       "<style scoped>\n",
       "    .dataframe tbody tr th:only-of-type {\n",
       "        vertical-align: middle;\n",
       "    }\n",
       "\n",
       "    .dataframe tbody tr th {\n",
       "        vertical-align: top;\n",
       "    }\n",
       "\n",
       "    .dataframe thead th {\n",
       "        text-align: right;\n",
       "    }\n",
       "</style>\n",
       "<table border=\"1\" class=\"dataframe\">\n",
       "  <thead>\n",
       "    <tr style=\"text-align: right;\">\n",
       "      <th></th>\n",
       "      <th>rno</th>\n",
       "      <th>name</th>\n",
       "      <th>mobile</th>\n",
       "      <th>city</th>\n",
       "      <th>country</th>\n",
       "    </tr>\n",
       "  </thead>\n",
       "  <tbody>\n",
       "    <tr>\n",
       "      <th>0</th>\n",
       "      <td>101</td>\n",
       "      <td>aman</td>\n",
       "      <td>1234567890</td>\n",
       "      <td>Delhi</td>\n",
       "      <td>NaN</td>\n",
       "    </tr>\n",
       "    <tr>\n",
       "      <th>1</th>\n",
       "      <td>102</td>\n",
       "      <td>arpit</td>\n",
       "      <td>9912345678</td>\n",
       "      <td>Mumbai</td>\n",
       "      <td>NaN</td>\n",
       "    </tr>\n",
       "    <tr>\n",
       "      <th>2</th>\n",
       "      <td>103</td>\n",
       "      <td>karan</td>\n",
       "      <td>5678912345</td>\n",
       "      <td>Delhi</td>\n",
       "      <td>NaN</td>\n",
       "    </tr>\n",
       "    <tr>\n",
       "      <th>3</th>\n",
       "      <td>104</td>\n",
       "      <td>sharan</td>\n",
       "      <td>5555544444</td>\n",
       "      <td>Kochin</td>\n",
       "      <td>NaN</td>\n",
       "    </tr>\n",
       "    <tr>\n",
       "      <th>4</th>\n",
       "      <td>105</td>\n",
       "      <td>ishita</td>\n",
       "      <td>8888444422</td>\n",
       "      <td>Lucknow</td>\n",
       "      <td>NaN</td>\n",
       "    </tr>\n",
       "    <tr>\n",
       "      <th>5</th>\n",
       "      <td>107</td>\n",
       "      <td>shravan</td>\n",
       "      <td>9999299520</td>\n",
       "      <td>Kanpur</td>\n",
       "      <td>India</td>\n",
       "    </tr>\n",
       "  </tbody>\n",
       "</table>\n",
       "</div>"
      ],
      "text/plain": [
       "   rno     name      mobile     city country\n",
       "0  101     aman  1234567890    Delhi     NaN\n",
       "1  102    arpit  9912345678   Mumbai     NaN\n",
       "2  103    karan  5678912345    Delhi     NaN\n",
       "3  104   sharan  5555544444   Kochin     NaN\n",
       "4  105   ishita  8888444422  Lucknow     NaN\n",
       "5  107  shravan  9999299520   Kanpur   India"
      ]
     },
     "execution_count": 45,
     "metadata": {},
     "output_type": "execute_result"
    }
   ],
   "source": [
    "import pandas as pd \n",
    "n=[101,102,103,104,105]\n",
    "nam=['aman','arpit','karan','sharan','ishita']\n",
    "mob=[1234567890,9912345678,5678912345,5555544444,8888444422]\n",
    "em=['aman@gmail.com','arpit@gmail.com','karan@gmail.com','sharan@gmail.com','ishita@iim.com']\n",
    "stu={'rno':n,'name':nam,'mobile':mob,'email':em}\n",
    "df=pd.DataFrame(stu)\n",
    "df\n",
    "df['city']='Delhi'\n",
    "df.loc[df['rno']==102,'city']='Mumbai'\n",
    "df\n",
    "df.loc[(df['rno']==104) & (df['name']=='sharan'),'city']='Kochin'\n",
    "df\n",
    "df.loc[df['rno']>104,'city']='Lucknow'\n",
    "df\n",
    "dftmp=df\n",
    "dftmp\n",
    "import numpy as np \n",
    "dftmp['country']=np.NaN\n",
    "del dftmp['email']\n",
    "dftmp.loc[5]=[107,'shravan',9999299520,'Kanpur','India']\n",
    "dftmp.drop(3)\n",
    "dftmp"
   ]
  },
  {
   "cell_type": "code",
   "execution_count": 46,
   "metadata": {},
   "outputs": [
    {
     "data": {
      "text/html": [
       "<div>\n",
       "<style scoped>\n",
       "    .dataframe tbody tr th:only-of-type {\n",
       "        vertical-align: middle;\n",
       "    }\n",
       "\n",
       "    .dataframe tbody tr th {\n",
       "        vertical-align: top;\n",
       "    }\n",
       "\n",
       "    .dataframe thead th {\n",
       "        text-align: right;\n",
       "    }\n",
       "</style>\n",
       "<table border=\"1\" class=\"dataframe\">\n",
       "  <thead>\n",
       "    <tr style=\"text-align: right;\">\n",
       "      <th></th>\n",
       "      <th>rno</th>\n",
       "      <th>name</th>\n",
       "      <th>mobile</th>\n",
       "      <th>city</th>\n",
       "      <th>country</th>\n",
       "    </tr>\n",
       "  </thead>\n",
       "  <tbody>\n",
       "    <tr>\n",
       "      <th>0</th>\n",
       "      <td>101</td>\n",
       "      <td>aman</td>\n",
       "      <td>1234567890</td>\n",
       "      <td>Delhi</td>\n",
       "      <td>NaN</td>\n",
       "    </tr>\n",
       "    <tr>\n",
       "      <th>1</th>\n",
       "      <td>102</td>\n",
       "      <td>arpit</td>\n",
       "      <td>9912345678</td>\n",
       "      <td>Mumbai</td>\n",
       "      <td>NaN</td>\n",
       "    </tr>\n",
       "    <tr>\n",
       "      <th>2</th>\n",
       "      <td>103</td>\n",
       "      <td>karan</td>\n",
       "      <td>5678912345</td>\n",
       "      <td>Delhi</td>\n",
       "      <td>NaN</td>\n",
       "    </tr>\n",
       "    <tr>\n",
       "      <th>3</th>\n",
       "      <td>104</td>\n",
       "      <td>sharan</td>\n",
       "      <td>5555544444</td>\n",
       "      <td>Kochin</td>\n",
       "      <td>NaN</td>\n",
       "    </tr>\n",
       "    <tr>\n",
       "      <th>4</th>\n",
       "      <td>105</td>\n",
       "      <td>ishita</td>\n",
       "      <td>8888444422</td>\n",
       "      <td>Lucknow</td>\n",
       "      <td>NaN</td>\n",
       "    </tr>\n",
       "    <tr>\n",
       "      <th>5</th>\n",
       "      <td>107</td>\n",
       "      <td>shravan</td>\n",
       "      <td>9999299520</td>\n",
       "      <td>Kanpur</td>\n",
       "      <td>India</td>\n",
       "    </tr>\n",
       "  </tbody>\n",
       "</table>\n",
       "</div>"
      ],
      "text/plain": [
       "   rno     name      mobile     city country\n",
       "0  101     aman  1234567890    Delhi     NaN\n",
       "1  102    arpit  9912345678   Mumbai     NaN\n",
       "2  103    karan  5678912345    Delhi     NaN\n",
       "3  104   sharan  5555544444   Kochin     NaN\n",
       "4  105   ishita  8888444422  Lucknow     NaN\n",
       "5  107  shravan  9999299520   Kanpur   India"
      ]
     },
     "execution_count": 46,
     "metadata": {},
     "output_type": "execute_result"
    }
   ],
   "source": [
    "dftmp"
   ]
  },
  {
   "cell_type": "code",
   "execution_count": 47,
   "metadata": {},
   "outputs": [
    {
     "data": {
      "text/html": [
       "<div>\n",
       "<style scoped>\n",
       "    .dataframe tbody tr th:only-of-type {\n",
       "        vertical-align: middle;\n",
       "    }\n",
       "\n",
       "    .dataframe tbody tr th {\n",
       "        vertical-align: top;\n",
       "    }\n",
       "\n",
       "    .dataframe thead th {\n",
       "        text-align: right;\n",
       "    }\n",
       "</style>\n",
       "<table border=\"1\" class=\"dataframe\">\n",
       "  <thead>\n",
       "    <tr style=\"text-align: right;\">\n",
       "      <th></th>\n",
       "      <th>rno</th>\n",
       "      <th>name</th>\n",
       "      <th>mobile</th>\n",
       "      <th>city</th>\n",
       "      <th>country</th>\n",
       "    </tr>\n",
       "  </thead>\n",
       "  <tbody>\n",
       "    <tr>\n",
       "      <th>0</th>\n",
       "      <td>101</td>\n",
       "      <td>aman</td>\n",
       "      <td>1234567890</td>\n",
       "      <td>Delhi</td>\n",
       "      <td>NaN</td>\n",
       "    </tr>\n",
       "    <tr>\n",
       "      <th>2</th>\n",
       "      <td>103</td>\n",
       "      <td>karan</td>\n",
       "      <td>5678912345</td>\n",
       "      <td>Delhi</td>\n",
       "      <td>NaN</td>\n",
       "    </tr>\n",
       "    <tr>\n",
       "      <th>3</th>\n",
       "      <td>104</td>\n",
       "      <td>sharan</td>\n",
       "      <td>5555544444</td>\n",
       "      <td>Kochin</td>\n",
       "      <td>NaN</td>\n",
       "    </tr>\n",
       "    <tr>\n",
       "      <th>4</th>\n",
       "      <td>105</td>\n",
       "      <td>ishita</td>\n",
       "      <td>8888444422</td>\n",
       "      <td>Lucknow</td>\n",
       "      <td>NaN</td>\n",
       "    </tr>\n",
       "    <tr>\n",
       "      <th>5</th>\n",
       "      <td>107</td>\n",
       "      <td>shravan</td>\n",
       "      <td>9999299520</td>\n",
       "      <td>Kanpur</td>\n",
       "      <td>India</td>\n",
       "    </tr>\n",
       "  </tbody>\n",
       "</table>\n",
       "</div>"
      ],
      "text/plain": [
       "   rno     name      mobile     city country\n",
       "0  101     aman  1234567890    Delhi     NaN\n",
       "2  103    karan  5678912345    Delhi     NaN\n",
       "3  104   sharan  5555544444   Kochin     NaN\n",
       "4  105   ishita  8888444422  Lucknow     NaN\n",
       "5  107  shravan  9999299520   Kanpur   India"
      ]
     },
     "execution_count": 47,
     "metadata": {},
     "output_type": "execute_result"
    }
   ],
   "source": [
    "dftmp.drop(1)"
   ]
  },
  {
   "cell_type": "code",
   "execution_count": 52,
   "metadata": {},
   "outputs": [
    {
     "data": {
      "text/html": [
       "<div>\n",
       "<style scoped>\n",
       "    .dataframe tbody tr th:only-of-type {\n",
       "        vertical-align: middle;\n",
       "    }\n",
       "\n",
       "    .dataframe tbody tr th {\n",
       "        vertical-align: top;\n",
       "    }\n",
       "\n",
       "    .dataframe thead th {\n",
       "        text-align: right;\n",
       "    }\n",
       "</style>\n",
       "<table border=\"1\" class=\"dataframe\">\n",
       "  <thead>\n",
       "    <tr style=\"text-align: right;\">\n",
       "      <th></th>\n",
       "      <th>rno</th>\n",
       "      <th>name</th>\n",
       "      <th>mobile</th>\n",
       "      <th>city</th>\n",
       "      <th>country</th>\n",
       "    </tr>\n",
       "  </thead>\n",
       "  <tbody>\n",
       "    <tr>\n",
       "      <th>0</th>\n",
       "      <td>101</td>\n",
       "      <td>aman</td>\n",
       "      <td>1234567890</td>\n",
       "      <td>Delhi</td>\n",
       "      <td>999</td>\n",
       "    </tr>\n",
       "    <tr>\n",
       "      <th>1</th>\n",
       "      <td>102</td>\n",
       "      <td>arpit</td>\n",
       "      <td>9912345678</td>\n",
       "      <td>Mumbai</td>\n",
       "      <td>999</td>\n",
       "    </tr>\n",
       "    <tr>\n",
       "      <th>2</th>\n",
       "      <td>103</td>\n",
       "      <td>karan</td>\n",
       "      <td>5678912345</td>\n",
       "      <td>Delhi</td>\n",
       "      <td>999</td>\n",
       "    </tr>\n",
       "    <tr>\n",
       "      <th>3</th>\n",
       "      <td>104</td>\n",
       "      <td>sharan</td>\n",
       "      <td>5555544444</td>\n",
       "      <td>Kochin</td>\n",
       "      <td>999</td>\n",
       "    </tr>\n",
       "    <tr>\n",
       "      <th>4</th>\n",
       "      <td>105</td>\n",
       "      <td>ishita</td>\n",
       "      <td>8888444422</td>\n",
       "      <td>Lucknow</td>\n",
       "      <td>999</td>\n",
       "    </tr>\n",
       "    <tr>\n",
       "      <th>5</th>\n",
       "      <td>107</td>\n",
       "      <td>shravan</td>\n",
       "      <td>9999299520</td>\n",
       "      <td>Kanpur</td>\n",
       "      <td>India</td>\n",
       "    </tr>\n",
       "  </tbody>\n",
       "</table>\n",
       "</div>"
      ],
      "text/plain": [
       "   rno     name      mobile     city country\n",
       "0  101     aman  1234567890    Delhi     999\n",
       "1  102    arpit  9912345678   Mumbai     999\n",
       "2  103    karan  5678912345    Delhi     999\n",
       "3  104   sharan  5555544444   Kochin     999\n",
       "4  105   ishita  8888444422  Lucknow     999\n",
       "5  107  shravan  9999299520   Kanpur   India"
      ]
     },
     "execution_count": 52,
     "metadata": {},
     "output_type": "execute_result"
    }
   ],
   "source": [
    "dftmp.isnull\n",
    "dftmp.fillna(999)\n"
   ]
  },
  {
   "cell_type": "code",
   "execution_count": 67,
   "metadata": {
    "tags": []
   },
   "outputs": [
    {
     "name": "stdout",
     "output_type": "stream",
     "text": [
      "0\n",
      "0  10.0\n",
      "1   NaN\n",
      "2  30.0\n",
      "3   NaN\n",
      "4  50.0\n",
      "      0\n",
      "0   NaN\n",
      "1  20.0\n",
      "2   NaN\n",
      "3  40.0\n",
      "4   NaN\n",
      "      0\n",
      "0   NaN\n",
      "1  20.0\n",
      "2   NaN\n",
      "3  40.0\n",
      "4   NaN\n",
      "      0\n",
      "0  10.0\n",
      "1   NaN\n",
      "2  30.0\n",
      "3   NaN\n",
      "4  50.0\n",
      "5   NaN\n",
      "6  20.0\n",
      "7   NaN\n",
      "8  40.0\n",
      "9   NaN\n"
     ]
    }
   ],
   "source": [
    "c1=[10,np.NaN,30,np.NaN,50]\n",
    "c2=[np.NaN,20,np.NaN,40,np.NaN]\n",
    "df1=pd.DataFrame(c1)\n",
    "df2=pd.DataFrame(c2)\n",
    "print(df1)\n",
    "print(df2)\n",
    "df2.combine_first(df1)\n",
    "print(df2)\n",
    "df1.combine_first(df2)\n",
    "print(pd.concat([df1,df2],ignore_index=True))"
   ]
  },
  {
   "cell_type": "code",
   "execution_count": 14,
   "metadata": {
    "tags": []
   },
   "outputs": [
    {
     "name": "stdout",
     "output_type": "stream",
     "text": [
      "rno     name  marks\n",
      "0    1    ayush     50\n",
      "1    2  vaibhav     46\n",
      "2    3  pranshi     75\n",
      "3    4  rishita     51\n",
      "4    5  sanchit     85\n",
      "0      ayush\n",
      "1    vaibhav\n",
      "2    pranshi\n",
      "3    rishita\n",
      "4    sanchit\n",
      "Name: name, dtype: object\n",
      "0    1\n",
      "1    2\n",
      "2    3\n",
      "3    4\n",
      "4    5\n",
      "Name: rno, dtype: int64\n",
      "0    50\n",
      "1    46\n",
      "2    75\n",
      "3    51\n",
      "4    85\n",
      "Name: marks, dtype: int64\n",
      "   rno     name  marks\n",
      "0    1    ayush     50\n",
      "1    2  vaibhav     46\n"
     ]
    }
   ],
   "source": [
    "import pandas as pd\n",
    "r=[1,2,3,4,5]\n",
    "n=[\"ayush\",'vaibhav','pranshi','rishita','sanchit']\n",
    "m=[50,46,75,51,85]\n",
    "d={'rno':r,'name':n,'marks':m}\n",
    "df=pd.DataFrame(d,index=[x for x in range(5)])\n",
    "print(df)\n",
    "s1=pd.Series(df['name'])\n",
    "print(s1)\n",
    "s2=pd.Series(df['rno'])\n",
    "print(s2)\n",
    "s3=pd.Series(df['marks'])\n",
    "print(s3)\n",
    "\n",
    "print(df.head(2))"
   ]
  },
  {
   "cell_type": "code",
   "execution_count": 1,
   "metadata": {},
   "outputs": [
    {
     "name": "stdout",
     "output_type": "stream",
     "text": [
      "   rollno              name  ut1  ut2  ut3  ut4\n",
      "0       1      Prerna Singh   24   24   20   22\n",
      "1       2      Manish Arora   18   17   19   22\n",
      "2       3       Tanish Goel   20   22   18   24\n",
      "3       4      Falguni Jain   22   20   24   20\n",
      "4       5  Kanika Bhatnagar   15   20   18   22\n",
      "5       6    Ramandeep Kaur   20   15   22   24\n"
     ]
    }
   ],
   "source": [
    "import pandas as pd \n",
    "r=[1,2,3,4,5,6]\n",
    "n=['Prerna Singh','Manish Arora','Tanish Goel','Falguni Jain', 'Kanika Bhatnagar', 'Ramandeep Kaur']\n",
    "u1=[24,18,20,22,15,20]\n",
    "u2=[24,17,22,20,20,15]\n",
    "u3=[20,19,18,24,18,22]\n",
    "u4=[22,22,24,20,22,24]\n",
    "d={'rollno':r,'name':n,'ut1':u1,'ut2':u2,'ut3':u3,'ut4':u4}\n",
    "df=pd.DataFrame(d)\n",
    "print(df)"
   ]
  },
  {
   "cell_type": "code",
   "execution_count": 12,
   "metadata": {},
   "outputs": [
    {
     "name": "stdout",
     "output_type": "stream",
     "text": [
      "rollno              6\n",
      "name      Tanish Goel\n",
      "ut1                24\n",
      "ut2                24\n",
      "ut3                24\n",
      "ut4                24\n",
      "dtype: object\n"
     ]
    }
   ],
   "source": [
    "print(df.max(axis=0))"
   ]
  },
  {
   "cell_type": "code",
   "execution_count": 10,
   "metadata": {
    "scrolled": true
   },
   "outputs": [
    {
     "name": "stdout",
     "output_type": "stream",
     "text": [
      "rollno              6\n",
      "name      Tanish Goel\n",
      "ut1                24\n",
      "ut2                24\n",
      "ut3                24\n",
      "ut4                24\n",
      "dtype: object\n"
     ]
    }
   ],
   "source": [
    "print(df.max())"
   ]
  },
  {
   "cell_type": "code",
   "execution_count": 11,
   "metadata": {},
   "outputs": [
    {
     "name": "stdout",
     "output_type": "stream",
     "text": [
      "0    24\n",
      "1    22\n",
      "2    24\n",
      "3    24\n",
      "4    22\n",
      "5    24\n",
      "dtype: int64\n"
     ]
    }
   ],
   "source": [
    "print(df.max(axis=1))"
   ]
  },
  {
   "cell_type": "code",
   "execution_count": 2,
   "metadata": {},
   "outputs": [
    {
     "name": "stdout",
     "output_type": "stream",
     "text": [
      "   rollno          name  ut1  ut2  ut3  ut4\n",
      "3       4  Falguni Jain   22   20   24   20\n"
     ]
    }
   ],
   "source": [
    "#Answer of Q.No.22 ii)\n",
    "df1=df[df['rollno']==4]\n",
    "print(df1)"
   ]
  },
  {
   "cell_type": "code",
   "execution_count": 6,
   "metadata": {},
   "outputs": [
    {
     "name": "stdout",
     "output_type": "stream",
     "text": [
      "   rollno          name  ut1  ut2  ut3  ut4\n",
      "3       4  Falguni Jain   22   20   24   20\n"
     ]
    }
   ],
   "source": [
    "df1=df[df.rollno==4]\n",
    "print(df1)"
   ]
  },
  {
   "cell_type": "code",
   "execution_count": 13,
   "metadata": {},
   "outputs": [
    {
     "name": "stdout",
     "output_type": "stream",
     "text": [
      "rollno    6\n",
      "name      6\n",
      "ut1       6\n",
      "ut2       6\n",
      "ut3       6\n",
      "ut4       6\n",
      "dtype: int64\n"
     ]
    }
   ],
   "source": [
    "#answer Q.No.22 part iii\n",
    "print(df.count())"
   ]
  },
  {
   "cell_type": "code",
   "execution_count": 17,
   "metadata": {},
   "outputs": [
    {
     "name": "stdout",
     "output_type": "stream",
     "text": [
      "Index(['rollno', 'name', 'ut1', 'ut2', 'ut3', 'ut4'], dtype='object')\n"
     ]
    }
   ],
   "source": [
    "print(df.columns)"
   ]
  },
  {
   "cell_type": "code",
   "execution_count": 21,
   "metadata": {},
   "outputs": [
    {
     "name": "stdout",
     "output_type": "stream",
     "text": [
      "   rollno              name  ut1  ut2  ut3  ut4 grade\n",
      "0       1      Prerna Singh   24   24   20   22     A\n",
      "1       2      Manish Arora   18   17   19   22     B\n",
      "2       3       Tanish Goel   20   22   18   24     A\n",
      "3       4      Falguni Jain   22   20   24   20     A\n",
      "4       5  Kanika Bhatnagar   15   20   18   22     B\n",
      "5       6    Ramandeep Kaur   20   15   22   24     A\n",
      "\n",
      "   rollno              name  ut1  ut2  ut3  ut4 grade\n",
      "0       1      Prerna Singh   24   24   20   22     A\n",
      "1       2      Manish Arora   18   17   19   22     B\n",
      "2       3       Tanish Goel   20   22   18   24     A\n",
      "3       4      Falguni Jain   22   20   24   20     A\n",
      "4       5  Kanika Bhatnagar   15   20   18   22     B\n",
      "5       6    Ramandeep Kaur   20   15   22   24     A\n"
     ]
    }
   ],
   "source": [
    "df['grade']=['A','B','A','A','B','A']\n",
    "print(df)"
   ]
  },
  {
   "cell_type": "code",
   "execution_count": 5,
   "metadata": {},
   "outputs": [
    {
     "name": "stdout",
     "output_type": "stream",
     "text": [
      "   rollno              name  ut1  ut2  ut3  ut4\n",
      "0       1      Prerna Singh   24   24   20   22\n",
      "1       2      Manish Arora   18   17   19   22\n",
      "2       3       Tanish Goel   20   22   18   24\n",
      "3       4      Falguni Jain   22   20   24   20\n",
      "4       5  Kanika Bhatnagar   15   20   18   22\n",
      "5       6    Ramandeep Kaur   20   15   22   24\n",
      "   rollno              name  ut1  ut2  ut3  ut4  Total\n",
      "0       1      Prerna Singh   24   24   20   22     90\n",
      "1       2      Manish Arora   18   17   19   22     76\n",
      "2       3       Tanish Goel   20   22   18   24     84\n",
      "3       4      Falguni Jain   22   20   24   20     86\n",
      "4       5  Kanika Bhatnagar   15   20   18   22     75\n",
      "5       6    Ramandeep Kaur   20   15   22   24     81\n"
     ]
    }
   ],
   "source": [
    "import pandas as pd \n",
    "r=[1,2,3,4,5,6]\n",
    "n=['Prerna Singh','Manish Arora','Tanish Goel','Falguni Jain', 'Kanika Bhatnagar', 'Ramandeep Kaur']\n",
    "u1=[24,18,20,22,15,20]\n",
    "u2=[24,17,22,20,20,15]\n",
    "u3=[20,19,18,24,18,22]\n",
    "u4=[22,22,24,20,22,24]\n",
    "d={'rollno':r,'name':n,'ut1':u1,'ut2':u2,'ut3':u3,'ut4':u4}\n",
    "df=pd.DataFrame(d)\n",
    "print(df)\n",
    "df[\"Total\"]=df[\"ut1\"]+df[\"ut2\"]+df[\"ut3\"]+df[\"ut4\"]\n",
    "print(df)"
   ]
  },
  {
   "cell_type": "code",
   "execution_count": 30,
   "metadata": {},
   "outputs": [
    {
     "name": "stdout",
     "output_type": "stream",
     "text": [
      "  fruits  color  count  price\n",
      "0  Apple    Red    103    120\n",
      "1  Apple  Green    109    110\n",
      "2   Pear    Red    125    125\n",
      "3   Pear  Green    126    150\n",
      "4   Lime  Green    199     70\n",
      "  fruits  price\n",
      "0  Apple    120\n",
      "1  Apple    110\n",
      "2   Pear    125\n",
      "3   Pear    150\n",
      "4   Lime     70\n"
     ]
    },
    {
     "data": {
      "text/html": [
       "<div>\n",
       "<style scoped>\n",
       "    .dataframe tbody tr th:only-of-type {\n",
       "        vertical-align: middle;\n",
       "    }\n",
       "\n",
       "    .dataframe tbody tr th {\n",
       "        vertical-align: top;\n",
       "    }\n",
       "\n",
       "    .dataframe thead th {\n",
       "        text-align: right;\n",
       "    }\n",
       "</style>\n",
       "<table border=\"1\" class=\"dataframe\">\n",
       "  <thead>\n",
       "    <tr style=\"text-align: right;\">\n",
       "      <th></th>\n",
       "      <th>fruits</th>\n",
       "      <th>price</th>\n",
       "      <th>sold</th>\n",
       "    </tr>\n",
       "  </thead>\n",
       "  <tbody>\n",
       "    <tr>\n",
       "      <th>0</th>\n",
       "      <td>Apple</td>\n",
       "      <td>120</td>\n",
       "      <td>2</td>\n",
       "    </tr>\n",
       "    <tr>\n",
       "      <th>1</th>\n",
       "      <td>Apple</td>\n",
       "      <td>110</td>\n",
       "      <td>3</td>\n",
       "    </tr>\n",
       "    <tr>\n",
       "      <th>2</th>\n",
       "      <td>Pear</td>\n",
       "      <td>125</td>\n",
       "      <td>4</td>\n",
       "    </tr>\n",
       "    <tr>\n",
       "      <th>3</th>\n",
       "      <td>Pear</td>\n",
       "      <td>150</td>\n",
       "      <td>8</td>\n",
       "    </tr>\n",
       "    <tr>\n",
       "      <th>4</th>\n",
       "      <td>Lime</td>\n",
       "      <td>70</td>\n",
       "      <td>16</td>\n",
       "    </tr>\n",
       "  </tbody>\n",
       "</table>\n",
       "</div>"
      ],
      "text/plain": [
       "  fruits  price  sold\n",
       "0  Apple    120     2\n",
       "1  Apple    110     3\n",
       "2   Pear    125     4\n",
       "3   Pear    150     8\n",
       "4   Lime     70    16"
      ]
     },
     "execution_count": 30,
     "metadata": {},
     "output_type": "execute_result"
    }
   ],
   "source": [
    "import pandas as pd\n",
    "f=['Apple','Apple','Pear','Pear','Lime']\n",
    "c=['Red','Green','Red','Green','Green']\n",
    "cn=[3,9,25,26,99]\n",
    "p=[120,110,125,150,70]\n",
    "d={'fruits':f,'color':c,'count':cn,'price':p}\n",
    "df=pd.DataFrame(d)\n",
    "df\n",
    "df.min()\n",
    "df[df['count']>25]\n",
    "df.iloc[[1,3,4]]\n",
    "bk=df\n",
    "bk['count']=bk['count']+100\n",
    "df=df.drop(['color','count'],axis=1)\n",
    "print(bk)\n",
    "print(df)\n",
    "df['sold']=[2,3, 4, 8,16]\n",
    "df"
   ]
  }
 ],
 "metadata": {
  "kernelspec": {
   "display_name": "Python 3.8.2 64-bit",
   "language": "python",
   "name": "python38264bit3d2dd1f9d25b473da33662d091d3333a"
  },
  "language_info": {
   "codemirror_mode": {
    "name": "ipython",
    "version": 3
   },
   "file_extension": ".py",
   "mimetype": "text/x-python",
   "name": "python",
   "nbconvert_exporter": "python",
   "pygments_lexer": "ipython3",
   "version": "3.8.5"
  }
 },
 "nbformat": 4,
 "nbformat_minor": 2
}
