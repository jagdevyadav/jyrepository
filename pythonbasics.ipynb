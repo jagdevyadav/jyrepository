{
 "metadata": {
  "language_info": {
   "codemirror_mode": {
    "name": "ipython",
    "version": 3
   },
   "file_extension": ".py",
   "mimetype": "text/x-python",
   "name": "python",
   "nbconvert_exporter": "python",
   "pygments_lexer": "ipython3",
   "version": "3.8.2-final"
  },
  "orig_nbformat": 2,
  "kernelspec": {
   "name": "python_defaultSpec_1597655652101",
   "display_name": "Python 3.8.2 64-bit"
  }
 },
 "nbformat": 4,
 "nbformat_minor": 2,
 "cells": [
  {
   "cell_type": "code",
   "execution_count": null,
   "metadata": {},
   "outputs": [],
   "source": []
  },
  {
   "cell_type": "code",
   "execution_count": 1,
   "metadata": {},
   "outputs": [
    {
     "output_type": "execute_result",
     "data": {
      "text/plain": "1000000000000000000000000022222222222222222222222222222222222222222222222222222222222222222222222221"
     },
     "metadata": {},
     "execution_count": 1
    }
   ],
   "source": [
    "a=10\n",
    "p=3.14\n",
    "n=\"pulkit\"\n",
    "dist=999999999999999999999999999999999999999999999999999999999999999999999999999999999999999999999999999+22222222222222222222222222222222222222222222222222222222222222222222222222\n",
    "dist\n"
   ]
  }
 ]
}