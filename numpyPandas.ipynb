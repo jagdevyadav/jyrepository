{
 "cells": [
  {
   "cell_type": "code",
   "execution_count": 1,
   "metadata": {},
   "outputs": [],
   "source": [
    "import numpy as np "
   ]
  },
  {
   "cell_type": "code",
   "execution_count": 2,
   "metadata": {},
   "outputs": [
    {
     "name": "stdout",
     "output_type": "stream",
     "text": [
      "[1 2 3 4 5 6 7 8 9]\n",
      "[1 3 5 7 9]\n"
     ]
    }
   ],
   "source": [
    "import numpy as np \n",
    "\n",
    "a=np.arange(1,10) \n",
    "\n",
    "print(a) \n",
    "\n",
    "a=np.arange(1,10,2) \n",
    "\n",
    "print(a)"
   ]
  },
  {
   "cell_type": "code",
   "execution_count": 3,
   "metadata": {},
   "outputs": [
    {
     "name": "stdout",
     "output_type": "stream",
     "text": [
      "[ 5  8 11 14 17]\n"
     ]
    }
   ],
   "source": [
    "b=np.arange(5,20,3) \n",
    "\n",
    "print(b) "
   ]
  },
  {
   "cell_type": "code",
   "execution_count": 6,
   "metadata": {},
   "outputs": [
    {
     "name": "stdout",
     "output_type": "stream",
     "text": [
      "[1 2 3 4]\n",
      "[1 2 3 4]\n",
      "[  1 100   3   4]\n",
      "[1 2 3 4]\n"
     ]
    }
   ],
   "source": [
    "a=np.array([1,2,3,4])\n",
    "b=a\n",
    "c=np.copy(a)\n",
    "print(a)\n",
    "print(c)\n",
    "a[1]=100\n",
    "print(a)\n",
    "print(c)"
   ]
  },
  {
   "cell_type": "code",
   "execution_count": 4,
   "metadata": {},
   "outputs": [
    {
     "name": "stdout",
     "output_type": "stream",
     "text": [
      "[[7 5]\n",
      " [1 6]]\n",
      "[[7 5]\n",
      " [1 6]\n",
      " [7 5]\n",
      " [1 6]]\n",
      "[[7 5 7 5]\n",
      " [1 6 1 6]]\n"
     ]
    }
   ],
   "source": [
    "A=np.array([[7,5],[1,6]])\n",
    "print(A)\n",
    "print(np.concatenate([A,A]))\n",
    "print(np.concatenate([A,A],axis=1))"
   ]
  },
  {
   "cell_type": "code",
   "execution_count": 8,
   "metadata": {},
   "outputs": [
    {
     "name": "stdout",
     "output_type": "stream",
     "text": [
      "[1 2 3 4 5 6]\n"
     ]
    }
   ],
   "source": [
    "A=np.array([1,2,3]) \n",
    "\n",
    "B=np.array([4,5,6]) \n",
    "\n",
    "print(np.concatenate([A,B])) "
   ]
  },
  {
   "cell_type": "code",
   "execution_count": 1,
   "metadata": {},
   "outputs": [
    {
     "name": "stdout",
     "output_type": "stream",
     "text": [
      "[[1 2]\n",
      " [3 4]]\n",
      "[[5 6]\n",
      " [7 8]]\n",
      "[[1 2]\n",
      " [3 4]\n",
      " [5 6]\n",
      " [7 8]]\n"
     ]
    }
   ],
   "source": [
    "import numpy as np\n",
    "a=np.array([[1,2],[3,4]])\n",
    "b=np.array([[5,6],[7,8]])\n",
    "print(a)\n",
    "print(b)\n",
    "print(np.concatenate([a,b],axis=0))"
   ]
  },
  {
   "cell_type": "code",
   "execution_count": 19,
   "metadata": {},
   "outputs": [
    {
     "name": "stdout",
     "output_type": "stream",
     "text": [
      "[[1 2 5 6]\n",
      " [3 4 7 8]]\n"
     ]
    }
   ],
   "source": [
    "print(np.concatenate([a,b],axis=1))"
   ]
  },
  {
   "cell_type": "code",
   "execution_count": 20,
   "metadata": {},
   "outputs": [
    {
     "name": "stdout",
     "output_type": "stream",
     "text": [
      "[[1 2]\n",
      " [3 4]]\n",
      "[[5 6]\n",
      " [7 8]]\n"
     ]
    }
   ],
   "source": [
    "#vertically stack the array\n",
    "print(a)\n",
    "print(b)"
   ]
  },
  {
   "cell_type": "code",
   "execution_count": 22,
   "metadata": {},
   "outputs": [
    {
     "name": "stdout",
     "output_type": "stream",
     "text": [
      "[[1 2]\n",
      " [3 4]\n",
      " [5 6]\n",
      " [7 8]]\n"
     ]
    }
   ],
   "source": [
    "print(np.vstack([a,b])) #it will show values array a then b as they are stored."
   ]
  },
  {
   "cell_type": "code",
   "execution_count": 23,
   "metadata": {},
   "outputs": [
    {
     "name": "stdout",
     "output_type": "stream",
     "text": [
      "[[1 2 5 6]\n",
      " [3 4 7 8]]\n"
     ]
    }
   ],
   "source": [
    "print(np.hstack([a,b])) #it will show values of line 1 fo array a & b\n",
    "#and then values of 2 row of array a & b, and so on."
   ]
  },
  {
   "cell_type": "code",
   "execution_count": 2,
   "metadata": {},
   "outputs": [
    {
     "name": "stdout",
     "output_type": "stream",
     "text": [
      "[[1 2]\n",
      " [3 4]]\n",
      "[[5 6]\n",
      " [7 8]]\n",
      "[[ 6  8]\n",
      " [10 12]]\n"
     ]
    }
   ],
   "source": [
    "import numpy as np\n",
    "a=np.array([[1,2],[3,4]])\n",
    "b=np.array([[5,6],[7,8]])\n",
    "print(a)\n",
    "print(b)\n",
    "c=np.add(a,b)\n",
    "print(c)"
   ]
  },
  {
   "cell_type": "code",
   "execution_count": 3,
   "metadata": {},
   "outputs": [
    {
     "name": "stdout",
     "output_type": "stream",
     "text": [
      "[[4 4]\n",
      " [4 4]]\n"
     ]
    }
   ],
   "source": [
    "c=np.subtract(b,a)\n",
    "print(c)"
   ]
  },
  {
   "cell_type": "code",
   "execution_count": 4,
   "metadata": {},
   "outputs": [
    {
     "name": "stdout",
     "output_type": "stream",
     "text": [
      "[[ 5 12]\n",
      " [21 32]]\n"
     ]
    }
   ],
   "source": [
    "c=np.multiply(b,a)\n",
    "print(c)"
   ]
  },
  {
   "cell_type": "code",
   "execution_count": 5,
   "metadata": {},
   "outputs": [
    {
     "name": "stdout",
     "output_type": "stream",
     "text": [
      "[[5.         3.        ]\n",
      " [2.33333333 2.        ]]\n"
     ]
    }
   ],
   "source": [
    "c=np.divide(b,a)\n",
    "print(c)"
   ]
  },
  {
   "cell_type": "code",
   "execution_count": 1,
   "metadata": {},
   "outputs": [
    {
     "name": "stdout",
     "output_type": "stream",
     "text": [
      "Enter base value 2\n",
      "Enter raise to power value 3\n",
      "8\n"
     ]
    }
   ],
   "source": [
    "import numpy as np\n",
    "b=int(input('Enter base value '))\n",
    "p=int(input('Enter raise to power value '))\n",
    "print(np.power(b,p))"
   ]
  },
  {
   "cell_type": "code",
   "execution_count": 5,
   "metadata": {},
   "outputs": [
    {
     "name": "stdout",
     "output_type": "stream",
     "text": [
      "Ener a fractional value 12.1\n",
      "13.0\n"
     ]
    }
   ],
   "source": [
    "num=float(input('Ener a fractional value ')) \n",
    "print(np.ceil(num)) "
   ]
  },
  {
   "cell_type": "code",
   "execution_count": 6,
   "metadata": {},
   "outputs": [
    {
     "name": "stdout",
     "output_type": "stream",
     "text": [
      "Ener a fractional value 12.9\n",
      "12.0\n"
     ]
    }
   ],
   "source": [
    "num=float(input('Ener a fractional value ')) \n",
    "print(np.floor(num))"
   ]
  },
  {
   "cell_type": "code",
   "execution_count": 7,
   "metadata": {},
   "outputs": [
    {
     "name": "stdout",
     "output_type": "stream",
     "text": [
      "[[10.1  20.2  30.8 ]\n",
      " [40.99 25.52 10.89]]\n",
      "[[11. 21. 31.]\n",
      " [41. 26. 11.]]\n",
      "[[10. 20. 30.]\n",
      " [40. 25. 10.]]\n"
     ]
    }
   ],
   "source": [
    "arr=np.array([[10.10, 20.20, 30.80],[40.99, 25.52, 10.89]])\n",
    "print(arr)\n",
    "print(np.ceil(arr))\n",
    "print(np.floor(arr))\n"
   ]
  },
  {
   "cell_type": "code",
   "execution_count": 8,
   "metadata": {},
   "outputs": [
    {
     "name": "stdout",
     "output_type": "stream",
     "text": [
      "[[10.1  20.2  30.8 ]\n",
      " [40.99 25.52 10.89]]\n",
      "[[10. 20. 31.]\n",
      " [41. 26. 11.]]\n"
     ]
    }
   ],
   "source": [
    "arr=np.array([[10.10, 20.20, 30.80],[40.99, 25.52, 10.89]])\n",
    "print(arr)\n",
    "print(np.round(arr))"
   ]
  },
  {
   "cell_type": "code",
   "execution_count": 10,
   "metadata": {},
   "outputs": [
    {
     "name": "stdout",
     "output_type": "stream",
     "text": [
      "Enter a value 99.456\n",
      "99.0\n"
     ]
    }
   ],
   "source": [
    "num=float(input('Enter a value ')) \n",
    "print(np.round(num)) "
   ]
  },
  {
   "cell_type": "code",
   "execution_count": 2,
   "metadata": {},
   "outputs": [
    {
     "ename": "SyntaxError",
     "evalue": "invalid syntax (<ipython-input-2-ba64ccf25ea7>, line 7)",
     "output_type": "error",
     "traceback": [
      "\u001b[0;36m  File \u001b[0;32m\"<ipython-input-2-ba64ccf25ea7>\"\u001b[0;36m, line \u001b[0;32m7\u001b[0m\n\u001b[0;31m    print(np.cov(a,b)bias=True)[0,1])\u001b[0m\n\u001b[0m                     ^\u001b[0m\n\u001b[0;31mSyntaxError\u001b[0m\u001b[0;31m:\u001b[0m invalid syntax\n"
     ]
    }
   ],
   "source": [
    "import numpy as np \n",
    "\n",
    "A=np.array([1000, 1200, 1600]) \n",
    "\n",
    "B=np.array([130,110,120]) \n",
    "\n",
    "print(np.cov(a,b)bias=True)[0,1]) "
   ]
  },
  {
   "cell_type": "code",
   "execution_count": 4,
   "metadata": {},
   "outputs": [
    {
     "name": "stdout",
     "output_type": "stream",
     "text": [
      "-666.6666666666666\n"
     ]
    }
   ],
   "source": [
    "import numpy as np \n",
    "\n",
    "A=np.array([1000, 1200, 1600]) \n",
    "\n",
    "B=np.array([130,110,120]) \n",
    "\n",
    "print(np.cov(A,B,bias=True)[0,1]) "
   ]
  },
  {
   "cell_type": "code",
   "execution_count": 5,
   "metadata": {},
   "outputs": [
    {
     "name": "stdout",
     "output_type": "stream",
     "text": [
      "[[ 1.         -0.32732684]\n",
      " [-0.32732684  1.        ]]\n"
     ]
    }
   ],
   "source": [
    "A=np.array([1000, 1200, 1600]) \n",
    "\n",
    "B=np.array([130, 110, 120]) \n",
    "\n",
    "print(np.corrcoef(A,B)) "
   ]
  },
  {
   "cell_type": "code",
   "execution_count": 5,
   "metadata": {
    "scrolled": true
   },
   "outputs": [
    {
     "data": {
      "image/png": "[encoded data removed]",
      "text/plain": [
       "<Figure size 432x288 with 1 Axes>"
      ]
     },
     "metadata": {
      "needs_background": "light"
     },
     "output_type": "display_data"
    }
   ],
   "source": [
    "import numpy as np\n",
    "import matplotlib.pyplot as plt \n",
    "def estcoefficients(x,y):\n",
    "    n=np.size(x)\n",
    "    meanx,meany=np.mean(x), np.mean(y)\n",
    "    sy=np.sum(y*x-n*meany*meanx)\n",
    "    sx=np.sum(x*x-n*meanx*meanx)\n",
    "    a=sx/sy\n",
    "    b=meany-a*meanx\n",
    "    return(a,b)\n",
    "\n",
    "def plotlinreg(x,y,b):\n",
    "    plt.scatter(x,y,color=\"r\", marker=\"o\", s=30)\n",
    "    ypred=b[0]+b[1]*x\n",
    "    plt.plot(x,ypred,color=\"g\")\n",
    "    plt.xlabel('SIZE')\n",
    "    plt.ylabel('COST')\n",
    "    plt.show()\n",
    "\n",
    "x=np.array([10,20,30,40,50]) #independent variable\n",
    "y=np.array([400,800,200,1700,2100]) #dependent variables\n",
    "b=estcoefficients(x,y)\n",
    "plotlinreg(x,y,b)\n",
    "\n"
   ]
  },
  {
   "cell_type": "code",
   "execution_count": null,
   "metadata": {},
   "outputs": [],
   "source": [
    "#specifying data as ndArray\n",
    "import numpy as np\n",
    "import pandas as pd\n",
    "\n",
    "data=np.arange(3,15,2)\n",
    "print(data)\n",
    "ser=pd.Series(data)\n",
    "print(ser)"
   ]
  },
  {
   "cell_type": "code",
   "execution_count": 18,
   "metadata": {},
   "outputs": [
    {
     "name": "stdout",
     "output_type": "stream",
     "text": [
      "A    1000\n",
      "B    2000\n",
      "C    3000\n",
      "D    4000\n",
      "E    5000\n",
      "dtype: int64\n"
     ]
    }
   ],
   "source": [
    "#SEPTEMBER 17, 2020 REVISION\n",
    "\n",
    "#Design a series object s1 containing 1000, 2000, 3000, 4000, 5000\n",
    "import pandas as pd \n",
    "#s1=pd.Series([1000,2000,3000,4000,5000])\n",
    "#l=[1000,2000,3000,4000,5000]\n",
    "id=\"ABCDE\"\n",
    "s1=pd.Series(range(1000,5001,1000))\n",
    "s1.index=[x for x in id]\n",
    "print(s1)"
   ]
  },
  {
   "cell_type": "code",
   "execution_count": 23,
   "metadata": {
    "scrolled": true
   },
   "outputs": [
    {
     "name": "stdout",
     "output_type": "stream",
     "text": [
      "A     1\n",
      "B     2\n",
      "C     3\n",
      "D     4\n",
      "E     5\n",
      "F     6\n",
      "G     7\n",
      "H     8\n",
      "I     9\n",
      "J    10\n",
      "dtype: int64\n"
     ]
    }
   ],
   "source": [
    "import pandas as pd\n",
    "arr=pd.Series(range(1,11))\n",
    "id=\"ABCDEFGHIJ\"\n",
    "arr.index=[y for y in id]\n",
    "print(arr)"
   ]
  },
  {
   "cell_type": "code",
   "execution_count": 25,
   "metadata": {},
   "outputs": [
    {
     "name": "stdout",
     "output_type": "stream",
     "text": [
      "10     1\n",
      "9      2\n",
      "8      3\n",
      "7      4\n",
      "6      5\n",
      "5      6\n",
      "4      7\n",
      "3      8\n",
      "2      9\n",
      "1     10\n",
      "dtype: int64\n"
     ]
    }
   ],
   "source": [
    "import pandas as pd\n",
    "arr=pd.Series(range(1,11))\n",
    "arr.index=range(10,0,-1)\n",
    "print(arr)"
   ]
  },
  {
   "cell_type": "code",
   "execution_count": 26,
   "metadata": {},
   "outputs": [
    {
     "name": "stdout",
     "output_type": "stream",
     "text": [
      "10     1\n",
      "9      2\n",
      "8      3\n",
      "7      4\n",
      "6      5\n",
      "5      6\n",
      "4      7\n",
      "3      8\n",
      "2      9\n",
      "1     10\n",
      "dtype: int64\n"
     ]
    }
   ],
   "source": [
    "#slicing displayig all elementents of series\n",
    "import pandas as pd\n",
    "arr=pd.Series(range(1,11))\n",
    "arr.index=range(10,0,-1)\n",
    "print(arr[:])"
   ]
  },
  {
   "cell_type": "code",
   "execution_count": 27,
   "metadata": {},
   "outputs": [
    {
     "name": "stdout",
     "output_type": "stream",
     "text": [
      "1     10\n",
      "2      9\n",
      "3      8\n",
      "4      7\n",
      "5      6\n",
      "6      5\n",
      "7      4\n",
      "8      3\n",
      "9      2\n",
      "10     1\n",
      "dtype: int64\n"
     ]
    }
   ],
   "source": [
    "#slicing \n",
    "import pandas as pd\n",
    "arr=pd.Series(range(1,11))\n",
    "arr.index=range(10,0,-1)\n",
    "print(arr[::-1])"
   ]
  },
  {
   "cell_type": "code",
   "execution_count": 31,
   "metadata": {},
   "outputs": [
    {
     "name": "stdout",
     "output_type": "stream",
     "text": [
      "Enter a string12221\n",
      "It is palindrome\n"
     ]
    }
   ],
   "source": [
    "#any word or number that we read forward or backward, gives same meaning is called palindrome,e.g. arora, aviva, malayalam\n",
    "#nitin, 1221, 1001, 1000000001, 22322, tenenet, rac car\n",
    "\n",
    "word=input(\"Enter a string\")\n",
    "\n",
    "if word==word[::-1]:\n",
    "    print(\"It is palindrome\")\n",
    "else:\n",
    "    print(\"it is not palindrome\")"
   ]
  },
  {
   "cell_type": "code",
   "execution_count": 33,
   "metadata": {},
   "outputs": [
    {
     "name": "stdout",
     "output_type": "stream",
     "text": [
      "[ 1  2  3  4  5  6  7  8  9 10]\n",
      "4\n"
     ]
    }
   ],
   "source": [
    "#creating 1D array\n",
    "import numpy as np\n",
    "arr=np.array(range(1,11))\n",
    "print(arr)\n",
    "print(arr[3])"
   ]
  },
  {
   "cell_type": "code",
   "execution_count": 34,
   "metadata": {},
   "outputs": [
    {
     "name": "stdout",
     "output_type": "stream",
     "text": [
      "10     1\n",
      "9      2\n",
      "8      3\n",
      "7      4\n",
      "6      5\n",
      "5      6\n",
      "4      7\n",
      "3      8\n",
      "2      9\n",
      "1     10\n",
      "dtype: int64\n"
     ]
    }
   ],
   "source": [
    "#slicing displayig all elementents of series\n",
    "import pandas as pd\n",
    "arr=pd.Series(range(1,11),index=range(10,0,-1))\n",
    "\n",
    "print(arr[:])"
   ]
  }
 ],
 "metadata": {
  "kernelspec": {
   "display_name": "Python 3",
   "language": "python",
   "name": "python3"
  },
  "language_info": {
   "codemirror_mode": {
    "name": "ipython",
    "version": 3
   },
   "file_extension": ".py",
   "mimetype": "text/x-python",
   "name": "python",
   "nbconvert_exporter": "python",
   "pygments_lexer": "ipython3",
   "version": "3.8.2"
  }
 },
 "nbformat": 4,
 "nbformat_minor": 2
}
