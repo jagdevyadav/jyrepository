{
 "metadata": {
  "language_info": {
   "codemirror_mode": {
    "name": "ipython",
    "version": 3
   },
   "file_extension": ".py",
   "mimetype": "text/x-python",
   "name": "python",
   "nbconvert_exporter": "python",
   "pygments_lexer": "ipython3",
   "version": "3.8.5-final"
  },
  "orig_nbformat": 2,
  "kernelspec": {
   "name": "python38264bit3d2dd1f9d25b473da33662d091d3333a",
   "display_name": "Python 3.8.2 64-bit"
  }
 },
 "nbformat": 4,
 "nbformat_minor": 2,
 "cells": [
  {
   "cell_type": "code",
   "execution_count": 8,
   "metadata": {
    "tags": []
   },
   "outputs": [
    {
     "output_type": "stream",
     "name": "stdout",
     "text": "items   revenue\n0      mobile   1000000\n1   notebooks  20000000\n2        pens     50000\n3    keyboard   4000000\n4      laptop  30000000\n5     cameras     50000\n6  pen drives   6000000\n7     ext hdd  70002312\n1000000\n1000000\nnotebooks\n20000000\n"
    }
   ],
   "source": [
    "#Write code statements to list the following, from a dataframe namely 'SALES'\n",
    "#a) List only columns ITEM and REVENUE\n",
    "#b) List rows from 3 to 7\n",
    "#c) List the value of cell in 5th row, ITEM column\n",
    "import pandas as pd \n",
    "i=['mobile','notebooks','pens','keyboard','laptop','cameras','pen drives','ext hdd']\n",
    "r=[1000000, 20000000,50000, 4000000,30000000,50000, 6000000,70002312]\n",
    "s={'items':i, 'revenue':r}\n",
    "sales=pd.DataFrame(s)\n",
    "print(sales[['items','revenue']])\n",
    "print(sales.loc[0,'revenue'])\n",
    "print(sales.loc[0]['revenue'])\n",
    "print(sales.at[1,'items'])\n",
    "print(sales.iat[1,1])"
   ]
  },
  {
   "cell_type": "code",
   "execution_count": 16,
   "metadata": {},
   "outputs": [
    {
     "output_type": "execute_result",
     "data": {
      "text/plain": "       items   revenue\n0     mobile   1000000\n1  notebooks  20000000",
      "text/html": "<div>\n<style scoped>\n    .dataframe tbody tr th:only-of-type {\n        vertical-align: middle;\n    }\n\n    .dataframe tbody tr th {\n        vertical-align: top;\n    }\n\n    .dataframe thead th {\n        text-align: right;\n    }\n</style>\n<table border=\"1\" class=\"dataframe\">\n  <thead>\n    <tr style=\"text-align: right;\">\n      <th></th>\n      <th>items</th>\n      <th>revenue</th>\n    </tr>\n  </thead>\n  <tbody>\n    <tr>\n      <th>0</th>\n      <td>mobile</td>\n      <td>1000000</td>\n    </tr>\n    <tr>\n      <th>1</th>\n      <td>notebooks</td>\n      <td>20000000</td>\n    </tr>\n  </tbody>\n</table>\n</div>"
     },
     "metadata": {},
     "execution_count": 16
    }
   ],
   "source": [
    "sales.head(2)"
   ]
  },
  {
   "cell_type": "code",
   "execution_count": 15,
   "metadata": {},
   "outputs": [
    {
     "output_type": "execute_result",
     "data": {
      "text/plain": "        items   revenue\n6  pen drives   6000000\n7     ext hdd  70002312",
      "text/html": "<div>\n<style scoped>\n    .dataframe tbody tr th:only-of-type {\n        vertical-align: middle;\n    }\n\n    .dataframe tbody tr th {\n        vertical-align: top;\n    }\n\n    .dataframe thead th {\n        text-align: right;\n    }\n</style>\n<table border=\"1\" class=\"dataframe\">\n  <thead>\n    <tr style=\"text-align: right;\">\n      <th></th>\n      <th>items</th>\n      <th>revenue</th>\n    </tr>\n  </thead>\n  <tbody>\n    <tr>\n      <th>6</th>\n      <td>pen drives</td>\n      <td>6000000</td>\n    </tr>\n    <tr>\n      <th>7</th>\n      <td>ext hdd</td>\n      <td>70002312</td>\n    </tr>\n  </tbody>\n</table>\n</div>"
     },
     "metadata": {},
     "execution_count": 15
    }
   ],
   "source": [
    "sales.tail(2)"
   ]
  },
  {
   "cell_type": "code",
   "execution_count": 25,
   "metadata": {},
   "outputs": [
    {
     "output_type": "execute_result",
     "data": {
      "text/plain": "        items   revenue\n3    keyboard   4000000\n4      laptop  30000000\n5     cameras     50000\n6  pen drives   6000000\n7     ext hdd  70002312",
      "text/html": "<div>\n<style scoped>\n    .dataframe tbody tr th:only-of-type {\n        vertical-align: middle;\n    }\n\n    .dataframe tbody tr th {\n        vertical-align: top;\n    }\n\n    .dataframe thead th {\n        text-align: right;\n    }\n</style>\n<table border=\"1\" class=\"dataframe\">\n  <thead>\n    <tr style=\"text-align: right;\">\n      <th></th>\n      <th>items</th>\n      <th>revenue</th>\n    </tr>\n  </thead>\n  <tbody>\n    <tr>\n      <th>3</th>\n      <td>keyboard</td>\n      <td>4000000</td>\n    </tr>\n    <tr>\n      <th>4</th>\n      <td>laptop</td>\n      <td>30000000</td>\n    </tr>\n    <tr>\n      <th>5</th>\n      <td>cameras</td>\n      <td>50000</td>\n    </tr>\n    <tr>\n      <th>6</th>\n      <td>pen drives</td>\n      <td>6000000</td>\n    </tr>\n    <tr>\n      <th>7</th>\n      <td>ext hdd</td>\n      <td>70002312</td>\n    </tr>\n  </tbody>\n</table>\n</div>"
     },
     "metadata": {},
     "execution_count": 25
    }
   ],
   "source": [
    "sales[3:8]"
   ]
  },
  {
   "cell_type": "code",
   "execution_count": 26,
   "metadata": {},
   "outputs": [
    {
     "output_type": "execute_result",
     "data": {
      "text/plain": "     items  revenue\n5  cameras    50000",
      "text/html": "<div>\n<style scoped>\n    .dataframe tbody tr th:only-of-type {\n        vertical-align: middle;\n    }\n\n    .dataframe tbody tr th {\n        vertical-align: top;\n    }\n\n    .dataframe thead th {\n        text-align: right;\n    }\n</style>\n<table border=\"1\" class=\"dataframe\">\n  <thead>\n    <tr style=\"text-align: right;\">\n      <th></th>\n      <th>items</th>\n      <th>revenue</th>\n    </tr>\n  </thead>\n  <tbody>\n    <tr>\n      <th>5</th>\n      <td>cameras</td>\n      <td>50000</td>\n    </tr>\n  </tbody>\n</table>\n</div>"
     },
     "metadata": {},
     "execution_count": 26
    }
   ],
   "source": [
    "sales[5:6]"
   ]
  },
  {
   "cell_type": "code",
   "execution_count": 33,
   "metadata": {},
   "outputs": [
    {
     "output_type": "execute_result",
     "data": {
      "text/plain": "        items   revenue   C\n0      mobile   1000000 NaN\n1   notebooks  20000000 NaN\n2        pens     50000 NaN\n3    keyboard   4000000 NaN\n4      laptop  30000000 NaN\n5     cameras     50000 NaN\n6  pen drives   6000000 NaN\n7     ext hdd  70002312 NaN",
      "text/html": "<div>\n<style scoped>\n    .dataframe tbody tr th:only-of-type {\n        vertical-align: middle;\n    }\n\n    .dataframe tbody tr th {\n        vertical-align: top;\n    }\n\n    .dataframe thead th {\n        text-align: right;\n    }\n</style>\n<table border=\"1\" class=\"dataframe\">\n  <thead>\n    <tr style=\"text-align: right;\">\n      <th></th>\n      <th>items</th>\n      <th>revenue</th>\n      <th>C</th>\n    </tr>\n  </thead>\n  <tbody>\n    <tr>\n      <th>0</th>\n      <td>mobile</td>\n      <td>1000000</td>\n      <td>NaN</td>\n    </tr>\n    <tr>\n      <th>1</th>\n      <td>notebooks</td>\n      <td>20000000</td>\n      <td>NaN</td>\n    </tr>\n    <tr>\n      <th>2</th>\n      <td>pens</td>\n      <td>50000</td>\n      <td>NaN</td>\n    </tr>\n    <tr>\n      <th>3</th>\n      <td>keyboard</td>\n      <td>4000000</td>\n      <td>NaN</td>\n    </tr>\n    <tr>\n      <th>4</th>\n      <td>laptop</td>\n      <td>30000000</td>\n      <td>NaN</td>\n    </tr>\n    <tr>\n      <th>5</th>\n      <td>cameras</td>\n      <td>50000</td>\n      <td>NaN</td>\n    </tr>\n    <tr>\n      <th>6</th>\n      <td>pen drives</td>\n      <td>6000000</td>\n      <td>NaN</td>\n    </tr>\n    <tr>\n      <th>7</th>\n      <td>ext hdd</td>\n      <td>70002312</td>\n      <td>NaN</td>\n    </tr>\n  </tbody>\n</table>\n</div>"
     },
     "metadata": {},
     "execution_count": 33
    }
   ],
   "source": [
    "import numpy as np\n",
    "import pandas as pd  \n",
    "sales['C']=np.NaN\n",
    "sales\n"
   ]
  },
  {
   "cell_type": "code",
   "execution_count": 41,
   "metadata": {},
   "outputs": [
    {
     "output_type": "execute_result",
     "data": {
      "text/plain": "        items   revenue\n0      mobile   1000000\n1   notebooks  20000000\n2        pens     50000\n3    keyboard   4000000\n4      laptop  30000000\n5     cameras     50000\n6  pen drives   6000000\n7     ext hdd  70002312",
      "text/html": "<div>\n<style scoped>\n    .dataframe tbody tr th:only-of-type {\n        vertical-align: middle;\n    }\n\n    .dataframe tbody tr th {\n        vertical-align: top;\n    }\n\n    .dataframe thead th {\n        text-align: right;\n    }\n</style>\n<table border=\"1\" class=\"dataframe\">\n  <thead>\n    <tr style=\"text-align: right;\">\n      <th></th>\n      <th>items</th>\n      <th>revenue</th>\n    </tr>\n  </thead>\n  <tbody>\n    <tr>\n      <th>0</th>\n      <td>mobile</td>\n      <td>1000000</td>\n    </tr>\n    <tr>\n      <th>1</th>\n      <td>notebooks</td>\n      <td>20000000</td>\n    </tr>\n    <tr>\n      <th>2</th>\n      <td>pens</td>\n      <td>50000</td>\n    </tr>\n    <tr>\n      <th>3</th>\n      <td>keyboard</td>\n      <td>4000000</td>\n    </tr>\n    <tr>\n      <th>4</th>\n      <td>laptop</td>\n      <td>30000000</td>\n    </tr>\n    <tr>\n      <th>5</th>\n      <td>cameras</td>\n      <td>50000</td>\n    </tr>\n    <tr>\n      <th>6</th>\n      <td>pen drives</td>\n      <td>6000000</td>\n    </tr>\n    <tr>\n      <th>7</th>\n      <td>ext hdd</td>\n      <td>70002312</td>\n    </tr>\n  </tbody>\n</table>\n</div>"
     },
     "metadata": {},
     "execution_count": 41
    }
   ],
   "source": [
    "sales.drop('C',axis=1)"
   ]
  },
  {
   "cell_type": "code",
   "execution_count": 49,
   "metadata": {},
   "outputs": [
    {
     "output_type": "execute_result",
     "data": {
      "text/plain": "        items   revenue\n0      mobile   1000000\n1   notebooks  20000000\n2        pens     50000\n3    keyboard   4000000\n4      laptop  30000000\n5     cameras     50000\n6  pen drives   6000000\n7     ext hdd  70002312",
      "text/html": "<div>\n<style scoped>\n    .dataframe tbody tr th:only-of-type {\n        vertical-align: middle;\n    }\n\n    .dataframe tbody tr th {\n        vertical-align: top;\n    }\n\n    .dataframe thead th {\n        text-align: right;\n    }\n</style>\n<table border=\"1\" class=\"dataframe\">\n  <thead>\n    <tr style=\"text-align: right;\">\n      <th></th>\n      <th>items</th>\n      <th>revenue</th>\n    </tr>\n  </thead>\n  <tbody>\n    <tr>\n      <th>0</th>\n      <td>mobile</td>\n      <td>1000000</td>\n    </tr>\n    <tr>\n      <th>1</th>\n      <td>notebooks</td>\n      <td>20000000</td>\n    </tr>\n    <tr>\n      <th>2</th>\n      <td>pens</td>\n      <td>50000</td>\n    </tr>\n    <tr>\n      <th>3</th>\n      <td>keyboard</td>\n      <td>4000000</td>\n    </tr>\n    <tr>\n      <th>4</th>\n      <td>laptop</td>\n      <td>30000000</td>\n    </tr>\n    <tr>\n      <th>5</th>\n      <td>cameras</td>\n      <td>50000</td>\n    </tr>\n    <tr>\n      <th>6</th>\n      <td>pen drives</td>\n      <td>6000000</td>\n    </tr>\n    <tr>\n      <th>7</th>\n      <td>ext hdd</td>\n      <td>70002312</td>\n    </tr>\n  </tbody>\n</table>\n</div>"
     },
     "metadata": {},
     "execution_count": 49
    }
   ],
   "source": [
    "#sales.drop('C',axis=1)\n",
    "sales"
   ]
  },
  {
   "cell_type": "code",
   "execution_count": 2,
   "metadata": {},
   "outputs": [
    {
     "output_type": "execute_result",
     "data": {
      "text/plain": "           item  qty  price\n0           pen   10     10\n1        pencil  100      5\n2      stapller   20     25\n3       fevicol   25     10\n4      notebook  100     50\n5      register  200    100\n6  geometry set    5    150\n7        eraser   20     15\n8           ink   10     40\n9       refills  100      2",
      "text/html": "<div>\n<style scoped>\n    .dataframe tbody tr th:only-of-type {\n        vertical-align: middle;\n    }\n\n    .dataframe tbody tr th {\n        vertical-align: top;\n    }\n\n    .dataframe thead th {\n        text-align: right;\n    }\n</style>\n<table border=\"1\" class=\"dataframe\">\n  <thead>\n    <tr style=\"text-align: right;\">\n      <th></th>\n      <th>item</th>\n      <th>qty</th>\n      <th>price</th>\n    </tr>\n  </thead>\n  <tbody>\n    <tr>\n      <th>0</th>\n      <td>pen</td>\n      <td>10</td>\n      <td>10</td>\n    </tr>\n    <tr>\n      <th>1</th>\n      <td>pencil</td>\n      <td>100</td>\n      <td>5</td>\n    </tr>\n    <tr>\n      <th>2</th>\n      <td>stapller</td>\n      <td>20</td>\n      <td>25</td>\n    </tr>\n    <tr>\n      <th>3</th>\n      <td>fevicol</td>\n      <td>25</td>\n      <td>10</td>\n    </tr>\n    <tr>\n      <th>4</th>\n      <td>notebook</td>\n      <td>100</td>\n      <td>50</td>\n    </tr>\n    <tr>\n      <th>5</th>\n      <td>register</td>\n      <td>200</td>\n      <td>100</td>\n    </tr>\n    <tr>\n      <th>6</th>\n      <td>geometry set</td>\n      <td>5</td>\n      <td>150</td>\n    </tr>\n    <tr>\n      <th>7</th>\n      <td>eraser</td>\n      <td>20</td>\n      <td>15</td>\n    </tr>\n    <tr>\n      <th>8</th>\n      <td>ink</td>\n      <td>10</td>\n      <td>40</td>\n    </tr>\n    <tr>\n      <th>9</th>\n      <td>refills</td>\n      <td>100</td>\n      <td>2</td>\n    </tr>\n  </tbody>\n</table>\n</div>"
     },
     "metadata": {},
     "execution_count": 2
    }
   ],
   "source": [
    "import numpy as np \n",
    "import pandas as pd \n",
    "i=['pen','pencil','stapller','fevicol','notebook','register','geometry set','eraser','ink','refills']\n",
    "q=[10,100,20, 25,100,200,5,20,10,100]\n",
    "p=[10,5,25,10,50,100,150,15,40,2]\n",
    "d={'item':i,'qty':q,'price':p }\n",
    "df=pd.DataFrame(d)\n",
    "df"
   ]
  },
  {
   "cell_type": "code",
   "execution_count": 6,
   "metadata": {},
   "outputs": [
    {
     "output_type": "execute_result",
     "data": {
      "text/plain": "           item  qty  price  val\n0           pen   10     10  100\n1        pencil  100      5  100\n2      stapller   20     25  100\n3       fevicol   25     10  100\n4      notebook  100     50  100\n5      register  200    100  100\n6  geometry set    5    150  100\n7        eraser   20     15  100\n8           ink   10     40  100\n9       refills  100      2  100",
      "text/html": "<div>\n<style scoped>\n    .dataframe tbody tr th:only-of-type {\n        vertical-align: middle;\n    }\n\n    .dataframe tbody tr th {\n        vertical-align: top;\n    }\n\n    .dataframe thead th {\n        text-align: right;\n    }\n</style>\n<table border=\"1\" class=\"dataframe\">\n  <thead>\n    <tr style=\"text-align: right;\">\n      <th></th>\n      <th>item</th>\n      <th>qty</th>\n      <th>price</th>\n      <th>val</th>\n    </tr>\n  </thead>\n  <tbody>\n    <tr>\n      <th>0</th>\n      <td>pen</td>\n      <td>10</td>\n      <td>10</td>\n      <td>100</td>\n    </tr>\n    <tr>\n      <th>1</th>\n      <td>pencil</td>\n      <td>100</td>\n      <td>5</td>\n      <td>100</td>\n    </tr>\n    <tr>\n      <th>2</th>\n      <td>stapller</td>\n      <td>20</td>\n      <td>25</td>\n      <td>100</td>\n    </tr>\n    <tr>\n      <th>3</th>\n      <td>fevicol</td>\n      <td>25</td>\n      <td>10</td>\n      <td>100</td>\n    </tr>\n    <tr>\n      <th>4</th>\n      <td>notebook</td>\n      <td>100</td>\n      <td>50</td>\n      <td>100</td>\n    </tr>\n    <tr>\n      <th>5</th>\n      <td>register</td>\n      <td>200</td>\n      <td>100</td>\n      <td>100</td>\n    </tr>\n    <tr>\n      <th>6</th>\n      <td>geometry set</td>\n      <td>5</td>\n      <td>150</td>\n      <td>100</td>\n    </tr>\n    <tr>\n      <th>7</th>\n      <td>eraser</td>\n      <td>20</td>\n      <td>15</td>\n      <td>100</td>\n    </tr>\n    <tr>\n      <th>8</th>\n      <td>ink</td>\n      <td>10</td>\n      <td>40</td>\n      <td>100</td>\n    </tr>\n    <tr>\n      <th>9</th>\n      <td>refills</td>\n      <td>100</td>\n      <td>2</td>\n      <td>100</td>\n    </tr>\n  </tbody>\n</table>\n</div>"
     },
     "metadata": {},
     "execution_count": 6
    }
   ],
   "source": [
    "df['val']=np.NaN\n",
    "df['val']=100\n",
    "df"
   ]
  },
  {
   "cell_type": "code",
   "execution_count": null,
   "metadata": {},
   "outputs": [],
   "source": [
    "#September 18, 2020 Revision\n",
    "#Q1: create a data frame containg name and marks in three subjects, for 5 students\n",
    "#Q2: create 4 sequences of each column of data frame\n",
    "#Q3: Display Highest Marks in each from from data frame"
   ]
  },
  {
   "cell_type": "code",
   "execution_count": 2,
   "metadata": {
    "tags": []
   },
   "outputs": [
    {
     "output_type": "stream",
     "name": "stdout",
     "text": "0     5\n1    10\n2    15\n3    20\n4    25\n5    30\n6    35\n7    40\n8    45\ndtype: int64\n"
    }
   ],
   "source": [
    "import pandas as pd \n",
    "import numpy as np \n",
    "table=pd.Series(np.arange(5,50,5))\n",
    "print(table)"
   ]
  },
  {
   "cell_type": "code",
   "execution_count": 1,
   "metadata": {
    "tags": []
   },
   "outputs": [
    {
     "output_type": "stream",
     "name": "stdout",
     "text": "{'a': 45, 'b': 50, 'c': 41, 'd': 51}\na    45\nb    50\nc    41\nd    51\ndtype: int64\n50\n"
    }
   ],
   "source": [
    "import pandas as pd \n",
    "stu={'a':45, 'b':50,'c':41,'d':51}\n",
    "print(stu)\n",
    "ser=pd.Series(stu)\n",
    "print(ser)"
   ]
  },
  {
   "cell_type": "code",
   "execution_count": 3,
   "metadata": {
    "tags": []
   },
   "outputs": [
    {
     "output_type": "stream",
     "name": "stdout",
     "text": "45 50 41 51 "
    }
   ],
   "source": [
    "import pandas as pd \n",
    "stu={'a':45, 'b':50,'c':41,'d':51}\n",
    "ser=pd.Series(stu)\n",
    "for i in ser:\n",
    "    print(i, end=\" \")"
   ]
  },
  {
   "cell_type": "code",
   "execution_count": 6,
   "metadata": {
    "tags": []
   },
   "outputs": [
    {
     "output_type": "stream",
     "name": "stdout",
     "text": "maths      10\nscience    20\nip         30\ndtype: int64\nmaths      40\nscience    15\nip         25\ndtype: int64\nmaths      400\nscience    300\nip         750\ndtype: int64\n"
    }
   ],
   "source": [
    "import pandas as pd\n",
    "c1=pd.Series([10,20,30],['maths','science','ip'])\n",
    "c2=pd.Series([40,15,25],['maths','science','ip'])\n",
    "print(c1)\n",
    "print(c2)\n",
    "print(c1*c2)"
   ]
  }
 ]
}