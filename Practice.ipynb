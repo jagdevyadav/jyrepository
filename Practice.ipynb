{
 "cells": [
  {
   "cell_type": "code",
   "execution_count": 8,
   "metadata": {},
   "outputs": [
    {
     "name": "stdout",
     "output_type": "stream",
     "text": [
      "arora\n",
      "arora\n",
      "arora\n",
      "arora\n",
      "arora arora\n"
     ]
    }
   ],
   "source": [
    "name=\"arora\"\n",
    "print(name)\n",
    "print(name[:])\n",
    "print(name[::-1])\n",
    "print(name)\n",
    "\n",
    "\n"
   ]
  },
  {
   "cell_type": "code",
   "execution_count": 14,
   "metadata": {},
   "outputs": [
    {
     "name": "stdout",
     "output_type": "stream",
     "text": [
      "Enter a Stringaarti\n",
      "Not Palindrome\n"
     ]
    }
   ],
   "source": [
    "#enter a string, determine and print msg whether it is palindrome or not\n",
    "string=input(\"Enter a String\")\n",
    "rev=string[::-1]\n",
    "if rev==string:\n",
    "    print(\"Palindrome\")\n",
    "else:\n",
    "    print(\"Not Palindrome\")"
   ]
  }
 ],
 "metadata": {
  "kernelspec": {
   "display_name": "Python 3",
   "language": "python",
   "name": "python3"
  },
  "language_info": {
   "codemirror_mode": {
    "name": "ipython",
    "version": 3
   },
   "file_extension": ".py",
   "mimetype": "text/x-python",
   "name": "python",
   "nbconvert_exporter": "python",
   "pygments_lexer": "ipython3",
   "version": "3.8.5"
  }
 },
 "nbformat": 4,
 "nbformat_minor": 4
}
