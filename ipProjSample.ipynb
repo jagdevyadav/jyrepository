{
 "metadata": {
  "language_info": {
   "codemirror_mode": {
    "name": "ipython",
    "version": 3
   },
   "file_extension": ".py",
   "mimetype": "text/x-python",
   "name": "python",
   "nbconvert_exporter": "python",
   "pygments_lexer": "ipython3",
   "version": "3.8.2-final"
  },
  "orig_nbformat": 2,
  "kernelspec": {
   "name": "python_defaultSpec_1599202839282",
   "display_name": "Python 3.8.2 64-bit"
  }
 },
 "nbformat": 4,
 "nbformat_minor": 2,
 "cells": [
  {
   "cell_type": "code",
   "execution_count": 1,
   "metadata": {
    "tags": []
   },
   "outputs": [
    {
     "output_type": "stream",
     "name": "stdout",
     "text": "\n    1. ADD EMPLOYEE\n    2. DIPSLAY ALL EMPLOYEES LIST\n    3. SEARCH AN EMPLOYEE\n    4. SEARCH & MODIFY EMPLOYEE\n    5. SEARCH & DELETE EMPLOYEE\n    0. EXIT\n    \n\n    Input your choice 0-5 : \n\n    1. ADD EMPLOYEE\n    2. DIPSLAY ALL EMPLOYEES LIST\n    3. SEARCH AN EMPLOYEE\n    4. SEARCH & MODIFY EMPLOYEE\n    5. SEARCH & DELETE EMPLOYEE\n    0. EXIT\n    \n\n    Input your choice 0-5 : \n\n    1. ADD EMPLOYEE\n    2. DIPSLAY ALL EMPLOYEES LIST\n    3. SEARCH AN EMPLOYEE\n    4. SEARCH & MODIFY EMPLOYEE\n    5. SEARCH & DELETE EMPLOYEE\n    0. EXIT\n    \n\n    Input your choice 0-5 : \n\n    1. ADD EMPLOYEE\n    2. DIPSLAY ALL EMPLOYEES LIST\n    3. SEARCH AN EMPLOYEE\n    4. SEARCH & MODIFY EMPLOYEE\n    5. SEARCH & DELETE EMPLOYEE\n    0. EXIT\n    \n\n    Input your choice 0-5 : \n\n    1. ADD EMPLOYEE\n    2. DIPSLAY ALL EMPLOYEES LIST\n    3. SEARCH AN EMPLOYEE\n    4. SEARCH & MODIFY EMPLOYEE\n    5. SEARCH & DELETE EMPLOYEE\n    0. EXIT\n    \n\n    Input your choice 0-5 : \n"
    }
   ],
   "source": [
    "#MENU OF OPTIONS sample project EMPLOYEE RECORD KEEPING SYSTEM\n",
    "ch=' '\n",
    "while ch !='0':\n",
    "    print('''\n",
    "    1. ADD EMPLOYEE\n",
    "    2. DIPSLAY ALL EMPLOYEES LIST\n",
    "    3. SEARCH AN EMPLOYEE\n",
    "    4. SEARCH & MODIFY EMPLOYEE\n",
    "    5. SEARCH & DELETE EMPLOYEE\n",
    "    0. EXIT\n",
    "    \\n\n",
    "    Input your choice 0-5 : ''' )\n",
    "    ch=input()\n"
   ]
  }
 ]
}