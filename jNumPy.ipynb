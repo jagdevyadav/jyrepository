{
 "metadata": {
  "language_info": {
   "codemirror_mode": {
    "name": "ipython",
    "version": 3
   },
   "file_extension": ".py",
   "mimetype": "text/x-python",
   "name": "python",
   "nbconvert_exporter": "python",
   "pygments_lexer": "ipython3",
   "version": "3.8.5-final"
  },
  "orig_nbformat": 2,
  "kernelspec": {
   "name": "Python 3.8.5 64-bit",
   "display_name": "Python 3.8.5 64-bit",
   "metadata": {
    "interpreter": {
     "hash": "767d51c1340bd893661ea55ea3124f6de3c7a262a8b4abca0554b478b1e2ff90"
    }
   }
  }
 },
 "nbformat": 4,
 "nbformat_minor": 2,
 "cells": [
  {
   "cell_type": "code",
   "execution_count": 12,
   "metadata": {
    "tags": []
   },
   "outputs": [
    {
     "output_type": "stream",
     "name": "stdout",
     "text": "[10. 20. 30.]\n"
    },
    {
     "output_type": "execute_result",
     "data": {
      "text/plain": "8"
     },
     "metadata": {},
     "execution_count": 12
    }
   ],
   "source": [
    "#October 15, 2020 Thursday\n",
    "#Creating 1Dimensional Array (1D Array)\n",
    "import numpy as np \n",
    "arr=np.array([10.0,20.0,30.0])\n",
    "print(arr)\n",
    "arr.ndim #it tells whether it is 1D or 2D array\n",
    "arr.shape #it tells dimensions of array means number of rows and number of columns\n",
    "arr.size #it tells number of values in array\n",
    "arr.dtype #it tells about the data type of array elements\n",
    "arr.itemsize #it tells element memory size of array elements in bits"
   ]
  },
  {
   "cell_type": "code",
   "execution_count": 13,
   "metadata": {
    "tags": []
   },
   "outputs": [
    {
     "output_type": "stream",
     "name": "stdout",
     "text": "[[10 20 30 40]\n [ 1  2  3  4]\n [15 25 35 45]]\n"
    },
    {
     "output_type": "execute_result",
     "data": {
      "text/plain": "8"
     },
     "metadata": {},
     "execution_count": 13
    }
   ],
   "source": [
    "#Creating 2Dimensional Array (2D Array)\n",
    "#2D OR MULTIDIMENSIONAL\n",
    "import numpy as np \n",
    "arr=np.array([[10,20,30,40],[1,2,3,4],[15,25,35,45]])\n",
    "print(arr)\n",
    "arr.ndim #it tells whether it is 1D or 2D array\n",
    "arr.shape #it tells dimensions of array means number of rows and number of columns\n",
    "arr.size #it tells number of values in array\n",
    "arr.dtype #it tells about the data type of array elements\n",
    "arr.itemsize #it tells element memory size of array elements in bits"
   ]
  },
  {
   "cell_type": "code",
   "execution_count": 27,
   "metadata": {
    "tags": []
   },
   "outputs": [
    {
     "output_type": "stream",
     "name": "stdout",
     "text": "[[10.5  20.75]\n [30.33 40.44]]\n"
    }
   ],
   "source": [
    "#CREATING ARRAYS OF DESIRED DATA TYPE\n",
    "import numpy as np \n",
    "marks=np.array([10,20.12,30],dtype=int)\n",
    "marks.dtype\n",
    "marks\n",
    "marks1=np.array([[10.50,20.75],[30.33,40.44]],dtype=float)\n",
    "marks1.dtype\n",
    "print(marks1)"
   ]
  },
  {
   "cell_type": "code",
   "execution_count": 4,
   "metadata": {
    "tags": []
   },
   "outputs": [
    {
     "output_type": "stream",
     "name": "stdout",
     "text": "[[0. 0. 0.]\n [0. 0. 0.]]\nfloat64\n"
    }
   ],
   "source": [
    "#October 16, 2020 Friday\n",
    "#some NumPy functions to initialize arrays\n",
    "#zeros(): It will array with 0 values\n",
    "import numpy as np \n",
    "a=np.zeros((2,3))\n",
    "print(a)\n",
    "print(a.dtype)\n"
   ]
  },
  {
   "cell_type": "code",
   "execution_count": 6,
   "metadata": {
    "tags": []
   },
   "outputs": [
    {
     "output_type": "stream",
     "name": "stdout",
     "text": "[[1. 1. 1. 1.]\n [1. 1. 1. 1.]\n [1. 1. 1. 1.]\n [1. 1. 1. 1.]\n [1. 1. 1. 1.]\n [1. 1. 1. 1.]\n [1. 1. 1. 1.]\n [1. 1. 1. 1.]\n [1. 1. 1. 1.]\n [1. 1. 1. 1.]]\n"
    }
   ],
   "source": [
    "#ones(): it will initialize array with value 1\n",
    "import numpy as np \n",
    "b=np.ones((10,4))\n",
    "print(b)"
   ]
  },
  {
   "cell_type": "code",
   "execution_count": 15,
   "metadata": {
    "tags": []
   },
   "outputs": [
    {
     "output_type": "stream",
     "name": "stdout",
     "text": "[1 2 3 4]\n[ 1  6 11]\n[-10  -7  -4  -1   2   5   8]\n"
    }
   ],
   "source": [
    "arr=np.arange(1,5)\n",
    "print(arr)\n",
    "arr2=np.arange(1,15,5)\n",
    "print(arr2)\n",
    "arr3=np.arange(-10,10,3)\n",
    "print(arr3)"
   ]
  },
  {
   "cell_type": "code",
   "execution_count": 24,
   "metadata": {
    "tags": []
   },
   "outputs": [
    {
     "output_type": "stream",
     "name": "stdout",
     "text": "[ 2  5  8 11 14 17 20 23 26 29 32 35 38]\n[ 2  5  8 11 14 17 20 23 26 29 32 35 38]\n[ 2  5  8 11]\n[38 35 32 29 26 23 20 17 14 11  8  5  2]\ndcba\n[17 20 23 26 29]\n[ 2  8 14 20 26 32 38]\n[ 2 11 20 29 38]\n[38 29 20 11  2]\n"
    }
   ],
   "source": [
    "#SLICING: It means extracting sub-set of values from an array/string/tuple/dictionary,dataframe,Series\n",
    "values=np.arange(2,40,3)\n",
    "a1=np.array(values)\n",
    "print(a1) #it will print all values of array\n",
    "print(a1[:]) #it will print all values of array\n",
    "print(a1[:4]) #it will print all values till index 3\n",
    "print(a1[::-1]) #it will print all values in reverse order\n",
    "string=\"abcd\"\n",
    "print(string[::-1])\n",
    "print(a1[5:10]) #it will print values from index 5 to index 9\n",
    "print(a1[::2]) #it will print every 2nd value from array\n",
    "print(a1[::3]) #it will print every 3rd value from array\n",
    "print(a1[::-3]) #it will print every 3rd value from back side"
   ]
  },
  {
   "cell_type": "code",
   "execution_count": 38,
   "metadata": {
    "tags": []
   },
   "outputs": [
    {
     "output_type": "stream",
     "name": "stdout",
     "text": "[[ 1  2  3  4  5]\n [ 6  7  8  9 10]\n [11 12 13 14 15]\n [16 17 18 19 20]]\n\n[[ 1  2  3  4  5]\n [ 6  7  8  9 10]\n [11 12 13 14 15]\n [16 17 18 19 20]]\n\n[[ 1  2  3  4  5]\n [11 12 13 14 15]]\n\n[[ 1  2  3  4  5]\n [ 6  7  8  9 10]\n [11 12 13 14 15]]\n\n[[7]]\n\n[[ 2]\n [ 7]\n [12]\n [17]]\n\n[[ 6  7  8]\n [11 12 13]]\n\n"
    }
   ],
   "source": [
    "a2=np.array([[1,2,3,4,5],[6,7,8,9,10],[11,12,13,14,15],[16,17,18,19,20]])\n",
    "print(a2) #all values will be printed\n",
    "print() #blank line will be inserted\n",
    "print(a2[:]) #all values of array will be printed\n",
    "print() #blank line will be printed\n",
    "print(a2[::2]) #it will display elements of every 2nd row\n",
    "print()\n",
    "print(a2[0:3]) #it will print all values of rows 0, 1, 2\n",
    "print()\n",
    "print(a2[1:2,1:2]) #it will print value of row1 col1\n",
    "print()\n",
    "print(a2[:,1:2]) #it will print column 1 values of all rows\n",
    "print()\n",
    "print(a2[1:3,0:3])\n",
    "print()"
   ]
  },
  {
   "cell_type": "code",
   "execution_count": 10,
   "metadata": {
    "tags": []
   },
   "outputs": [
    {
     "output_type": "stream",
     "name": "stdout",
     "text": "[[1 2]\n [3 4]]\n\n[[ 4  6]\n [ 7 11]]\n\nsum of matrices\n [[ 5  8]\n [10 15]]\n\nDifference of matrices\n [[-3 -4]\n [-4 -7]]\n\nProduct of matrices\n [[ 4 12]\n [21 44]]\n\nProduct of matrices\n [[18 28]\n [40 62]]\n\nDifference of matrices\n [[3 4]\n [4 7]]\n\nExponent of Matrix 1\n [[1 2]\n [3 4]]\n[[ 1  4]\n [ 9 16]]\n\nMatrix 1\n [[1 2]\n [3 4]]\n\nMatrix 2\n [[ 4  6]\n [ 7 11]]\n\nQuotient of Division\n [[4.         3.        ]\n [2.33333333 2.75      ]]\n\nRemainder of Division\n [[0 0]\n [1 3]]\n"
    }
   ],
   "source": [
    "#ARITHMETIC OPERATION ON ARRAYS\n",
    "import numpy as np \n",
    "a1=np.array([[1,2],[3,4]])\n",
    "a2=np.array([[4,6],[7,11]])\n",
    "print(a1)\n",
    "print()\n",
    "print(a2)\n",
    "print()\n",
    "print(\"sum of matrices\\n\",a1+a2)\n",
    "print()\n",
    "print(\"Difference of matrices\\n\",a1-a2)\n",
    "print()\n",
    "print(\"Product of matrices\\n\",a1*a2)\n",
    "print()\n",
    "print(\"Product of matrices\\n\",a1@a2)\n",
    "print()\n",
    "print(\"Difference of matrices\\n\",a2-a1)\n",
    "print()\n",
    "print(\"Exponent of Matrix 1\\n\",a1)\n",
    "print(a1**2)\n",
    "print()\n",
    "print(\"Matrix 1\\n\",a1)\n",
    "print()\n",
    "print(\"Matrix 2\\n\",a2)\n",
    "print()\n",
    "print(\"Quotient of Division\\n\",a2/a1)\n",
    "print()\n",
    "print(\"Remainder of Division\\n\",a2%a1)"
   ]
  },
  {
   "cell_type": "code",
   "execution_count": 14,
   "metadata": {
    "tags": []
   },
   "outputs": [
    {
     "output_type": "stream",
     "name": "stdout",
     "text": "[[1 2]\n [3 4]\n [5 6]]\n[[1 3 5]\n [2 4 6]]\n"
    }
   ],
   "source": [
    "#TRANSPOSE OF MATRIX: it interchange row values in column and vice-versa\n",
    "a1=np.array([[1,2],[3,4],[5,6]])\n",
    "print(a1)\n",
    "a2=a1.transpose()\n",
    "#print(\"After Transpose of Matrix\\n\",a1.transpose())\n",
    "print(a2)"
   ]
  },
  {
   "cell_type": "code",
   "execution_count": 19,
   "metadata": {
    "tags": []
   },
   "outputs": [
    {
     "output_type": "stream",
     "name": "stdout",
     "text": "[ 5  1  3 10  7]\n[ 1  3  5  7 10]\n"
    }
   ],
   "source": [
    "#SORTING: It means arranging the values of array in Ascending order\n",
    "a3=np.array([5,1,3,10,7])\n",
    "print(a3)\n",
    "a3.sort()\n",
    "print(a3)"
   ]
  },
  {
   "cell_type": "code",
   "execution_count": 2,
   "metadata": {
    "tags": []
   },
   "outputs": [
    {
     "output_type": "stream",
     "name": "stdout",
     "text": "Unsorted Sorted Array\n [[ 6  4]\n [10  8]\n [ 1 12]]\nSorted Array\n [[ 4  6]\n [ 8 10]\n [ 1 12]]\n"
    }
   ],
   "source": [
    "#SORTING A 2D ARRAY\n",
    "#NOTE: Elements of 2D are sorted ROW-WISE by deault\n",
    "import numpy as np \n",
    "matrix=np.array([[6,4],[10,8],[1,12]])\n",
    "print(\"Unsorted Sorted Array\\n\",matrix)\n",
    "matrix.sort()\n",
    "print(\"Sorted Array\\n\",matrix)"
   ]
  },
  {
   "cell_type": "code",
   "execution_count": 3,
   "metadata": {
    "tags": []
   },
   "outputs": [
    {
     "output_type": "stream",
     "name": "stdout",
     "text": "Unsorted Sorted Array\n [[ 6  4]\n [10  8]\n [ 1 12]]\nSorted Array\n [[ 1  4]\n [ 6  8]\n [10 12]]\n"
    }
   ],
   "source": [
    "#SORTING A 2D ARRAY COLUMN-WISE \n",
    "#NOTE: Elements of 2D are sorted ROW-WISE by deault\n",
    "import numpy as np \n",
    "matrix=np.array([[6,4],[10,8],[1,12]])\n",
    "print(\"Unsorted Sorted Array\\n\",matrix)\n",
    "matrix.sort(axis=0)\n",
    "print(\"Sorted Array\\n\",matrix)"
   ]
  },
  {
   "cell_type": "code",
   "execution_count": 16,
   "metadata": {
    "tags": []
   },
   "outputs": [
    {
     "output_type": "stream",
     "name": "stdout",
     "text": "Array A\n [1 2 3 4]\nArray B\n [5 6 7 8]\n\nAFTER CONCATENATION\nArray C\n [5 6 7 8 1 2 3 4]\n"
    }
   ],
   "source": [
    "#CONCATENATING (JOINING/appending) ARRAY: It means joining to two or more array elements together in a resultant new array\n",
    "#1D ARRAY\n",
    "import numpy as np \n",
    "a=np.array([1,2,3,4])\n",
    "b=np.array([5,6,7,8])\n",
    "print(\"Array A\\n\",a)\n",
    "print(\"Array B\\n\",b)\n",
    "c=np.concatenate((b,a))\n",
    "print(\"\\nAFTER CONCATENATION\")\n",
    "print(\"Array C\\n\",c)"
   ]
  },
  {
   "cell_type": "code",
   "execution_count": 22,
   "metadata": {
    "tags": []
   },
   "outputs": [
    {
     "output_type": "stream",
     "name": "stdout",
     "text": "MATRIX1\n [[1 2]\n [4 5]\n [6 7]]\nMATRIX2\n [[10 11]\n [12 13]\n [14 15]]\nCONCATENATED MATRIX3\n [[ 1  2 10 11]\n [ 4  5 12 13]\n [ 6  7 14 15]]\n"
    }
   ],
   "source": [
    "#CONCATENATING 2D ARRAYS\n",
    "import numpy as np \n",
    "matrix1=np.array([[1,2],[4,5],[6,7]])\n",
    "matrix2=np.array([[10,11],[12,13],[14,15]])\n",
    "print(\"MATRIX1\\n\",matrix1)\n",
    "print(\"MATRIX2\\n\",matrix2)\n",
    "matrix3=np.concatenate((matrix1,matrix2),axis=1)\n",
    "print(\"CONCATENATED MATRIX3\\n\",matrix3)"
   ]
  },
  {
   "cell_type": "code",
   "execution_count": 28,
   "metadata": {
    "tags": []
   },
   "outputs": [
    {
     "output_type": "stream",
     "name": "stdout",
     "text": "Array 1\n [1 2 3 4]\nMatrix1\n [[1 2]\n [4 5]\n [6 7]]\nRESHAPED\n\nArray 1\n [[1 2]\n [3 4]]\nMatrix1\n [[1 2 4]\n [5 6 7]]\nMatrix1\n [1 2 4 5 6 7]\n"
    }
   ],
   "source": [
    "import numpy as np \n",
    "a=np.array([1,2,3,4])\n",
    "matrix1=np.array([[1,2],[4,5],[6,7]])\n",
    "print(\"Array 1\\n\",a)\n",
    "print(\"Matrix1\\n\",matrix1)\n",
    "print(\"RESHAPED\\n\")\n",
    "print(\"Array 1\\n\",a.reshape(2,2))\n",
    "print(\"Matrix1\\n\",matrix1.reshape(2,3))\n",
    "print(\"Matrix1\\n\",matrix1.reshape(6))"
   ]
  },
  {
   "cell_type": "code",
   "execution_count": 27,
   "metadata": {
    "tags": []
   },
   "outputs": [
    {
     "output_type": "stream",
     "name": "stdout",
     "text": "\nOriginal Array\n [[10 20 30]\n [40 50 60]\n [30 40 50]\n [11 12 13]\n [ 1  2  3]\n [ 6  7  8]\n [ 2  2  2]]\n\nSplitted Array a1\n [[10 20 30]]\n\nSplitted Array a2\n [[40 50 60]\n [30 40 50]]\n\nSplitted Array a3\n [[11 12 13]]\n\nSplitted Array a4\n [[1 2 3]]\n\nSplitted Array a5\n [[6 7 8]\n [2 2 2]]\n"
    }
   ],
   "source": [
    "#SPLIT(): It is used to split a matrix into number of sub array, the first will store first row, second will store next two rows, and third will store rest of the rows of the matrix\n",
    "\n",
    "import numpy as np \n",
    "arr=np.array([[10,20,30],[40,50,60],[30,40,50],[11,12,13],[1,2,3],[6,7,8],[2,2,2]])\n",
    "a1,a2,a3,a4,a5=np.split(arr,[1,3,4,5])\n",
    "print()\n",
    "print(\"Original Array\\n\",arr)\n",
    "print()\n",
    "print(\"Splitted Array a1\\n\",a1)\n",
    "print()\n",
    "print(\"Splitted Array a2\\n\",a2)\n",
    "print()\n",
    "print(\"Splitted Array a3\\n\",a3)\n",
    "print()\n",
    "print(\"Splitted Array a4\\n\",a4)\n",
    "print()\n",
    "print(\"Splitted Array a5\\n\",a5)"
   ]
  },
  {
   "cell_type": "code",
   "execution_count": 23,
   "metadata": {
    "tags": []
   },
   "outputs": [
    {
     "output_type": "stream",
     "name": "stdout",
     "text": "Original Matrix\n [[10 20 30]\n [40 50 60]\n [30 40 50]\n [11 12 13]\n [ 1  2  3]\n [ 6  7  8]\n [ 2  2  2]]\n\nThrough Slicing\n [[10 20 30]\n [40 50 60]\n [30 40 50]\n [11 12 13]\n [ 1  2  3]\n [ 6  7  8]\n [ 2  2  2]]\n\nSubset a1\n [[10 20 30]]\n\nSubset a2\n [[40 50 60]\n [30 40 50]]\n\nSubset a3\n [[11 12 13]\n [ 1  2  3]\n [ 6  7  8]]\n\nSubset a4\n [[2 2 2]]\n"
    }
   ],
   "source": [
    "import numpy as np \n",
    "arr=np.array([[10,20,30],[40,50,60],[30,40,50],[11,12,13],[1,2,3],[6,7,8],[2,2,2]])\n",
    "print(\"Original Matrix\\n\",arr)\n",
    "#print(\"Through Slicing\\n\",arr[sr:er,sc:ec])\n",
    "print(\"\\nThrough Slicing\\n\",arr[:,:])\n",
    "a1=arr[0:1,:]\n",
    "print(\"\\nSubset a1\\n\",a1)\n",
    "a2=arr[1:3,:]\n",
    "print(\"\\nSubset a2\\n\",a2)\n",
    "a3=arr[3:6,:]\n",
    "print(\"\\nSubset a3\\n\",a3)\n",
    "a4=arr[6:,:]\n",
    "print(\"\\nSubset a4\\n\",a4)"
   ]
  },
  {
   "cell_type": "code",
   "execution_count": 11,
   "metadata": {
    "tags": []
   },
   "outputs": [
    {
     "output_type": "stream",
     "name": "stdout",
     "text": "The maximum value in array 1  11\nThe maximum value in array 2 20\nThe minimum value in array 1  -10\nThe minimum value in array 2  5\nOriginal Matrix\n [[15 17 10  5]\n [ 7 20 18 12]]\nThe maximum value in array 2 on axis 0 [15 20 18 12]\nThe maximum value in array 2 on axis 1 [17 20]\nThe minimum value in array 2 on axis 0 [ 7 17 10  5]\nThe minimum value in array 2 on axis 1 [5 7]\nSum of 2D Elements 104\nSum of 2D Elements on axis 1 104\nSum of 2D Elements on axis 0 104\nmean of 2D Elements 13.0\nMean of 2D Elements on axis 1 [11.75 14.25]\nMean of 2D Elements on axis 0 [11.  18.5 14.   8.5]\nThe Standard Deviation of Matrix/Array2  5.049752469181039\nThe Standard Deviation of Matrix/Array2 on axis 1 [4.656984   5.11737237]\nThe Standard Deviation of Matrix/Array2 on axis 0 [4.  1.5 4.  3.5]\n"
    }
   ],
   "source": [
    "#STAISTICAL FUNCTIONS OF NUMPY USED FOR DATA ANALYSIS\n",
    "import numpy as np \n",
    "\n",
    "a=np.array([-2,0,1,5,10,-5,7,6,-10,11])\n",
    "b=np.array([[15,17,10,5],[7,20,18,12]])\n",
    "print(\"The maximum value in array 1 \",a.max())\n",
    "print(\"The maximum value in array 2\",b.max())\n",
    "print(\"The minimum value in array 1 \",a.min())\n",
    "print(\"The minimum value in array 2 \",b.min())\n",
    "print(\"Original Matrix\\n\",b)\n",
    "print('The maximum value in array 2 on axis 0',b.max(axis=0))\n",
    "print('The maximum value in array 2 on axis 1',b.max(axis=1))\n",
    "print('The minimum value in array 2 on axis 0',b.min(axis=0))\n",
    "print('The minimum value in array 2 on axis 1',b.min(axis=1))\n",
    "bsum=b.sum()\n",
    "print(\"Sum of 2D Elements\",bsum)\n",
    "a1sum=b.sum(axis=1)\n",
    "print(\"Sum of 2D Elements on axis 1\",bsum)\n",
    "a0sum=b.sum(axis=0)\n",
    "print(\"Sum of 2D Elements on axis 0\",bsum)\n",
    "m=b.mean()\n",
    "print(\"mean of 2D Elements\",m)\n",
    "a1m=b.mean(axis=1)\n",
    "print(\"Mean of 2D Elements on axis 1\",a1m)\n",
    "a0m=b.mean(axis=0)\n",
    "print(\"Mean of 2D Elements on axis 0\",a0m)\n",
    "sd=b.std()\n",
    "print(\"The Standard Deviation of Matrix/Array2 \",sd)\n",
    "a1sd=b.std(axis=1)\n",
    "print(\"The Standard Deviation of Matrix/Array2 on axis 1\",a1sd)\n",
    "a0sd=b.std(axis=0)\n",
    "print(\"The Standard Deviation of Matrix/Array2 on axis 0\",a0sd)"
   ]
  },
  {
   "cell_type": "code",
   "execution_count": 12,
   "metadata": {
    "tags": []
   },
   "outputs": [
    {
     "output_type": "stream",
     "name": "stdout",
     "text": "[[ 1 15 18 50]\n [ 2 18 15 25]\n [ 3 20 19 55]\n [ 4 12 13 56]\n [ 5 18 15 58]\n [ 6 17 16 52]\n [ 7 14 16 45]]\n"
    }
   ],
   "source": [
    "#October 26, 2020 Monday\n",
    "#READING .CSV FILE DATA IN ARRAY\n",
    "import numpy as np \n",
    "m=np.loadtxt(\"exam.csv\",skiprows=1,delimiter=',',dtype=int)\n",
    "print(m)"
   ]
  },
  {
   "cell_type": "code",
   "execution_count": 7,
   "metadata": {
    "tags": []
   },
   "outputs": [
    {
     "output_type": "stream",
     "name": "stdout",
     "text": "Roll Number =  [1 2 3 4 5 6 7]\nUT1 Marks =  [15 18 20 12 18 17 14]\nUT2 Marks =  [18 15 19 13 15 16 16]\nHalf-Yearly Marks =  [50 25 55 56 58 52 45]\n"
    }
   ],
   "source": [
    "#unpack=True\n",
    "#When argument=True is specified then values of columns of .CSV file can be stored in separate variables\n",
    "import numpy as np \n",
    "r,u1,u2,h=np.loadtxt(\"exam.csv\",skiprows=1,delimiter=',',dtype=int,unpack=True)\n",
    "print(\"Roll Number = \",r)\n",
    "print(\"UT1 Marks = \",u1)\n",
    "print(\"UT2 Marks = \",u2)\n",
    "print(\"Half-Yearly Marks = \",h)"
   ]
  },
  {
   "cell_type": "code",
   "execution_count": 1,
   "metadata": {
    "tags": []
   },
   "outputs": [
    {
     "output_type": "stream",
     "name": "stdout",
     "text": "[[ 1 15 18 50]\n [ 2 18 15 25]\n [ 3 20 19 55]\n [ 4 12 13 56]\n [ 5 18 15 -1]\n [ 6 17 16 52]\n [ 7 14 16 45]]\n"
    }
   ],
   "source": [
    "#genfromtxt() This function automatically handles missing values in .CSV fileexam.csv\n",
    "import numpy as np \n",
    "m=np.genfromtxt(\"exam.csv\",skip_header=1,delimiter=',',dtype=int)\n",
    "print(m)"
   ]
  },
  {
   "cell_type": "code",
   "execution_count": 6,
   "metadata": {
    "tags": []
   },
   "outputs": [
    {
     "output_type": "stream",
     "name": "stdout",
     "text": "[[  1  15  18  50]\n [  2  18  15  25]\n [  3  20  19  55]\n [  4  12  13  56]\n [  5  18  15 100]\n [  6  17  16  52]\n [  7  14  16  45]]\n[[  2  30  36 100]\n [  4  36  30  50]\n [  6  40  38 110]\n [  8  24  26 112]\n [ 10  36  30 200]\n [ 12  34  32 104]\n [ 14  28  32  90]]\n[[  3  45  54 150]\n [  6  54  45  75]\n [  9  60  57 165]\n [ 12  36  39 168]\n [ 15  54  45 300]\n [ 18  51  48 156]\n [ 21  42  48 135]]\n"
    }
   ],
   "source": [
    "#filling_values=value this argument of genfromtext() is used to specify the value in place missing elements of array in .CSV file\n",
    "import numpy as np \n",
    "m=np.genfromtxt(\"exam.csv\",skip_header=1,delimiter=',',dtype=int,filling_values=100)\n",
    "print(m)\n",
    "print(m*2)\n",
    "mm=m*3\n",
    "print(mm)"
   ]
  },
  {
   "cell_type": "code",
   "execution_count": 10,
   "metadata": {},
   "outputs": [],
   "source": [
    "#savetext(destinationfile,sourcearray,delimiter,format) This function is used to store array values in text/.csv file\n",
    "import numpy as np \n",
    "np.savetxt(\"output.txt\",mm,delimiter=' ',fmt='%i')"
   ]
  }
 ]
}